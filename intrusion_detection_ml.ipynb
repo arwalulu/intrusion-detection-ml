{
  "cells": [
    {
      "cell_type": "markdown",
      "metadata": {
        "id": "AU3HYrIX_q2j"
      },
      "source": [
        "##**Machine Learning-Based Intrusion Detection**##"
      ]
    },
    {
      "cell_type": "markdown",
      "source": [
        "# Prompts the user to upload files via Google Colab’s UI. It returns a dict of uploaded files."
      ],
      "metadata": {
        "id": "1K8oRb6Yq34H"
      }
    },
    {
      "cell_type": "code",
      "execution_count": null,
      "metadata": {
        "colab": {
          "base_uri": "https://localhost:8080/",
          "height": 38
        },
        "id": "MoIemqjyx0y2",
        "outputId": "f348529c-0c37-49ba-e4e0-960f0bec0b6f"
      },
      "outputs": [
        {
          "data": {
            "text/html": [
              "\n",
              "     <input type=\"file\" id=\"files-0a8c4156-06cd-4e7f-8fdd-88f67882a3e7\" name=\"files[]\" multiple disabled\n",
              "        style=\"border:none\" />\n",
              "     <output id=\"result-0a8c4156-06cd-4e7f-8fdd-88f67882a3e7\">\n",
              "      Upload widget is only available when the cell has been executed in the\n",
              "      current browser session. Please rerun this cell to enable.\n",
              "      </output>\n",
              "      <script>// Copyright 2017 Google LLC\n",
              "//\n",
              "// Licensed under the Apache License, Version 2.0 (the \"License\");\n",
              "// you may not use this file except in compliance with the License.\n",
              "// You may obtain a copy of the License at\n",
              "//\n",
              "//      http://www.apache.org/licenses/LICENSE-2.0\n",
              "//\n",
              "// Unless required by applicable law or agreed to in writing, software\n",
              "// distributed under the License is distributed on an \"AS IS\" BASIS,\n",
              "// WITHOUT WARRANTIES OR CONDITIONS OF ANY KIND, either express or implied.\n",
              "// See the License for the specific language governing permissions and\n",
              "// limitations under the License.\n",
              "\n",
              "/**\n",
              " * @fileoverview Helpers for google.colab Python module.\n",
              " */\n",
              "(function(scope) {\n",
              "function span(text, styleAttributes = {}) {\n",
              "  const element = document.createElement('span');\n",
              "  element.textContent = text;\n",
              "  for (const key of Object.keys(styleAttributes)) {\n",
              "    element.style[key] = styleAttributes[key];\n",
              "  }\n",
              "  return element;\n",
              "}\n",
              "\n",
              "// Max number of bytes which will be uploaded at a time.\n",
              "const MAX_PAYLOAD_SIZE = 100 * 1024;\n",
              "\n",
              "function _uploadFiles(inputId, outputId) {\n",
              "  const steps = uploadFilesStep(inputId, outputId);\n",
              "  const outputElement = document.getElementById(outputId);\n",
              "  // Cache steps on the outputElement to make it available for the next call\n",
              "  // to uploadFilesContinue from Python.\n",
              "  outputElement.steps = steps;\n",
              "\n",
              "  return _uploadFilesContinue(outputId);\n",
              "}\n",
              "\n",
              "// This is roughly an async generator (not supported in the browser yet),\n",
              "// where there are multiple asynchronous steps and the Python side is going\n",
              "// to poll for completion of each step.\n",
              "// This uses a Promise to block the python side on completion of each step,\n",
              "// then passes the result of the previous step as the input to the next step.\n",
              "function _uploadFilesContinue(outputId) {\n",
              "  const outputElement = document.getElementById(outputId);\n",
              "  const steps = outputElement.steps;\n",
              "\n",
              "  const next = steps.next(outputElement.lastPromiseValue);\n",
              "  return Promise.resolve(next.value.promise).then((value) => {\n",
              "    // Cache the last promise value to make it available to the next\n",
              "    // step of the generator.\n",
              "    outputElement.lastPromiseValue = value;\n",
              "    return next.value.response;\n",
              "  });\n",
              "}\n",
              "\n",
              "/**\n",
              " * Generator function which is called between each async step of the upload\n",
              " * process.\n",
              " * @param {string} inputId Element ID of the input file picker element.\n",
              " * @param {string} outputId Element ID of the output display.\n",
              " * @return {!Iterable<!Object>} Iterable of next steps.\n",
              " */\n",
              "function* uploadFilesStep(inputId, outputId) {\n",
              "  const inputElement = document.getElementById(inputId);\n",
              "  inputElement.disabled = false;\n",
              "\n",
              "  const outputElement = document.getElementById(outputId);\n",
              "  outputElement.innerHTML = '';\n",
              "\n",
              "  const pickedPromise = new Promise((resolve) => {\n",
              "    inputElement.addEventListener('change', (e) => {\n",
              "      resolve(e.target.files);\n",
              "    });\n",
              "  });\n",
              "\n",
              "  const cancel = document.createElement('button');\n",
              "  inputElement.parentElement.appendChild(cancel);\n",
              "  cancel.textContent = 'Cancel upload';\n",
              "  const cancelPromise = new Promise((resolve) => {\n",
              "    cancel.onclick = () => {\n",
              "      resolve(null);\n",
              "    };\n",
              "  });\n",
              "\n",
              "  // Wait for the user to pick the files.\n",
              "  const files = yield {\n",
              "    promise: Promise.race([pickedPromise, cancelPromise]),\n",
              "    response: {\n",
              "      action: 'starting',\n",
              "    }\n",
              "  };\n",
              "\n",
              "  cancel.remove();\n",
              "\n",
              "  // Disable the input element since further picks are not allowed.\n",
              "  inputElement.disabled = true;\n",
              "\n",
              "  if (!files) {\n",
              "    return {\n",
              "      response: {\n",
              "        action: 'complete',\n",
              "      }\n",
              "    };\n",
              "  }\n",
              "\n",
              "  for (const file of files) {\n",
              "    const li = document.createElement('li');\n",
              "    li.append(span(file.name, {fontWeight: 'bold'}));\n",
              "    li.append(span(\n",
              "        `(${file.type || 'n/a'}) - ${file.size} bytes, ` +\n",
              "        `last modified: ${\n",
              "            file.lastModifiedDate ? file.lastModifiedDate.toLocaleDateString() :\n",
              "                                    'n/a'} - `));\n",
              "    const percent = span('0% done');\n",
              "    li.appendChild(percent);\n",
              "\n",
              "    outputElement.appendChild(li);\n",
              "\n",
              "    const fileDataPromise = new Promise((resolve) => {\n",
              "      const reader = new FileReader();\n",
              "      reader.onload = (e) => {\n",
              "        resolve(e.target.result);\n",
              "      };\n",
              "      reader.readAsArrayBuffer(file);\n",
              "    });\n",
              "    // Wait for the data to be ready.\n",
              "    let fileData = yield {\n",
              "      promise: fileDataPromise,\n",
              "      response: {\n",
              "        action: 'continue',\n",
              "      }\n",
              "    };\n",
              "\n",
              "    // Use a chunked sending to avoid message size limits. See b/62115660.\n",
              "    let position = 0;\n",
              "    do {\n",
              "      const length = Math.min(fileData.byteLength - position, MAX_PAYLOAD_SIZE);\n",
              "      const chunk = new Uint8Array(fileData, position, length);\n",
              "      position += length;\n",
              "\n",
              "      const base64 = btoa(String.fromCharCode.apply(null, chunk));\n",
              "      yield {\n",
              "        response: {\n",
              "          action: 'append',\n",
              "          file: file.name,\n",
              "          data: base64,\n",
              "        },\n",
              "      };\n",
              "\n",
              "      let percentDone = fileData.byteLength === 0 ?\n",
              "          100 :\n",
              "          Math.round((position / fileData.byteLength) * 100);\n",
              "      percent.textContent = `${percentDone}% done`;\n",
              "\n",
              "    } while (position < fileData.byteLength);\n",
              "  }\n",
              "\n",
              "  // All done.\n",
              "  yield {\n",
              "    response: {\n",
              "      action: 'complete',\n",
              "    }\n",
              "  };\n",
              "}\n",
              "\n",
              "scope.google = scope.google || {};\n",
              "scope.google.colab = scope.google.colab || {};\n",
              "scope.google.colab._files = {\n",
              "  _uploadFiles,\n",
              "  _uploadFilesContinue,\n",
              "};\n",
              "})(self);\n",
              "</script> "
            ],
            "text/plain": [
              "<IPython.core.display.HTML object>"
            ]
          },
          "metadata": {},
          "output_type": "display_data"
        }
      ],
      "source": [
        "from google.colab import files\n",
        "uploaded = files.upload()"
      ]
    },
    {
      "cell_type": "markdown",
      "source": [
        "# What it does:\n",
        "*   Loads the uploaded CSV (BenignTraffic.pcap.csv) into a DataFrame.\n",
        "*   Adds a Label column with value \"Benign\" to mark this data.\n",
        "* Prints the shape and shows the first few rows.\n",
        "\n"
      ],
      "metadata": {
        "id": "D0yQV-GEq8Zc"
      }
    },
    {
      "cell_type": "code",
      "execution_count": null,
      "metadata": {
        "id": "s5dMJojH_8IA",
        "colab": {
          "base_uri": "https://localhost:8080/",
          "height": 290
        },
        "outputId": "58bcccab-e249-48bc-cf34-39a87dcff1ae"
      },
      "outputs": [
        {
          "output_type": "stream",
          "name": "stdout",
          "text": [
            "✅ File loaded! Shape: (362361, 40)\n"
          ]
        },
        {
          "output_type": "execute_result",
          "data": {
            "text/plain": [
              "   Header_Length  Protocol Type  Time_To_Live         Rate  fin_flag_number  \\\n",
              "0           32.0              6         198.4   430.273287              0.0   \n",
              "1           22.4              6         114.4   484.616113              0.0   \n",
              "2           27.2              6          62.5   398.610950              0.0   \n",
              "3           23.2              6          62.1   425.187438              0.0   \n",
              "4           32.0              6          64.0  1563.521956              0.0   \n",
              "\n",
              "   syn_flag_number  rst_flag_number  psh_flag_number  ack_flag_number  \\\n",
              "0              0.0              0.0              0.0              1.0   \n",
              "1              0.0              0.0              0.2              0.6   \n",
              "2              0.0              0.0              0.0              0.8   \n",
              "3              0.1              0.0              0.0              0.6   \n",
              "4              0.0              0.0              0.1              1.0   \n",
              "\n",
              "   ece_flag_number  ...  Tot sum  Min   Max     AVG          Std  Tot size  \\\n",
              "0              0.0  ...     5004   66  2962   500.4   977.325512     500.4   \n",
              "1              0.0  ...     1404   60   583   140.4   174.827026     140.4   \n",
              "2              0.0  ...    10784   60  1514  1078.4   701.384536    1078.4   \n",
              "3              0.0  ...     7884   60  2962   788.4  1025.156812     788.4   \n",
              "4              0.0  ...    13782  156  1514  1378.2   429.437306    1378.2   \n",
              "\n",
              "        IAT  Number      Variance   Label  \n",
              "0  0.002324      10  9.551652e+05  Benign  \n",
              "1  0.002179      10  3.056449e+04  Benign  \n",
              "2  0.003173      10  4.919403e+05  Benign  \n",
              "3  0.002507      10  1.050946e+06  Benign  \n",
              "4  0.000660      10  1.844164e+05  Benign  \n",
              "\n",
              "[5 rows x 40 columns]"
            ],
            "text/html": [
              "\n",
              "  <div id=\"df-78b61d53-0913-4a18-8e86-e0e7c927d689\" class=\"colab-df-container\">\n",
              "    <div>\n",
              "<style scoped>\n",
              "    .dataframe tbody tr th:only-of-type {\n",
              "        vertical-align: middle;\n",
              "    }\n",
              "\n",
              "    .dataframe tbody tr th {\n",
              "        vertical-align: top;\n",
              "    }\n",
              "\n",
              "    .dataframe thead th {\n",
              "        text-align: right;\n",
              "    }\n",
              "</style>\n",
              "<table border=\"1\" class=\"dataframe\">\n",
              "  <thead>\n",
              "    <tr style=\"text-align: right;\">\n",
              "      <th></th>\n",
              "      <th>Header_Length</th>\n",
              "      <th>Protocol Type</th>\n",
              "      <th>Time_To_Live</th>\n",
              "      <th>Rate</th>\n",
              "      <th>fin_flag_number</th>\n",
              "      <th>syn_flag_number</th>\n",
              "      <th>rst_flag_number</th>\n",
              "      <th>psh_flag_number</th>\n",
              "      <th>ack_flag_number</th>\n",
              "      <th>ece_flag_number</th>\n",
              "      <th>...</th>\n",
              "      <th>Tot sum</th>\n",
              "      <th>Min</th>\n",
              "      <th>Max</th>\n",
              "      <th>AVG</th>\n",
              "      <th>Std</th>\n",
              "      <th>Tot size</th>\n",
              "      <th>IAT</th>\n",
              "      <th>Number</th>\n",
              "      <th>Variance</th>\n",
              "      <th>Label</th>\n",
              "    </tr>\n",
              "  </thead>\n",
              "  <tbody>\n",
              "    <tr>\n",
              "      <th>0</th>\n",
              "      <td>32.0</td>\n",
              "      <td>6</td>\n",
              "      <td>198.4</td>\n",
              "      <td>430.273287</td>\n",
              "      <td>0.0</td>\n",
              "      <td>0.0</td>\n",
              "      <td>0.0</td>\n",
              "      <td>0.0</td>\n",
              "      <td>1.0</td>\n",
              "      <td>0.0</td>\n",
              "      <td>...</td>\n",
              "      <td>5004</td>\n",
              "      <td>66</td>\n",
              "      <td>2962</td>\n",
              "      <td>500.4</td>\n",
              "      <td>977.325512</td>\n",
              "      <td>500.4</td>\n",
              "      <td>0.002324</td>\n",
              "      <td>10</td>\n",
              "      <td>9.551652e+05</td>\n",
              "      <td>Benign</td>\n",
              "    </tr>\n",
              "    <tr>\n",
              "      <th>1</th>\n",
              "      <td>22.4</td>\n",
              "      <td>6</td>\n",
              "      <td>114.4</td>\n",
              "      <td>484.616113</td>\n",
              "      <td>0.0</td>\n",
              "      <td>0.0</td>\n",
              "      <td>0.0</td>\n",
              "      <td>0.2</td>\n",
              "      <td>0.6</td>\n",
              "      <td>0.0</td>\n",
              "      <td>...</td>\n",
              "      <td>1404</td>\n",
              "      <td>60</td>\n",
              "      <td>583</td>\n",
              "      <td>140.4</td>\n",
              "      <td>174.827026</td>\n",
              "      <td>140.4</td>\n",
              "      <td>0.002179</td>\n",
              "      <td>10</td>\n",
              "      <td>3.056449e+04</td>\n",
              "      <td>Benign</td>\n",
              "    </tr>\n",
              "    <tr>\n",
              "      <th>2</th>\n",
              "      <td>27.2</td>\n",
              "      <td>6</td>\n",
              "      <td>62.5</td>\n",
              "      <td>398.610950</td>\n",
              "      <td>0.0</td>\n",
              "      <td>0.0</td>\n",
              "      <td>0.0</td>\n",
              "      <td>0.0</td>\n",
              "      <td>0.8</td>\n",
              "      <td>0.0</td>\n",
              "      <td>...</td>\n",
              "      <td>10784</td>\n",
              "      <td>60</td>\n",
              "      <td>1514</td>\n",
              "      <td>1078.4</td>\n",
              "      <td>701.384536</td>\n",
              "      <td>1078.4</td>\n",
              "      <td>0.003173</td>\n",
              "      <td>10</td>\n",
              "      <td>4.919403e+05</td>\n",
              "      <td>Benign</td>\n",
              "    </tr>\n",
              "    <tr>\n",
              "      <th>3</th>\n",
              "      <td>23.2</td>\n",
              "      <td>6</td>\n",
              "      <td>62.1</td>\n",
              "      <td>425.187438</td>\n",
              "      <td>0.0</td>\n",
              "      <td>0.1</td>\n",
              "      <td>0.0</td>\n",
              "      <td>0.0</td>\n",
              "      <td>0.6</td>\n",
              "      <td>0.0</td>\n",
              "      <td>...</td>\n",
              "      <td>7884</td>\n",
              "      <td>60</td>\n",
              "      <td>2962</td>\n",
              "      <td>788.4</td>\n",
              "      <td>1025.156812</td>\n",
              "      <td>788.4</td>\n",
              "      <td>0.002507</td>\n",
              "      <td>10</td>\n",
              "      <td>1.050946e+06</td>\n",
              "      <td>Benign</td>\n",
              "    </tr>\n",
              "    <tr>\n",
              "      <th>4</th>\n",
              "      <td>32.0</td>\n",
              "      <td>6</td>\n",
              "      <td>64.0</td>\n",
              "      <td>1563.521956</td>\n",
              "      <td>0.0</td>\n",
              "      <td>0.0</td>\n",
              "      <td>0.0</td>\n",
              "      <td>0.1</td>\n",
              "      <td>1.0</td>\n",
              "      <td>0.0</td>\n",
              "      <td>...</td>\n",
              "      <td>13782</td>\n",
              "      <td>156</td>\n",
              "      <td>1514</td>\n",
              "      <td>1378.2</td>\n",
              "      <td>429.437306</td>\n",
              "      <td>1378.2</td>\n",
              "      <td>0.000660</td>\n",
              "      <td>10</td>\n",
              "      <td>1.844164e+05</td>\n",
              "      <td>Benign</td>\n",
              "    </tr>\n",
              "  </tbody>\n",
              "</table>\n",
              "<p>5 rows × 40 columns</p>\n",
              "</div>\n",
              "    <div class=\"colab-df-buttons\">\n",
              "\n",
              "  <div class=\"colab-df-container\">\n",
              "    <button class=\"colab-df-convert\" onclick=\"convertToInteractive('df-78b61d53-0913-4a18-8e86-e0e7c927d689')\"\n",
              "            title=\"Convert this dataframe to an interactive table.\"\n",
              "            style=\"display:none;\">\n",
              "\n",
              "  <svg xmlns=\"http://www.w3.org/2000/svg\" height=\"24px\" viewBox=\"0 -960 960 960\">\n",
              "    <path d=\"M120-120v-720h720v720H120Zm60-500h600v-160H180v160Zm220 220h160v-160H400v160Zm0 220h160v-160H400v160ZM180-400h160v-160H180v160Zm440 0h160v-160H620v160ZM180-180h160v-160H180v160Zm440 0h160v-160H620v160Z\"/>\n",
              "  </svg>\n",
              "    </button>\n",
              "\n",
              "  <style>\n",
              "    .colab-df-container {\n",
              "      display:flex;\n",
              "      gap: 12px;\n",
              "    }\n",
              "\n",
              "    .colab-df-convert {\n",
              "      background-color: #E8F0FE;\n",
              "      border: none;\n",
              "      border-radius: 50%;\n",
              "      cursor: pointer;\n",
              "      display: none;\n",
              "      fill: #1967D2;\n",
              "      height: 32px;\n",
              "      padding: 0 0 0 0;\n",
              "      width: 32px;\n",
              "    }\n",
              "\n",
              "    .colab-df-convert:hover {\n",
              "      background-color: #E2EBFA;\n",
              "      box-shadow: 0px 1px 2px rgba(60, 64, 67, 0.3), 0px 1px 3px 1px rgba(60, 64, 67, 0.15);\n",
              "      fill: #174EA6;\n",
              "    }\n",
              "\n",
              "    .colab-df-buttons div {\n",
              "      margin-bottom: 4px;\n",
              "    }\n",
              "\n",
              "    [theme=dark] .colab-df-convert {\n",
              "      background-color: #3B4455;\n",
              "      fill: #D2E3FC;\n",
              "    }\n",
              "\n",
              "    [theme=dark] .colab-df-convert:hover {\n",
              "      background-color: #434B5C;\n",
              "      box-shadow: 0px 1px 3px 1px rgba(0, 0, 0, 0.15);\n",
              "      filter: drop-shadow(0px 1px 2px rgba(0, 0, 0, 0.3));\n",
              "      fill: #FFFFFF;\n",
              "    }\n",
              "  </style>\n",
              "\n",
              "    <script>\n",
              "      const buttonEl =\n",
              "        document.querySelector('#df-78b61d53-0913-4a18-8e86-e0e7c927d689 button.colab-df-convert');\n",
              "      buttonEl.style.display =\n",
              "        google.colab.kernel.accessAllowed ? 'block' : 'none';\n",
              "\n",
              "      async function convertToInteractive(key) {\n",
              "        const element = document.querySelector('#df-78b61d53-0913-4a18-8e86-e0e7c927d689');\n",
              "        const dataTable =\n",
              "          await google.colab.kernel.invokeFunction('convertToInteractive',\n",
              "                                                    [key], {});\n",
              "        if (!dataTable) return;\n",
              "\n",
              "        const docLinkHtml = 'Like what you see? Visit the ' +\n",
              "          '<a target=\"_blank\" href=https://colab.research.google.com/notebooks/data_table.ipynb>data table notebook</a>'\n",
              "          + ' to learn more about interactive tables.';\n",
              "        element.innerHTML = '';\n",
              "        dataTable['output_type'] = 'display_data';\n",
              "        await google.colab.output.renderOutput(dataTable, element);\n",
              "        const docLink = document.createElement('div');\n",
              "        docLink.innerHTML = docLinkHtml;\n",
              "        element.appendChild(docLink);\n",
              "      }\n",
              "    </script>\n",
              "  </div>\n",
              "\n",
              "\n",
              "    <div id=\"df-6ca6e779-c92f-4baa-aed7-925e42dd8822\">\n",
              "      <button class=\"colab-df-quickchart\" onclick=\"quickchart('df-6ca6e779-c92f-4baa-aed7-925e42dd8822')\"\n",
              "                title=\"Suggest charts\"\n",
              "                style=\"display:none;\">\n",
              "\n",
              "<svg xmlns=\"http://www.w3.org/2000/svg\" height=\"24px\"viewBox=\"0 0 24 24\"\n",
              "     width=\"24px\">\n",
              "    <g>\n",
              "        <path d=\"M19 3H5c-1.1 0-2 .9-2 2v14c0 1.1.9 2 2 2h14c1.1 0 2-.9 2-2V5c0-1.1-.9-2-2-2zM9 17H7v-7h2v7zm4 0h-2V7h2v10zm4 0h-2v-4h2v4z\"/>\n",
              "    </g>\n",
              "</svg>\n",
              "      </button>\n",
              "\n",
              "<style>\n",
              "  .colab-df-quickchart {\n",
              "      --bg-color: #E8F0FE;\n",
              "      --fill-color: #1967D2;\n",
              "      --hover-bg-color: #E2EBFA;\n",
              "      --hover-fill-color: #174EA6;\n",
              "      --disabled-fill-color: #AAA;\n",
              "      --disabled-bg-color: #DDD;\n",
              "  }\n",
              "\n",
              "  [theme=dark] .colab-df-quickchart {\n",
              "      --bg-color: #3B4455;\n",
              "      --fill-color: #D2E3FC;\n",
              "      --hover-bg-color: #434B5C;\n",
              "      --hover-fill-color: #FFFFFF;\n",
              "      --disabled-bg-color: #3B4455;\n",
              "      --disabled-fill-color: #666;\n",
              "  }\n",
              "\n",
              "  .colab-df-quickchart {\n",
              "    background-color: var(--bg-color);\n",
              "    border: none;\n",
              "    border-radius: 50%;\n",
              "    cursor: pointer;\n",
              "    display: none;\n",
              "    fill: var(--fill-color);\n",
              "    height: 32px;\n",
              "    padding: 0;\n",
              "    width: 32px;\n",
              "  }\n",
              "\n",
              "  .colab-df-quickchart:hover {\n",
              "    background-color: var(--hover-bg-color);\n",
              "    box-shadow: 0 1px 2px rgba(60, 64, 67, 0.3), 0 1px 3px 1px rgba(60, 64, 67, 0.15);\n",
              "    fill: var(--button-hover-fill-color);\n",
              "  }\n",
              "\n",
              "  .colab-df-quickchart-complete:disabled,\n",
              "  .colab-df-quickchart-complete:disabled:hover {\n",
              "    background-color: var(--disabled-bg-color);\n",
              "    fill: var(--disabled-fill-color);\n",
              "    box-shadow: none;\n",
              "  }\n",
              "\n",
              "  .colab-df-spinner {\n",
              "    border: 2px solid var(--fill-color);\n",
              "    border-color: transparent;\n",
              "    border-bottom-color: var(--fill-color);\n",
              "    animation:\n",
              "      spin 1s steps(1) infinite;\n",
              "  }\n",
              "\n",
              "  @keyframes spin {\n",
              "    0% {\n",
              "      border-color: transparent;\n",
              "      border-bottom-color: var(--fill-color);\n",
              "      border-left-color: var(--fill-color);\n",
              "    }\n",
              "    20% {\n",
              "      border-color: transparent;\n",
              "      border-left-color: var(--fill-color);\n",
              "      border-top-color: var(--fill-color);\n",
              "    }\n",
              "    30% {\n",
              "      border-color: transparent;\n",
              "      border-left-color: var(--fill-color);\n",
              "      border-top-color: var(--fill-color);\n",
              "      border-right-color: var(--fill-color);\n",
              "    }\n",
              "    40% {\n",
              "      border-color: transparent;\n",
              "      border-right-color: var(--fill-color);\n",
              "      border-top-color: var(--fill-color);\n",
              "    }\n",
              "    60% {\n",
              "      border-color: transparent;\n",
              "      border-right-color: var(--fill-color);\n",
              "    }\n",
              "    80% {\n",
              "      border-color: transparent;\n",
              "      border-right-color: var(--fill-color);\n",
              "      border-bottom-color: var(--fill-color);\n",
              "    }\n",
              "    90% {\n",
              "      border-color: transparent;\n",
              "      border-bottom-color: var(--fill-color);\n",
              "    }\n",
              "  }\n",
              "</style>\n",
              "\n",
              "      <script>\n",
              "        async function quickchart(key) {\n",
              "          const quickchartButtonEl =\n",
              "            document.querySelector('#' + key + ' button');\n",
              "          quickchartButtonEl.disabled = true;  // To prevent multiple clicks.\n",
              "          quickchartButtonEl.classList.add('colab-df-spinner');\n",
              "          try {\n",
              "            const charts = await google.colab.kernel.invokeFunction(\n",
              "                'suggestCharts', [key], {});\n",
              "          } catch (error) {\n",
              "            console.error('Error during call to suggestCharts:', error);\n",
              "          }\n",
              "          quickchartButtonEl.classList.remove('colab-df-spinner');\n",
              "          quickchartButtonEl.classList.add('colab-df-quickchart-complete');\n",
              "        }\n",
              "        (() => {\n",
              "          let quickchartButtonEl =\n",
              "            document.querySelector('#df-6ca6e779-c92f-4baa-aed7-925e42dd8822 button');\n",
              "          quickchartButtonEl.style.display =\n",
              "            google.colab.kernel.accessAllowed ? 'block' : 'none';\n",
              "        })();\n",
              "      </script>\n",
              "    </div>\n",
              "\n",
              "    </div>\n",
              "  </div>\n"
            ],
            "application/vnd.google.colaboratory.intrinsic+json": {
              "type": "dataframe",
              "variable_name": "benign_df"
            }
          },
          "metadata": {},
          "execution_count": 66
        }
      ],
      "source": [
        "import pandas as pd\n",
        "\n",
        "# Load the uploaded file\n",
        "benign_df = pd.read_csv(\"BenignTraffic.pcap.csv\")\n",
        "\n",
        "# Add the label\n",
        "benign_df[\"Label\"] = \"Benign\"\n",
        "\n",
        "# Preview the data\n",
        "print(\"✅ File loaded! Shape:\", benign_df.shape)\n",
        "benign_df.head()\n",
        "\n"
      ]
    },
    {
      "cell_type": "markdown",
      "source": [
        "# Counts missing values per column and prints only those with actual nulls, sorted from most to least."
      ],
      "metadata": {
        "id": "qNVL331kvpB3"
      }
    },
    {
      "cell_type": "code",
      "execution_count": null,
      "metadata": {
        "id": "HJd18S_i2gR9",
        "colab": {
          "base_uri": "https://localhost:8080/"
        },
        "outputId": "fa8203ee-65cc-4a83-9c53-417c604aa3b1"
      },
      "outputs": [
        {
          "output_type": "stream",
          "name": "stdout",
          "text": [
            "Missing values per column:\n",
            " Std         19\n",
            "Variance    19\n",
            "dtype: int64\n"
          ]
        }
      ],
      "source": [
        "# Check how many missing values are in each column\n",
        "missing = benign_df.isnull().sum()\n",
        "missing = missing[missing > 0].sort_values(ascending=False)\n",
        "print(\"Missing values per column:\\n\", missing)"
      ]
    },
    {
      "cell_type": "markdown",
      "source": [
        "#Fills missing values in Std and Variance columns using column-wise mean.\n",
        "\n",
        "#Verifies that the missing values are gone in those two columns."
      ],
      "metadata": {
        "id": "ZXYKL4Lwvtt4"
      }
    },
    {
      "cell_type": "code",
      "execution_count": null,
      "metadata": {
        "id": "sQpb1pYA2qIp",
        "colab": {
          "base_uri": "https://localhost:8080/"
        },
        "outputId": "e9dd21ed-cfd1-4e23-f8ce-ca64d5ad58d7"
      },
      "outputs": [
        {
          "output_type": "stream",
          "name": "stdout",
          "text": [
            "✅ Missing values after filling:\n",
            "Std         0\n",
            "Variance    0\n",
            "dtype: int64\n"
          ]
        }
      ],
      "source": [
        "# Fill missing values in 'Std' and 'Variance' columns with their mean (recommended style)\n",
        "benign_df[\"Std\"] = benign_df[\"Std\"].fillna(benign_df[\"Std\"].mean())\n",
        "benign_df[\"Variance\"] = benign_df[\"Variance\"].fillna(benign_df[\"Variance\"].mean())\n",
        "\n",
        "# Double check\n",
        "print(\"✅ Missing values after filling:\")\n",
        "print(benign_df[[\"Std\", \"Variance\"]].isnull().sum())\n"
      ]
    },
    {
      "cell_type": "markdown",
      "source": [
        "# Extracts numeric columns and Checks for infinite values (+inf and -inf) across the dataset.\n"
      ],
      "metadata": {
        "id": "w8VObeWhv3-H"
      }
    },
    {
      "cell_type": "code",
      "execution_count": null,
      "metadata": {
        "id": "Pr0Z1_7i3tkK",
        "colab": {
          "base_uri": "https://localhost:8080/"
        },
        "outputId": "3050acc1-da9d-4cc6-8583-1f2bab3271a0"
      },
      "outputs": [
        {
          "output_type": "stream",
          "name": "stdout",
          "text": [
            "Number of +inf values: 19\n",
            "Number of -inf values: 0\n"
          ]
        }
      ],
      "source": [
        "import numpy as np\n",
        "\n",
        "# Select only numeric columns\n",
        "numeric_df = benign_df.select_dtypes(include=[\"float64\", \"int64\"])\n",
        "\n",
        "# Now safely check for infinity values\n",
        "print(\"Number of +inf values:\", np.isinf(numeric_df).sum().sum())\n",
        "print(\"Number of -inf values:\", np.isneginf(numeric_df).sum().sum())\n"
      ]
    },
    {
      "cell_type": "markdown",
      "source": [
        "# Cleans up the benign dataset by converting infinite values to NaNs, then replaces all missing numeric values with the column means."
      ],
      "metadata": {
        "id": "4t-YPDQmwAwa"
      }
    },
    {
      "cell_type": "code",
      "execution_count": null,
      "metadata": {
        "id": "LIQDHU7o4Fb0"
      },
      "outputs": [],
      "source": [
        "import numpy as np\n",
        "\n",
        "# Replace +inf and -inf with NaN\n",
        "benign_df.replace([np.inf, -np.inf], np.nan, inplace=True)\n",
        "\n",
        "# Fill remaining NaNs with column means (only numeric columns)\n",
        "benign_df.fillna(benign_df.mean(numeric_only=True), inplace=True)\n"
      ]
    },
    {
      "cell_type": "markdown",
      "source": [
        "# Standardizes numeric features (mean=0, std=1). Ensures consistent scaling across features."
      ],
      "metadata": {
        "id": "_Q_eT6CwwWWM"
      }
    },
    {
      "cell_type": "code",
      "execution_count": null,
      "metadata": {
        "id": "dpxtth6C4MXF",
        "colab": {
          "base_uri": "https://localhost:8080/",
          "height": 471
        },
        "outputId": "dd0117fb-3306-4854-9aa4-1c8c92f37101"
      },
      "outputs": [
        {
          "output_type": "stream",
          "name": "stdout",
          "text": [
            "✅ Normalization complete!\n"
          ]
        },
        {
          "output_type": "execute_result",
          "data": {
            "text/plain": [
              "       Header_Length  Protocol Type  Time_To_Live          Rate  \\\n",
              "count   3.623610e+05   3.623610e+05  3.623610e+05  3.623610e+05   \n",
              "mean    7.259924e-16   1.173384e-16 -1.161149e-15 -5.145322e-17   \n",
              "std     1.000001e+00   1.000001e+00  1.000001e+00  1.000001e+00   \n",
              "min    -3.823590e+00  -2.125840e+00 -2.243172e+00 -1.170011e-01   \n",
              "25%    -6.159851e-01  -3.311621e-01 -7.960206e-01 -1.147620e-01   \n",
              "50%     1.859162e-01  -3.311621e-01 -3.101912e-01 -1.125733e-01   \n",
              "75%     7.587027e-01  -3.311621e-01  4.733380e-01 -1.011152e-01   \n",
              "max     4.768209e+00   2.959080e+00  2.937630e+00  9.073796e+01   \n",
              "\n",
              "       fin_flag_number  syn_flag_number  rst_flag_number  psh_flag_number  \\\n",
              "count     3.623610e+05     3.623610e+05     3.623610e+05     3.623610e+05   \n",
              "mean      1.396139e-17     9.569045e-17     3.631531e-17    -4.395486e-16   \n",
              "std       1.000001e+00     1.000001e+00     1.000001e+00     1.000001e+00   \n",
              "min      -4.483514e-01    -4.908701e-01    -9.906219e-02    -1.108048e+00   \n",
              "25%      -4.483514e-01    -4.908701e-01    -9.906219e-02    -4.676603e-01   \n",
              "50%      -4.483514e-01    -4.908701e-01    -9.906219e-02    -4.676603e-01   \n",
              "75%      -4.483514e-01    -4.908701e-01    -9.906219e-02     8.131152e-01   \n",
              "max       1.724922e+01     1.870986e+01     5.018287e+01     5.295830e+00   \n",
              "\n",
              "       ack_flag_number  ece_flag_number  ...           LLC       Tot sum  \\\n",
              "count     3.623610e+05     3.623610e+05  ...  3.623610e+05  3.623610e+05   \n",
              "mean     -4.091159e-16     3.921740e-18  ...  3.454268e-16 -5.490435e-17   \n",
              "std       1.000001e+00     1.000001e+00  ...  1.000001e+00  1.000001e+00   \n",
              "min      -3.087644e+00    -5.470306e-02  ... -1.642874e+01 -8.488443e-01   \n",
              "25%      -6.804445e-01    -5.470306e-02  ...  4.114476e-01 -7.024550e-01   \n",
              "50%       4.785773e-01    -5.470306e-02  ...  4.114476e-01 -5.874124e-01   \n",
              "75%       9.243549e-01    -5.470306e-02  ...  4.114476e-01  5.818217e-01   \n",
              "max       9.243549e-01     6.488307e+01  ...  4.114476e-01  1.392222e+01   \n",
              "\n",
              "                Min           Max           AVG           Std      Tot size  \\\n",
              "count  3.623610e+05  3.623610e+05  3.623610e+05  3.623610e+05  3.623610e+05   \n",
              "mean  -2.353044e-17  1.380452e-17 -6.557149e-17 -2.861301e-16 -6.557149e-17   \n",
              "std    1.000001e+00  1.000001e+00  1.000001e+00  1.000001e+00  1.000001e+00   \n",
              "min   -2.143832e-01 -7.459055e-01 -7.637924e-01 -7.824389e-01 -7.637924e-01   \n",
              "25%   -2.143832e-01 -6.589617e-01 -7.021200e-01 -6.932138e-01 -7.021200e-01   \n",
              "50%   -1.922551e-01 -4.835400e-01 -5.872279e-01 -5.383936e-01 -5.872279e-01   \n",
              "75%   -1.922551e-01  6.850859e-01  5.804774e-01  4.198643e-01  5.804774e-01   \n",
              "max    4.965863e+01  1.851162e+01  2.040361e+01  1.759744e+01  2.040361e+01   \n",
              "\n",
              "                IAT        Number      Variance  \n",
              "count  3.623610e+05  3.623610e+05  3.623610e+05  \n",
              "mean   2.026755e-16 -3.512251e-15 -9.867097e-17  \n",
              "std    1.000001e+00  1.000001e+00  1.000001e+00  \n",
              "min   -9.890960e-01 -7.619459e+01 -3.248497e-01  \n",
              "25%   -7.572484e-01  1.951362e-02 -3.232457e-01  \n",
              "50%   -2.300445e-01  1.951362e-02 -3.128496e-01  \n",
              "75%    3.863591e-01  1.951362e-02 -3.354317e-02  \n",
              "max    1.393736e+01  1.951362e-02  6.774137e+01  \n",
              "\n",
              "[8 rows x 39 columns]"
            ],
            "text/html": [
              "\n",
              "  <div id=\"df-53811653-57f1-4380-9568-ed3cdcf5929a\" class=\"colab-df-container\">\n",
              "    <div>\n",
              "<style scoped>\n",
              "    .dataframe tbody tr th:only-of-type {\n",
              "        vertical-align: middle;\n",
              "    }\n",
              "\n",
              "    .dataframe tbody tr th {\n",
              "        vertical-align: top;\n",
              "    }\n",
              "\n",
              "    .dataframe thead th {\n",
              "        text-align: right;\n",
              "    }\n",
              "</style>\n",
              "<table border=\"1\" class=\"dataframe\">\n",
              "  <thead>\n",
              "    <tr style=\"text-align: right;\">\n",
              "      <th></th>\n",
              "      <th>Header_Length</th>\n",
              "      <th>Protocol Type</th>\n",
              "      <th>Time_To_Live</th>\n",
              "      <th>Rate</th>\n",
              "      <th>fin_flag_number</th>\n",
              "      <th>syn_flag_number</th>\n",
              "      <th>rst_flag_number</th>\n",
              "      <th>psh_flag_number</th>\n",
              "      <th>ack_flag_number</th>\n",
              "      <th>ece_flag_number</th>\n",
              "      <th>...</th>\n",
              "      <th>LLC</th>\n",
              "      <th>Tot sum</th>\n",
              "      <th>Min</th>\n",
              "      <th>Max</th>\n",
              "      <th>AVG</th>\n",
              "      <th>Std</th>\n",
              "      <th>Tot size</th>\n",
              "      <th>IAT</th>\n",
              "      <th>Number</th>\n",
              "      <th>Variance</th>\n",
              "    </tr>\n",
              "  </thead>\n",
              "  <tbody>\n",
              "    <tr>\n",
              "      <th>count</th>\n",
              "      <td>3.623610e+05</td>\n",
              "      <td>3.623610e+05</td>\n",
              "      <td>3.623610e+05</td>\n",
              "      <td>3.623610e+05</td>\n",
              "      <td>3.623610e+05</td>\n",
              "      <td>3.623610e+05</td>\n",
              "      <td>3.623610e+05</td>\n",
              "      <td>3.623610e+05</td>\n",
              "      <td>3.623610e+05</td>\n",
              "      <td>3.623610e+05</td>\n",
              "      <td>...</td>\n",
              "      <td>3.623610e+05</td>\n",
              "      <td>3.623610e+05</td>\n",
              "      <td>3.623610e+05</td>\n",
              "      <td>3.623610e+05</td>\n",
              "      <td>3.623610e+05</td>\n",
              "      <td>3.623610e+05</td>\n",
              "      <td>3.623610e+05</td>\n",
              "      <td>3.623610e+05</td>\n",
              "      <td>3.623610e+05</td>\n",
              "      <td>3.623610e+05</td>\n",
              "    </tr>\n",
              "    <tr>\n",
              "      <th>mean</th>\n",
              "      <td>7.259924e-16</td>\n",
              "      <td>1.173384e-16</td>\n",
              "      <td>-1.161149e-15</td>\n",
              "      <td>-5.145322e-17</td>\n",
              "      <td>1.396139e-17</td>\n",
              "      <td>9.569045e-17</td>\n",
              "      <td>3.631531e-17</td>\n",
              "      <td>-4.395486e-16</td>\n",
              "      <td>-4.091159e-16</td>\n",
              "      <td>3.921740e-18</td>\n",
              "      <td>...</td>\n",
              "      <td>3.454268e-16</td>\n",
              "      <td>-5.490435e-17</td>\n",
              "      <td>-2.353044e-17</td>\n",
              "      <td>1.380452e-17</td>\n",
              "      <td>-6.557149e-17</td>\n",
              "      <td>-2.861301e-16</td>\n",
              "      <td>-6.557149e-17</td>\n",
              "      <td>2.026755e-16</td>\n",
              "      <td>-3.512251e-15</td>\n",
              "      <td>-9.867097e-17</td>\n",
              "    </tr>\n",
              "    <tr>\n",
              "      <th>std</th>\n",
              "      <td>1.000001e+00</td>\n",
              "      <td>1.000001e+00</td>\n",
              "      <td>1.000001e+00</td>\n",
              "      <td>1.000001e+00</td>\n",
              "      <td>1.000001e+00</td>\n",
              "      <td>1.000001e+00</td>\n",
              "      <td>1.000001e+00</td>\n",
              "      <td>1.000001e+00</td>\n",
              "      <td>1.000001e+00</td>\n",
              "      <td>1.000001e+00</td>\n",
              "      <td>...</td>\n",
              "      <td>1.000001e+00</td>\n",
              "      <td>1.000001e+00</td>\n",
              "      <td>1.000001e+00</td>\n",
              "      <td>1.000001e+00</td>\n",
              "      <td>1.000001e+00</td>\n",
              "      <td>1.000001e+00</td>\n",
              "      <td>1.000001e+00</td>\n",
              "      <td>1.000001e+00</td>\n",
              "      <td>1.000001e+00</td>\n",
              "      <td>1.000001e+00</td>\n",
              "    </tr>\n",
              "    <tr>\n",
              "      <th>min</th>\n",
              "      <td>-3.823590e+00</td>\n",
              "      <td>-2.125840e+00</td>\n",
              "      <td>-2.243172e+00</td>\n",
              "      <td>-1.170011e-01</td>\n",
              "      <td>-4.483514e-01</td>\n",
              "      <td>-4.908701e-01</td>\n",
              "      <td>-9.906219e-02</td>\n",
              "      <td>-1.108048e+00</td>\n",
              "      <td>-3.087644e+00</td>\n",
              "      <td>-5.470306e-02</td>\n",
              "      <td>...</td>\n",
              "      <td>-1.642874e+01</td>\n",
              "      <td>-8.488443e-01</td>\n",
              "      <td>-2.143832e-01</td>\n",
              "      <td>-7.459055e-01</td>\n",
              "      <td>-7.637924e-01</td>\n",
              "      <td>-7.824389e-01</td>\n",
              "      <td>-7.637924e-01</td>\n",
              "      <td>-9.890960e-01</td>\n",
              "      <td>-7.619459e+01</td>\n",
              "      <td>-3.248497e-01</td>\n",
              "    </tr>\n",
              "    <tr>\n",
              "      <th>25%</th>\n",
              "      <td>-6.159851e-01</td>\n",
              "      <td>-3.311621e-01</td>\n",
              "      <td>-7.960206e-01</td>\n",
              "      <td>-1.147620e-01</td>\n",
              "      <td>-4.483514e-01</td>\n",
              "      <td>-4.908701e-01</td>\n",
              "      <td>-9.906219e-02</td>\n",
              "      <td>-4.676603e-01</td>\n",
              "      <td>-6.804445e-01</td>\n",
              "      <td>-5.470306e-02</td>\n",
              "      <td>...</td>\n",
              "      <td>4.114476e-01</td>\n",
              "      <td>-7.024550e-01</td>\n",
              "      <td>-2.143832e-01</td>\n",
              "      <td>-6.589617e-01</td>\n",
              "      <td>-7.021200e-01</td>\n",
              "      <td>-6.932138e-01</td>\n",
              "      <td>-7.021200e-01</td>\n",
              "      <td>-7.572484e-01</td>\n",
              "      <td>1.951362e-02</td>\n",
              "      <td>-3.232457e-01</td>\n",
              "    </tr>\n",
              "    <tr>\n",
              "      <th>50%</th>\n",
              "      <td>1.859162e-01</td>\n",
              "      <td>-3.311621e-01</td>\n",
              "      <td>-3.101912e-01</td>\n",
              "      <td>-1.125733e-01</td>\n",
              "      <td>-4.483514e-01</td>\n",
              "      <td>-4.908701e-01</td>\n",
              "      <td>-9.906219e-02</td>\n",
              "      <td>-4.676603e-01</td>\n",
              "      <td>4.785773e-01</td>\n",
              "      <td>-5.470306e-02</td>\n",
              "      <td>...</td>\n",
              "      <td>4.114476e-01</td>\n",
              "      <td>-5.874124e-01</td>\n",
              "      <td>-1.922551e-01</td>\n",
              "      <td>-4.835400e-01</td>\n",
              "      <td>-5.872279e-01</td>\n",
              "      <td>-5.383936e-01</td>\n",
              "      <td>-5.872279e-01</td>\n",
              "      <td>-2.300445e-01</td>\n",
              "      <td>1.951362e-02</td>\n",
              "      <td>-3.128496e-01</td>\n",
              "    </tr>\n",
              "    <tr>\n",
              "      <th>75%</th>\n",
              "      <td>7.587027e-01</td>\n",
              "      <td>-3.311621e-01</td>\n",
              "      <td>4.733380e-01</td>\n",
              "      <td>-1.011152e-01</td>\n",
              "      <td>-4.483514e-01</td>\n",
              "      <td>-4.908701e-01</td>\n",
              "      <td>-9.906219e-02</td>\n",
              "      <td>8.131152e-01</td>\n",
              "      <td>9.243549e-01</td>\n",
              "      <td>-5.470306e-02</td>\n",
              "      <td>...</td>\n",
              "      <td>4.114476e-01</td>\n",
              "      <td>5.818217e-01</td>\n",
              "      <td>-1.922551e-01</td>\n",
              "      <td>6.850859e-01</td>\n",
              "      <td>5.804774e-01</td>\n",
              "      <td>4.198643e-01</td>\n",
              "      <td>5.804774e-01</td>\n",
              "      <td>3.863591e-01</td>\n",
              "      <td>1.951362e-02</td>\n",
              "      <td>-3.354317e-02</td>\n",
              "    </tr>\n",
              "    <tr>\n",
              "      <th>max</th>\n",
              "      <td>4.768209e+00</td>\n",
              "      <td>2.959080e+00</td>\n",
              "      <td>2.937630e+00</td>\n",
              "      <td>9.073796e+01</td>\n",
              "      <td>1.724922e+01</td>\n",
              "      <td>1.870986e+01</td>\n",
              "      <td>5.018287e+01</td>\n",
              "      <td>5.295830e+00</td>\n",
              "      <td>9.243549e-01</td>\n",
              "      <td>6.488307e+01</td>\n",
              "      <td>...</td>\n",
              "      <td>4.114476e-01</td>\n",
              "      <td>1.392222e+01</td>\n",
              "      <td>4.965863e+01</td>\n",
              "      <td>1.851162e+01</td>\n",
              "      <td>2.040361e+01</td>\n",
              "      <td>1.759744e+01</td>\n",
              "      <td>2.040361e+01</td>\n",
              "      <td>1.393736e+01</td>\n",
              "      <td>1.951362e-02</td>\n",
              "      <td>6.774137e+01</td>\n",
              "    </tr>\n",
              "  </tbody>\n",
              "</table>\n",
              "<p>8 rows × 39 columns</p>\n",
              "</div>\n",
              "    <div class=\"colab-df-buttons\">\n",
              "\n",
              "  <div class=\"colab-df-container\">\n",
              "    <button class=\"colab-df-convert\" onclick=\"convertToInteractive('df-53811653-57f1-4380-9568-ed3cdcf5929a')\"\n",
              "            title=\"Convert this dataframe to an interactive table.\"\n",
              "            style=\"display:none;\">\n",
              "\n",
              "  <svg xmlns=\"http://www.w3.org/2000/svg\" height=\"24px\" viewBox=\"0 -960 960 960\">\n",
              "    <path d=\"M120-120v-720h720v720H120Zm60-500h600v-160H180v160Zm220 220h160v-160H400v160Zm0 220h160v-160H400v160ZM180-400h160v-160H180v160Zm440 0h160v-160H620v160ZM180-180h160v-160H180v160Zm440 0h160v-160H620v160Z\"/>\n",
              "  </svg>\n",
              "    </button>\n",
              "\n",
              "  <style>\n",
              "    .colab-df-container {\n",
              "      display:flex;\n",
              "      gap: 12px;\n",
              "    }\n",
              "\n",
              "    .colab-df-convert {\n",
              "      background-color: #E8F0FE;\n",
              "      border: none;\n",
              "      border-radius: 50%;\n",
              "      cursor: pointer;\n",
              "      display: none;\n",
              "      fill: #1967D2;\n",
              "      height: 32px;\n",
              "      padding: 0 0 0 0;\n",
              "      width: 32px;\n",
              "    }\n",
              "\n",
              "    .colab-df-convert:hover {\n",
              "      background-color: #E2EBFA;\n",
              "      box-shadow: 0px 1px 2px rgba(60, 64, 67, 0.3), 0px 1px 3px 1px rgba(60, 64, 67, 0.15);\n",
              "      fill: #174EA6;\n",
              "    }\n",
              "\n",
              "    .colab-df-buttons div {\n",
              "      margin-bottom: 4px;\n",
              "    }\n",
              "\n",
              "    [theme=dark] .colab-df-convert {\n",
              "      background-color: #3B4455;\n",
              "      fill: #D2E3FC;\n",
              "    }\n",
              "\n",
              "    [theme=dark] .colab-df-convert:hover {\n",
              "      background-color: #434B5C;\n",
              "      box-shadow: 0px 1px 3px 1px rgba(0, 0, 0, 0.15);\n",
              "      filter: drop-shadow(0px 1px 2px rgba(0, 0, 0, 0.3));\n",
              "      fill: #FFFFFF;\n",
              "    }\n",
              "  </style>\n",
              "\n",
              "    <script>\n",
              "      const buttonEl =\n",
              "        document.querySelector('#df-53811653-57f1-4380-9568-ed3cdcf5929a button.colab-df-convert');\n",
              "      buttonEl.style.display =\n",
              "        google.colab.kernel.accessAllowed ? 'block' : 'none';\n",
              "\n",
              "      async function convertToInteractive(key) {\n",
              "        const element = document.querySelector('#df-53811653-57f1-4380-9568-ed3cdcf5929a');\n",
              "        const dataTable =\n",
              "          await google.colab.kernel.invokeFunction('convertToInteractive',\n",
              "                                                    [key], {});\n",
              "        if (!dataTable) return;\n",
              "\n",
              "        const docLinkHtml = 'Like what you see? Visit the ' +\n",
              "          '<a target=\"_blank\" href=https://colab.research.google.com/notebooks/data_table.ipynb>data table notebook</a>'\n",
              "          + ' to learn more about interactive tables.';\n",
              "        element.innerHTML = '';\n",
              "        dataTable['output_type'] = 'display_data';\n",
              "        await google.colab.output.renderOutput(dataTable, element);\n",
              "        const docLink = document.createElement('div');\n",
              "        docLink.innerHTML = docLinkHtml;\n",
              "        element.appendChild(docLink);\n",
              "      }\n",
              "    </script>\n",
              "  </div>\n",
              "\n",
              "\n",
              "    <div id=\"df-73aff6c5-452c-49eb-b0c0-9c349402c424\">\n",
              "      <button class=\"colab-df-quickchart\" onclick=\"quickchart('df-73aff6c5-452c-49eb-b0c0-9c349402c424')\"\n",
              "                title=\"Suggest charts\"\n",
              "                style=\"display:none;\">\n",
              "\n",
              "<svg xmlns=\"http://www.w3.org/2000/svg\" height=\"24px\"viewBox=\"0 0 24 24\"\n",
              "     width=\"24px\">\n",
              "    <g>\n",
              "        <path d=\"M19 3H5c-1.1 0-2 .9-2 2v14c0 1.1.9 2 2 2h14c1.1 0 2-.9 2-2V5c0-1.1-.9-2-2-2zM9 17H7v-7h2v7zm4 0h-2V7h2v10zm4 0h-2v-4h2v4z\"/>\n",
              "    </g>\n",
              "</svg>\n",
              "      </button>\n",
              "\n",
              "<style>\n",
              "  .colab-df-quickchart {\n",
              "      --bg-color: #E8F0FE;\n",
              "      --fill-color: #1967D2;\n",
              "      --hover-bg-color: #E2EBFA;\n",
              "      --hover-fill-color: #174EA6;\n",
              "      --disabled-fill-color: #AAA;\n",
              "      --disabled-bg-color: #DDD;\n",
              "  }\n",
              "\n",
              "  [theme=dark] .colab-df-quickchart {\n",
              "      --bg-color: #3B4455;\n",
              "      --fill-color: #D2E3FC;\n",
              "      --hover-bg-color: #434B5C;\n",
              "      --hover-fill-color: #FFFFFF;\n",
              "      --disabled-bg-color: #3B4455;\n",
              "      --disabled-fill-color: #666;\n",
              "  }\n",
              "\n",
              "  .colab-df-quickchart {\n",
              "    background-color: var(--bg-color);\n",
              "    border: none;\n",
              "    border-radius: 50%;\n",
              "    cursor: pointer;\n",
              "    display: none;\n",
              "    fill: var(--fill-color);\n",
              "    height: 32px;\n",
              "    padding: 0;\n",
              "    width: 32px;\n",
              "  }\n",
              "\n",
              "  .colab-df-quickchart:hover {\n",
              "    background-color: var(--hover-bg-color);\n",
              "    box-shadow: 0 1px 2px rgba(60, 64, 67, 0.3), 0 1px 3px 1px rgba(60, 64, 67, 0.15);\n",
              "    fill: var(--button-hover-fill-color);\n",
              "  }\n",
              "\n",
              "  .colab-df-quickchart-complete:disabled,\n",
              "  .colab-df-quickchart-complete:disabled:hover {\n",
              "    background-color: var(--disabled-bg-color);\n",
              "    fill: var(--disabled-fill-color);\n",
              "    box-shadow: none;\n",
              "  }\n",
              "\n",
              "  .colab-df-spinner {\n",
              "    border: 2px solid var(--fill-color);\n",
              "    border-color: transparent;\n",
              "    border-bottom-color: var(--fill-color);\n",
              "    animation:\n",
              "      spin 1s steps(1) infinite;\n",
              "  }\n",
              "\n",
              "  @keyframes spin {\n",
              "    0% {\n",
              "      border-color: transparent;\n",
              "      border-bottom-color: var(--fill-color);\n",
              "      border-left-color: var(--fill-color);\n",
              "    }\n",
              "    20% {\n",
              "      border-color: transparent;\n",
              "      border-left-color: var(--fill-color);\n",
              "      border-top-color: var(--fill-color);\n",
              "    }\n",
              "    30% {\n",
              "      border-color: transparent;\n",
              "      border-left-color: var(--fill-color);\n",
              "      border-top-color: var(--fill-color);\n",
              "      border-right-color: var(--fill-color);\n",
              "    }\n",
              "    40% {\n",
              "      border-color: transparent;\n",
              "      border-right-color: var(--fill-color);\n",
              "      border-top-color: var(--fill-color);\n",
              "    }\n",
              "    60% {\n",
              "      border-color: transparent;\n",
              "      border-right-color: var(--fill-color);\n",
              "    }\n",
              "    80% {\n",
              "      border-color: transparent;\n",
              "      border-right-color: var(--fill-color);\n",
              "      border-bottom-color: var(--fill-color);\n",
              "    }\n",
              "    90% {\n",
              "      border-color: transparent;\n",
              "      border-bottom-color: var(--fill-color);\n",
              "    }\n",
              "  }\n",
              "</style>\n",
              "\n",
              "      <script>\n",
              "        async function quickchart(key) {\n",
              "          const quickchartButtonEl =\n",
              "            document.querySelector('#' + key + ' button');\n",
              "          quickchartButtonEl.disabled = true;  // To prevent multiple clicks.\n",
              "          quickchartButtonEl.classList.add('colab-df-spinner');\n",
              "          try {\n",
              "            const charts = await google.colab.kernel.invokeFunction(\n",
              "                'suggestCharts', [key], {});\n",
              "          } catch (error) {\n",
              "            console.error('Error during call to suggestCharts:', error);\n",
              "          }\n",
              "          quickchartButtonEl.classList.remove('colab-df-spinner');\n",
              "          quickchartButtonEl.classList.add('colab-df-quickchart-complete');\n",
              "        }\n",
              "        (() => {\n",
              "          let quickchartButtonEl =\n",
              "            document.querySelector('#df-73aff6c5-452c-49eb-b0c0-9c349402c424 button');\n",
              "          quickchartButtonEl.style.display =\n",
              "            google.colab.kernel.accessAllowed ? 'block' : 'none';\n",
              "        })();\n",
              "      </script>\n",
              "    </div>\n",
              "\n",
              "    </div>\n",
              "  </div>\n"
            ],
            "application/vnd.google.colaboratory.intrinsic+json": {
              "type": "dataframe"
            }
          },
          "metadata": {},
          "execution_count": 71
        }
      ],
      "source": [
        "from sklearn.preprocessing import StandardScaler\n",
        "\n",
        "# Select only numeric columns (excluding the label)\n",
        "numeric_cols = benign_df.select_dtypes(include=[\"float64\", \"int64\"]).columns\n",
        "numeric_cols = numeric_cols.drop(\"Label\", errors='ignore')\n",
        "\n",
        "# Apply Z-score normalization\n",
        "scaler = StandardScaler()\n",
        "benign_df[numeric_cols] = scaler.fit_transform(benign_df[numeric_cols])\n",
        "\n",
        "# Confirm\n",
        "print(\"✅ Normalization complete!\")\n",
        "benign_df[numeric_cols].describe()\n"
      ]
    },
    {
      "cell_type": "markdown",
      "source": [
        "# Loads each attack type’s CSV file and assigns a corresponding label to each dataset."
      ],
      "metadata": {
        "id": "j5H9P1sXwapM"
      }
    },
    {
      "cell_type": "code",
      "execution_count": null,
      "metadata": {
        "id": "vaysINvGVawB"
      },
      "outputs": [],
      "source": [
        "import pandas as pd\n",
        "\n",
        "# Load each file and assign a label\n",
        "ddos_df = pd.read_csv(\"DDoS-SYN_Flood15.pcap.csv\")\n",
        "ddos_df[\"Label\"] = \"DDoS_SYN\"\n",
        "\n",
        "dos_df = pd.read_csv(\"DoS-HTTP_Flood1.pcap.csv\")\n",
        "dos_df[\"Label\"] = \"DoS_HTTP\"\n",
        "\n",
        "malware_df = pd.read_csv(\"Backdoor_Malware.pcap.csv\")\n",
        "malware_df[\"Label\"] = \"Backdoor_Malware\"\n",
        "\n",
        "recon_df = pd.read_csv(\"Recon-PortScan.pcap.csv\")\n",
        "recon_df[\"Label\"] = \"PortScan\"\n",
        "\n",
        "mitm_df = pd.read_csv(\"MITM-ArpSpoofing1.pcap.csv\")\n",
        "mitm_df[\"Label\"] = \"MITM_ArpSpoofing\""
      ]
    },
    {
      "cell_type": "markdown",
      "source": [
        "# Applies the same cleaning and normalization process used on the benign dataset to each of the attack datasets."
      ],
      "metadata": {
        "id": "l4CiyW5KwkTc"
      }
    },
    {
      "cell_type": "code",
      "execution_count": null,
      "metadata": {
        "id": "07g3sqI9aMvU"
      },
      "outputs": [],
      "source": [
        "from sklearn.preprocessing import StandardScaler\n",
        "import numpy as np\n",
        "\n",
        "# List of attack DataFrames\n",
        "attack_dfs = [ddos_df, dos_df, malware_df, recon_df, mitm_df]\n",
        "\n",
        "# Preprocess each attack dataset\n",
        "for i, df in enumerate(attack_dfs):\n",
        "    # Replace inf with NaN\n",
        "    df.replace([np.inf, -np.inf], np.nan, inplace=True)\n",
        "\n",
        "    # Fill NaNs with column means\n",
        "    df.fillna(df.mean(numeric_only=True), inplace=True)\n",
        "\n",
        "    # Select numeric columns only\n",
        "    numeric_cols = df.select_dtypes(include=[\"float64\", \"int64\"]).columns\n",
        "    numeric_cols = numeric_cols.drop(\"Label\", errors=\"ignore\")\n",
        "\n",
        "    # Apply standardization\n",
        "    scaler = StandardScaler()\n",
        "    df[numeric_cols] = scaler.fit_transform(df[numeric_cols])\n"
      ]
    },
    {
      "cell_type": "markdown",
      "source": [
        "# Merges all datasets into one labeled dataset for training/testing. Also prints the class distribution."
      ],
      "metadata": {
        "id": "JcYxJjCJwn8g"
      }
    },
    {
      "cell_type": "code",
      "execution_count": null,
      "metadata": {
        "id": "elAJDxfeaP33",
        "colab": {
          "base_uri": "https://localhost:8080/"
        },
        "outputId": "0b23e8b9-bb78-4b4f-a108-2fcb9793c202"
      },
      "outputs": [
        {
          "output_type": "stream",
          "name": "stdout",
          "text": [
            "✅ Final merged dataset shape: (676146, 40)\n",
            "Label\n",
            "Benign              362361\n",
            "DDoS_SYN            137254\n",
            "PortScan             82284\n",
            "MITM_ArpSpoofing     59854\n",
            "DoS_HTTP             31175\n",
            "Backdoor_Malware      3218\n",
            "Name: count, dtype: int64\n"
          ]
        }
      ],
      "source": [
        "# Combine benign and all attack datasets\n",
        "full_df = pd.concat([benign_df] + attack_dfs, ignore_index=True)\n",
        "\n",
        "# Preview\n",
        "print(\"✅ Final merged dataset shape:\", full_df.shape)\n",
        "print(full_df[\"Label\"].value_counts())\n"
      ]
    },
    {
      "cell_type": "markdown",
      "source": [
        "# Visualizes how many samples each class (attack type) has. Useful for spotting class imbalance."
      ],
      "metadata": {
        "id": "XSbE2iEqwqbb"
      }
    },
    {
      "cell_type": "code",
      "execution_count": null,
      "metadata": {
        "id": "iuRzBWbkcwcc",
        "colab": {
          "base_uri": "https://localhost:8080/",
          "height": 563
        },
        "outputId": "3d655675-d97f-448e-a8b8-d3ca982c0328"
      },
      "outputs": [
        {
          "output_type": "display_data",
          "data": {
            "text/plain": [
              "<Figure size 1000x500 with 1 Axes>"
            ],
            "image/png": "[encoded data removed]"
          },
          "metadata": {}
        }
      ],
      "source": [
        "import seaborn as sns\n",
        "import matplotlib.pyplot as plt\n",
        "\n",
        "plt.figure(figsize=(10, 5))\n",
        "sns.countplot(x=\"Label\", data=full_df, order=full_df[\"Label\"].value_counts().index)\n",
        "plt.title(\"Class Distribution\")\n",
        "plt.xticks(rotation=45)\n",
        "plt.show()\n"
      ]
    },
    {
      "cell_type": "markdown",
      "source": [
        "# Installs the imbalanced-learn package, which contains SMOTE and other resampling tools."
      ],
      "metadata": {
        "id": "9jPOkflmwtQ3"
      }
    },
    {
      "cell_type": "code",
      "execution_count": null,
      "metadata": {
        "id": "DU5eeyG_ercW",
        "colab": {
          "base_uri": "https://localhost:8080/"
        },
        "outputId": "7e79f80a-70f7-4fa7-d3ee-e38b7bcaf6f9"
      },
      "outputs": [
        {
          "output_type": "stream",
          "name": "stdout",
          "text": [
            "Requirement already satisfied: imbalanced-learn in /usr/local/lib/python3.11/dist-packages (0.13.0)\n",
            "Requirement already satisfied: numpy<3,>=1.24.3 in /usr/local/lib/python3.11/dist-packages (from imbalanced-learn) (2.0.2)\n",
            "Requirement already satisfied: scipy<2,>=1.10.1 in /usr/local/lib/python3.11/dist-packages (from imbalanced-learn) (1.15.2)\n",
            "Requirement already satisfied: scikit-learn<2,>=1.3.2 in /usr/local/lib/python3.11/dist-packages (from imbalanced-learn) (1.6.1)\n",
            "Requirement already satisfied: sklearn-compat<1,>=0.1 in /usr/local/lib/python3.11/dist-packages (from imbalanced-learn) (0.1.3)\n",
            "Requirement already satisfied: joblib<2,>=1.1.1 in /usr/local/lib/python3.11/dist-packages (from imbalanced-learn) (1.4.2)\n",
            "Requirement already satisfied: threadpoolctl<4,>=2.0.0 in /usr/local/lib/python3.11/dist-packages (from imbalanced-learn) (3.6.0)\n"
          ]
        }
      ],
      "source": [
        "!pip install -U imbalanced-learn"
      ]
    },
    {
      "cell_type": "markdown",
      "source": [
        "# Converts string labels to numeric codes. Required for applying SMOTE."
      ],
      "metadata": {
        "id": "jcjYQRZdwwUd"
      }
    },
    {
      "cell_type": "code",
      "execution_count": null,
      "metadata": {
        "id": "K9_dh11vevvV",
        "colab": {
          "base_uri": "https://localhost:8080/"
        },
        "outputId": "735888bb-6f25-476f-e777-9aaabd6e3adc"
      },
      "outputs": [
        {
          "output_type": "stream",
          "name": "stdout",
          "text": [
            "🔖 Label encoding map: {'Backdoor_Malware': np.int64(0), 'Benign': np.int64(1), 'DDoS_SYN': np.int64(2), 'DoS_HTTP': np.int64(3), 'MITM_ArpSpoofing': np.int64(4), 'PortScan': np.int64(5)}\n"
          ]
        }
      ],
      "source": [
        "from sklearn.preprocessing import LabelEncoder\n",
        "\n",
        "# Make a copy to preserve original\n",
        "df_smote = full_df.copy()\n",
        "\n",
        "# Encode the Label column\n",
        "le = LabelEncoder()\n",
        "df_smote[\"Label_encoded\"] = le.fit_transform(df_smote[\"Label\"])\n",
        "\n",
        "# Preview encoding\n",
        "label_map = dict(zip(le.classes_, le.transform(le.classes_)))\n",
        "print(\"🔖 Label encoding map:\", label_map)"
      ]
    },
    {
      "cell_type": "markdown",
      "source": [
        "# Separates features and labels for model training and resampling."
      ],
      "metadata": {
        "id": "ufcF9p1Twzue"
      }
    },
    {
      "cell_type": "code",
      "execution_count": null,
      "metadata": {
        "id": "oMZQrFXAe67v"
      },
      "outputs": [],
      "source": [
        "# Drop original label and any non-feature columns\n",
        "X = df_smote.drop(columns=[\"Label\", \"Label_encoded\"], errors=\"ignore\")\n",
        "y = df_smote[\"Label_encoded\"]\n",
        "\n",
        "# Optional: remove identifiers like \"Flow ID\" or \"Timestamp\" if they exist\n",
        "X = X.select_dtypes(include=[\"float64\", \"int64\"])"
      ]
    },
    {
      "cell_type": "markdown",
      "source": [
        "# Applies SMOTE to oversample minority classes and balance the dataset."
      ],
      "metadata": {
        "id": "r6PeVqvfw4AI"
      }
    },
    {
      "cell_type": "code",
      "execution_count": null,
      "metadata": {
        "id": "mGOF4dg8e-FU",
        "colab": {
          "base_uri": "https://localhost:8080/"
        },
        "outputId": "8049de15-4bba-49cf-c76a-8736464cb28c"
      },
      "outputs": [
        {
          "output_type": "stream",
          "name": "stdout",
          "text": [
            "✅ After SMOTE:\n",
            "New shape: (2174166, 39)\n",
            "Balanced class counts: Label_encoded\n",
            "1    362361\n",
            "2    362361\n",
            "3    362361\n",
            "0    362361\n",
            "5    362361\n",
            "4    362361\n",
            "Name: count, dtype: int64\n"
          ]
        }
      ],
      "source": [
        "from imblearn.over_sampling import SMOTE\n",
        "\n",
        "smote = SMOTE(random_state=42)\n",
        "X_resampled, y_resampled = smote.fit_resample(X, y)\n",
        "\n",
        "print(\"✅ After SMOTE:\")\n",
        "print(\"New shape:\", X_resampled.shape)\n",
        "print(\"Balanced class counts:\", pd.Series(y_resampled).value_counts())"
      ]
    },
    {
      "cell_type": "markdown",
      "source": [
        "# Splits the balanced data into training and testing sets (80/20), preserving class distribution."
      ],
      "metadata": {
        "id": "ltFvtsbNw9L6"
      }
    },
    {
      "cell_type": "code",
      "execution_count": null,
      "metadata": {
        "id": "E2nJlM5LhJx_",
        "colab": {
          "base_uri": "https://localhost:8080/"
        },
        "outputId": "8a4e01e2-9c5c-4548-e767-1665bb96269e"
      },
      "outputs": [
        {
          "output_type": "stream",
          "name": "stdout",
          "text": [
            "🧪 Training samples: (1739332, 39)\n",
            "🧪 Testing samples: (434834, 39)\n"
          ]
        }
      ],
      "source": [
        "from sklearn.model_selection import train_test_split\n",
        "\n",
        "# Use the SMOTE-resampled X and y\n",
        "X_train, X_test, y_train, y_test = train_test_split(\n",
        "    X_resampled, y_resampled, test_size=0.2, random_state=42, stratify=y_resampled\n",
        ")\n",
        "\n",
        "print(\"🧪 Training samples:\", X_train.shape)\n",
        "print(\"🧪 Testing samples:\", X_test.shape)"
      ]
    },
    {
      "cell_type": "markdown",
      "source": [
        "# Converts the test set to a DataFrame format to make it easier to inspect or sample from."
      ],
      "metadata": {
        "id": "5na7SfVsxAzq"
      }
    },
    {
      "cell_type": "code",
      "execution_count": null,
      "metadata": {
        "id": "JFr1H1Y0O5NK"
      },
      "outputs": [],
      "source": [
        "X_test_df = pd.DataFrame(X_test, columns=X_resampled.columns)\n"
      ]
    },
    {
      "cell_type": "markdown",
      "source": [
        "# Builds a Random Forest model with 100 trees and trains it on the training data."
      ],
      "metadata": {
        "id": "QdAo8262xJYZ"
      }
    },
    {
      "cell_type": "code",
      "execution_count": null,
      "metadata": {
        "colab": {
          "base_uri": "https://localhost:8080/"
        },
        "id": "8_H7hBvxhVd4",
        "outputId": "41c9e35f-05b3-4f90-8007-61933ff01a84"
      },
      "outputs": [
        {
          "output_type": "stream",
          "name": "stdout",
          "text": [
            "✅ Model trained successfully!\n"
          ]
        }
      ],
      "source": [
        "from sklearn.ensemble import RandomForestClassifier\n",
        "\n",
        "# Create and train the model\n",
        "rf_model = RandomForestClassifier(n_estimators=100, random_state=42)\n",
        "rf_model.fit(X_train, y_train)\n",
        "\n",
        "print(\"✅ Model trained successfully!\")\n"
      ]
    },
    {
      "cell_type": "markdown",
      "source": [
        "# Evaluates the model using classification report and confusion matrix. Shows how well each class was predicted."
      ],
      "metadata": {
        "id": "TDi42y0HxNnO"
      }
    },
    {
      "cell_type": "code",
      "execution_count": null,
      "metadata": {
        "colab": {
          "base_uri": "https://localhost:8080/",
          "height": 941
        },
        "id": "Dq7zMwH2i1er",
        "outputId": "524b1a9f-1533-405d-8a41-9207fb72fcb8"
      },
      "outputs": [
        {
          "output_type": "stream",
          "name": "stdout",
          "text": [
            "📊 Classification Report:\n",
            "\n",
            "                  precision    recall  f1-score   support\n",
            "\n",
            "Backdoor_Malware       1.00      1.00      1.00     72472\n",
            "          Benign       1.00      1.00      1.00     72472\n",
            "        DDoS_SYN       1.00      1.00      1.00     72472\n",
            "        DoS_HTTP       1.00      1.00      1.00     72473\n",
            "MITM_ArpSpoofing       1.00      1.00      1.00     72473\n",
            "        PortScan       1.00      1.00      1.00     72472\n",
            "\n",
            "        accuracy                           1.00    434834\n",
            "       macro avg       1.00      1.00      1.00    434834\n",
            "    weighted avg       1.00      1.00      1.00    434834\n",
            "\n"
          ]
        },
        {
          "output_type": "display_data",
          "data": {
            "text/plain": [
              "<Figure size 800x600 with 2 Axes>"
            ],
            "image/png": "[encoded data removed]"
          },
          "metadata": {}
        }
      ],
      "source": [
        "from sklearn.metrics import classification_report, confusion_matrix\n",
        "import seaborn as sns\n",
        "import matplotlib.pyplot as plt\n",
        "\n",
        "# Predict on test set\n",
        "y_pred = rf_model.predict(X_test)\n",
        "\n",
        "# Classification report\n",
        "print(\"📊 Classification Report:\\n\")\n",
        "print(classification_report(y_test, y_pred, target_names=le.classes_))\n",
        "\n",
        "# Confusion matrix\n",
        "plt.figure(figsize=(8, 6))\n",
        "sns.heatmap(confusion_matrix(y_test, y_pred), annot=True, fmt='d',\n",
        "            xticklabels=le.classes_, yticklabels=le.classes_, cmap=\"Blues\")\n",
        "plt.title(\"Confusion Matrix\")\n",
        "plt.xlabel(\"Predicted\")\n",
        "plt.ylabel(\"Actual\")\n",
        "plt.show()"
      ]
    },
    {
      "cell_type": "markdown",
      "metadata": {
        "id": "A1UhDW7k7TH9"
      },
      "source": [
        "# Installs everything needed to use a fine-tuned LLM with quantization and PEFT (parameter-efficient fine-tuning)."
      ]
    },
    {
      "cell_type": "code",
      "execution_count": null,
      "metadata": {
        "colab": {
          "base_uri": "https://localhost:8080/"
        },
        "id": "JECbjTse7r60",
        "outputId": "a4bf2cc9-6025-418a-8cc2-bbb5c25de077"
      },
      "outputs": [
        {
          "output_type": "stream",
          "name": "stdout",
          "text": [
            "Collecting bitsandbytes\n",
            "  Downloading bitsandbytes-0.45.5-py3-none-manylinux_2_24_x86_64.whl.metadata (5.0 kB)\n",
            "Requirement already satisfied: torch<3,>=2.0 in /usr/local/lib/python3.11/dist-packages (from bitsandbytes) (2.6.0+cu124)\n",
            "Requirement already satisfied: numpy>=1.17 in /usr/local/lib/python3.11/dist-packages (from bitsandbytes) (2.0.2)\n",
            "Requirement already satisfied: filelock in /usr/local/lib/python3.11/dist-packages (from torch<3,>=2.0->bitsandbytes) (3.18.0)\n",
            "Requirement already satisfied: typing-extensions>=4.10.0 in /usr/local/lib/python3.11/dist-packages (from torch<3,>=2.0->bitsandbytes) (4.13.2)\n",
            "Requirement already satisfied: networkx in /usr/local/lib/python3.11/dist-packages (from torch<3,>=2.0->bitsandbytes) (3.4.2)\n",
            "Requirement already satisfied: jinja2 in /usr/local/lib/python3.11/dist-packages (from torch<3,>=2.0->bitsandbytes) (3.1.6)\n",
            "Requirement already satisfied: fsspec in /usr/local/lib/python3.11/dist-packages (from torch<3,>=2.0->bitsandbytes) (2025.3.2)\n",
            "Collecting nvidia-cuda-nvrtc-cu12==12.4.127 (from torch<3,>=2.0->bitsandbytes)\n",
            "  Downloading nvidia_cuda_nvrtc_cu12-12.4.127-py3-none-manylinux2014_x86_64.whl.metadata (1.5 kB)\n",
            "Collecting nvidia-cuda-runtime-cu12==12.4.127 (from torch<3,>=2.0->bitsandbytes)\n",
            "  Downloading nvidia_cuda_runtime_cu12-12.4.127-py3-none-manylinux2014_x86_64.whl.metadata (1.5 kB)\n",
            "Collecting nvidia-cuda-cupti-cu12==12.4.127 (from torch<3,>=2.0->bitsandbytes)\n",
            "  Downloading nvidia_cuda_cupti_cu12-12.4.127-py3-none-manylinux2014_x86_64.whl.metadata (1.6 kB)\n",
            "Collecting nvidia-cudnn-cu12==9.1.0.70 (from torch<3,>=2.0->bitsandbytes)\n",
            "  Downloading nvidia_cudnn_cu12-9.1.0.70-py3-none-manylinux2014_x86_64.whl.metadata (1.6 kB)\n",
            "Collecting nvidia-cublas-cu12==12.4.5.8 (from torch<3,>=2.0->bitsandbytes)\n",
            "  Downloading nvidia_cublas_cu12-12.4.5.8-py3-none-manylinux2014_x86_64.whl.metadata (1.5 kB)\n",
            "Collecting nvidia-cufft-cu12==11.2.1.3 (from torch<3,>=2.0->bitsandbytes)\n",
            "  Downloading nvidia_cufft_cu12-11.2.1.3-py3-none-manylinux2014_x86_64.whl.metadata (1.5 kB)\n",
            "Collecting nvidia-curand-cu12==10.3.5.147 (from torch<3,>=2.0->bitsandbytes)\n",
            "  Downloading nvidia_curand_cu12-10.3.5.147-py3-none-manylinux2014_x86_64.whl.metadata (1.5 kB)\n",
            "Collecting nvidia-cusolver-cu12==11.6.1.9 (from torch<3,>=2.0->bitsandbytes)\n",
            "  Downloading nvidia_cusolver_cu12-11.6.1.9-py3-none-manylinux2014_x86_64.whl.metadata (1.6 kB)\n",
            "Collecting nvidia-cusparse-cu12==12.3.1.170 (from torch<3,>=2.0->bitsandbytes)\n",
            "  Downloading nvidia_cusparse_cu12-12.3.1.170-py3-none-manylinux2014_x86_64.whl.metadata (1.6 kB)\n",
            "Requirement already satisfied: nvidia-cusparselt-cu12==0.6.2 in /usr/local/lib/python3.11/dist-packages (from torch<3,>=2.0->bitsandbytes) (0.6.2)\n",
            "Requirement already satisfied: nvidia-nccl-cu12==2.21.5 in /usr/local/lib/python3.11/dist-packages (from torch<3,>=2.0->bitsandbytes) (2.21.5)\n",
            "Requirement already satisfied: nvidia-nvtx-cu12==12.4.127 in /usr/local/lib/python3.11/dist-packages (from torch<3,>=2.0->bitsandbytes) (12.4.127)\n",
            "Collecting nvidia-nvjitlink-cu12==12.4.127 (from torch<3,>=2.0->bitsandbytes)\n",
            "  Downloading nvidia_nvjitlink_cu12-12.4.127-py3-none-manylinux2014_x86_64.whl.metadata (1.5 kB)\n",
            "Requirement already satisfied: triton==3.2.0 in /usr/local/lib/python3.11/dist-packages (from torch<3,>=2.0->bitsandbytes) (3.2.0)\n",
            "Requirement already satisfied: sympy==1.13.1 in /usr/local/lib/python3.11/dist-packages (from torch<3,>=2.0->bitsandbytes) (1.13.1)\n",
            "Requirement already satisfied: mpmath<1.4,>=1.1.0 in /usr/local/lib/python3.11/dist-packages (from sympy==1.13.1->torch<3,>=2.0->bitsandbytes) (1.3.0)\n",
            "Requirement already satisfied: MarkupSafe>=2.0 in /usr/local/lib/python3.11/dist-packages (from jinja2->torch<3,>=2.0->bitsandbytes) (3.0.2)\n",
            "Downloading bitsandbytes-0.45.5-py3-none-manylinux_2_24_x86_64.whl (76.1 MB)\n",
            "\u001b[2K   \u001b[90m━━━━━━━━━━━━━━━━━━━━━━━━━━━━━━━━━━━━━━━━\u001b[0m \u001b[32m76.1/76.1 MB\u001b[0m \u001b[31m9.2 MB/s\u001b[0m eta \u001b[36m0:00:00\u001b[0m\n",
            "\u001b[?25hDownloading nvidia_cublas_cu12-12.4.5.8-py3-none-manylinux2014_x86_64.whl (363.4 MB)\n",
            "\u001b[2K   \u001b[90m━━━━━━━━━━━━━━━━━━━━━━━━━━━━━━━━━━━━━━━━\u001b[0m \u001b[32m363.4/363.4 MB\u001b[0m \u001b[31m4.2 MB/s\u001b[0m eta \u001b[36m0:00:00\u001b[0m\n",
            "\u001b[?25hDownloading nvidia_cuda_cupti_cu12-12.4.127-py3-none-manylinux2014_x86_64.whl (13.8 MB)\n",
            "\u001b[2K   \u001b[90m━━━━━━━━━━━━━━━━━━━━━━━━━━━━━━━━━━━━━━━━\u001b[0m \u001b[32m13.8/13.8 MB\u001b[0m \u001b[31m58.4 MB/s\u001b[0m eta \u001b[36m0:00:00\u001b[0m\n",
            "\u001b[?25hDownloading nvidia_cuda_nvrtc_cu12-12.4.127-py3-none-manylinux2014_x86_64.whl (24.6 MB)\n",
            "\u001b[2K   \u001b[90m━━━━━━━━━━━━━━━━━━━━━━━━━━━━━━━━━━━━━━━━\u001b[0m \u001b[32m24.6/24.6 MB\u001b[0m \u001b[31m18.6 MB/s\u001b[0m eta \u001b[36m0:00:00\u001b[0m\n",
            "\u001b[?25hDownloading nvidia_cuda_runtime_cu12-12.4.127-py3-none-manylinux2014_x86_64.whl (883 kB)\n",
            "\u001b[2K   \u001b[90m━━━━━━━━━━━━━━━━━━━━━━━━━━━━━━━━━━━━━━━━\u001b[0m \u001b[32m883.7/883.7 kB\u001b[0m \u001b[31m30.7 MB/s\u001b[0m eta \u001b[36m0:00:00\u001b[0m\n",
            "\u001b[?25hDownloading nvidia_cudnn_cu12-9.1.0.70-py3-none-manylinux2014_x86_64.whl (664.8 MB)\n",
            "\u001b[2K   \u001b[90m━━━━━━━━━━━━━━━━━━━━━━━━━━━━━━━━━━━━━━━━\u001b[0m \u001b[32m664.8/664.8 MB\u001b[0m \u001b[31m1.2 MB/s\u001b[0m eta \u001b[36m0:00:00\u001b[0m\n",
            "\u001b[?25hDownloading nvidia_cufft_cu12-11.2.1.3-py3-none-manylinux2014_x86_64.whl (211.5 MB)\n",
            "\u001b[2K   \u001b[90m━━━━━━━━━━━━━━━━━━━━━━━━━━━━━━━━━━━━━━━━\u001b[0m \u001b[32m211.5/211.5 MB\u001b[0m \u001b[31m1.6 MB/s\u001b[0m eta \u001b[36m0:00:00\u001b[0m\n",
            "\u001b[?25hDownloading nvidia_curand_cu12-10.3.5.147-py3-none-manylinux2014_x86_64.whl (56.3 MB)\n",
            "\u001b[2K   \u001b[90m━━━━━━━━━━━━━━━━━━━━━━━━━━━━━━━━━━━━━━━━\u001b[0m \u001b[32m56.3/56.3 MB\u001b[0m \u001b[31m11.8 MB/s\u001b[0m eta \u001b[36m0:00:00\u001b[0m\n",
            "\u001b[?25hDownloading nvidia_cusolver_cu12-11.6.1.9-py3-none-manylinux2014_x86_64.whl (127.9 MB)\n",
            "\u001b[2K   \u001b[90m━━━━━━━━━━━━━━━━━━━━━━━━━━━━━━━━━━━━━━━━\u001b[0m \u001b[32m127.9/127.9 MB\u001b[0m \u001b[31m8.2 MB/s\u001b[0m eta \u001b[36m0:00:00\u001b[0m\n",
            "\u001b[?25hDownloading nvidia_cusparse_cu12-12.3.1.170-py3-none-manylinux2014_x86_64.whl (207.5 MB)\n",
            "\u001b[2K   \u001b[90m━━━━━━━━━━━━━━━━━━━━━━━━━━━━━━━━━━━━━━━━\u001b[0m \u001b[32m207.5/207.5 MB\u001b[0m \u001b[31m6.0 MB/s\u001b[0m eta \u001b[36m0:00:00\u001b[0m\n",
            "\u001b[?25hDownloading nvidia_nvjitlink_cu12-12.4.127-py3-none-manylinux2014_x86_64.whl (21.1 MB)\n",
            "\u001b[2K   \u001b[90m━━━━━━━━━━━━━━━━━━━━━━━━━━━━━━━━━━━━━━━━\u001b[0m \u001b[32m21.1/21.1 MB\u001b[0m \u001b[31m48.5 MB/s\u001b[0m eta \u001b[36m0:00:00\u001b[0m\n",
            "\u001b[?25hInstalling collected packages: nvidia-nvjitlink-cu12, nvidia-curand-cu12, nvidia-cufft-cu12, nvidia-cuda-runtime-cu12, nvidia-cuda-nvrtc-cu12, nvidia-cuda-cupti-cu12, nvidia-cublas-cu12, nvidia-cusparse-cu12, nvidia-cudnn-cu12, nvidia-cusolver-cu12, bitsandbytes\n",
            "  Attempting uninstall: nvidia-nvjitlink-cu12\n",
            "    Found existing installation: nvidia-nvjitlink-cu12 12.5.82\n",
            "    Uninstalling nvidia-nvjitlink-cu12-12.5.82:\n",
            "      Successfully uninstalled nvidia-nvjitlink-cu12-12.5.82\n",
            "  Attempting uninstall: nvidia-curand-cu12\n",
            "    Found existing installation: nvidia-curand-cu12 10.3.6.82\n",
            "    Uninstalling nvidia-curand-cu12-10.3.6.82:\n",
            "      Successfully uninstalled nvidia-curand-cu12-10.3.6.82\n",
            "  Attempting uninstall: nvidia-cufft-cu12\n",
            "    Found existing installation: nvidia-cufft-cu12 11.2.3.61\n",
            "    Uninstalling nvidia-cufft-cu12-11.2.3.61:\n",
            "      Successfully uninstalled nvidia-cufft-cu12-11.2.3.61\n",
            "  Attempting uninstall: nvidia-cuda-runtime-cu12\n",
            "    Found existing installation: nvidia-cuda-runtime-cu12 12.5.82\n",
            "    Uninstalling nvidia-cuda-runtime-cu12-12.5.82:\n",
            "      Successfully uninstalled nvidia-cuda-runtime-cu12-12.5.82\n",
            "  Attempting uninstall: nvidia-cuda-nvrtc-cu12\n",
            "    Found existing installation: nvidia-cuda-nvrtc-cu12 12.5.82\n",
            "    Uninstalling nvidia-cuda-nvrtc-cu12-12.5.82:\n",
            "      Successfully uninstalled nvidia-cuda-nvrtc-cu12-12.5.82\n",
            "  Attempting uninstall: nvidia-cuda-cupti-cu12\n",
            "    Found existing installation: nvidia-cuda-cupti-cu12 12.5.82\n",
            "    Uninstalling nvidia-cuda-cupti-cu12-12.5.82:\n",
            "      Successfully uninstalled nvidia-cuda-cupti-cu12-12.5.82\n",
            "  Attempting uninstall: nvidia-cublas-cu12\n",
            "    Found existing installation: nvidia-cublas-cu12 12.5.3.2\n",
            "    Uninstalling nvidia-cublas-cu12-12.5.3.2:\n",
            "      Successfully uninstalled nvidia-cublas-cu12-12.5.3.2\n",
            "  Attempting uninstall: nvidia-cusparse-cu12\n",
            "    Found existing installation: nvidia-cusparse-cu12 12.5.1.3\n",
            "    Uninstalling nvidia-cusparse-cu12-12.5.1.3:\n",
            "      Successfully uninstalled nvidia-cusparse-cu12-12.5.1.3\n",
            "  Attempting uninstall: nvidia-cudnn-cu12\n",
            "    Found existing installation: nvidia-cudnn-cu12 9.3.0.75\n",
            "    Uninstalling nvidia-cudnn-cu12-9.3.0.75:\n",
            "      Successfully uninstalled nvidia-cudnn-cu12-9.3.0.75\n",
            "  Attempting uninstall: nvidia-cusolver-cu12\n",
            "    Found existing installation: nvidia-cusolver-cu12 11.6.3.83\n",
            "    Uninstalling nvidia-cusolver-cu12-11.6.3.83:\n",
            "      Successfully uninstalled nvidia-cusolver-cu12-11.6.3.83\n",
            "Successfully installed bitsandbytes-0.45.5 nvidia-cublas-cu12-12.4.5.8 nvidia-cuda-cupti-cu12-12.4.127 nvidia-cuda-nvrtc-cu12-12.4.127 nvidia-cuda-runtime-cu12-12.4.127 nvidia-cudnn-cu12-9.1.0.70 nvidia-cufft-cu12-11.2.1.3 nvidia-curand-cu12-10.3.5.147 nvidia-cusolver-cu12-11.6.1.9 nvidia-cusparse-cu12-12.3.1.170 nvidia-nvjitlink-cu12-12.4.127\n",
            "Requirement already satisfied: transformers in /usr/local/lib/python3.11/dist-packages (4.51.3)\n",
            "Requirement already satisfied: accelerate in /usr/local/lib/python3.11/dist-packages (1.6.0)\n",
            "Requirement already satisfied: peft in /usr/local/lib/python3.11/dist-packages (0.15.2)\n",
            "Requirement already satisfied: filelock in /usr/local/lib/python3.11/dist-packages (from transformers) (3.18.0)\n",
            "Requirement already satisfied: huggingface-hub<1.0,>=0.30.0 in /usr/local/lib/python3.11/dist-packages (from transformers) (0.30.2)\n",
            "Requirement already satisfied: numpy>=1.17 in /usr/local/lib/python3.11/dist-packages (from transformers) (2.0.2)\n",
            "Requirement already satisfied: packaging>=20.0 in /usr/local/lib/python3.11/dist-packages (from transformers) (24.2)\n",
            "Requirement already satisfied: pyyaml>=5.1 in /usr/local/lib/python3.11/dist-packages (from transformers) (6.0.2)\n",
            "Requirement already satisfied: regex!=2019.12.17 in /usr/local/lib/python3.11/dist-packages (from transformers) (2024.11.6)\n",
            "Requirement already satisfied: requests in /usr/local/lib/python3.11/dist-packages (from transformers) (2.32.3)\n",
            "Requirement already satisfied: tokenizers<0.22,>=0.21 in /usr/local/lib/python3.11/dist-packages (from transformers) (0.21.1)\n",
            "Requirement already satisfied: safetensors>=0.4.3 in /usr/local/lib/python3.11/dist-packages (from transformers) (0.5.3)\n",
            "Requirement already satisfied: tqdm>=4.27 in /usr/local/lib/python3.11/dist-packages (from transformers) (4.67.1)\n",
            "Requirement already satisfied: psutil in /usr/local/lib/python3.11/dist-packages (from accelerate) (5.9.5)\n",
            "Requirement already satisfied: torch>=2.0.0 in /usr/local/lib/python3.11/dist-packages (from accelerate) (2.6.0+cu124)\n",
            "Requirement already satisfied: fsspec>=2023.5.0 in /usr/local/lib/python3.11/dist-packages (from huggingface-hub<1.0,>=0.30.0->transformers) (2025.3.2)\n",
            "Requirement already satisfied: typing-extensions>=3.7.4.3 in /usr/local/lib/python3.11/dist-packages (from huggingface-hub<1.0,>=0.30.0->transformers) (4.13.2)\n",
            "Requirement already satisfied: networkx in /usr/local/lib/python3.11/dist-packages (from torch>=2.0.0->accelerate) (3.4.2)\n",
            "Requirement already satisfied: jinja2 in /usr/local/lib/python3.11/dist-packages (from torch>=2.0.0->accelerate) (3.1.6)\n",
            "Requirement already satisfied: nvidia-cuda-nvrtc-cu12==12.4.127 in /usr/local/lib/python3.11/dist-packages (from torch>=2.0.0->accelerate) (12.4.127)\n",
            "Requirement already satisfied: nvidia-cuda-runtime-cu12==12.4.127 in /usr/local/lib/python3.11/dist-packages (from torch>=2.0.0->accelerate) (12.4.127)\n",
            "Requirement already satisfied: nvidia-cuda-cupti-cu12==12.4.127 in /usr/local/lib/python3.11/dist-packages (from torch>=2.0.0->accelerate) (12.4.127)\n",
            "Requirement already satisfied: nvidia-cudnn-cu12==9.1.0.70 in /usr/local/lib/python3.11/dist-packages (from torch>=2.0.0->accelerate) (9.1.0.70)\n",
            "Requirement already satisfied: nvidia-cublas-cu12==12.4.5.8 in /usr/local/lib/python3.11/dist-packages (from torch>=2.0.0->accelerate) (12.4.5.8)\n",
            "Requirement already satisfied: nvidia-cufft-cu12==11.2.1.3 in /usr/local/lib/python3.11/dist-packages (from torch>=2.0.0->accelerate) (11.2.1.3)\n",
            "Requirement already satisfied: nvidia-curand-cu12==10.3.5.147 in /usr/local/lib/python3.11/dist-packages (from torch>=2.0.0->accelerate) (10.3.5.147)\n",
            "Requirement already satisfied: nvidia-cusolver-cu12==11.6.1.9 in /usr/local/lib/python3.11/dist-packages (from torch>=2.0.0->accelerate) (11.6.1.9)\n",
            "Requirement already satisfied: nvidia-cusparse-cu12==12.3.1.170 in /usr/local/lib/python3.11/dist-packages (from torch>=2.0.0->accelerate) (12.3.1.170)\n",
            "Requirement already satisfied: nvidia-cusparselt-cu12==0.6.2 in /usr/local/lib/python3.11/dist-packages (from torch>=2.0.0->accelerate) (0.6.2)\n",
            "Requirement already satisfied: nvidia-nccl-cu12==2.21.5 in /usr/local/lib/python3.11/dist-packages (from torch>=2.0.0->accelerate) (2.21.5)\n",
            "Requirement already satisfied: nvidia-nvtx-cu12==12.4.127 in /usr/local/lib/python3.11/dist-packages (from torch>=2.0.0->accelerate) (12.4.127)\n",
            "Requirement already satisfied: nvidia-nvjitlink-cu12==12.4.127 in /usr/local/lib/python3.11/dist-packages (from torch>=2.0.0->accelerate) (12.4.127)\n",
            "Requirement already satisfied: triton==3.2.0 in /usr/local/lib/python3.11/dist-packages (from torch>=2.0.0->accelerate) (3.2.0)\n",
            "Requirement already satisfied: sympy==1.13.1 in /usr/local/lib/python3.11/dist-packages (from torch>=2.0.0->accelerate) (1.13.1)\n",
            "Requirement already satisfied: mpmath<1.4,>=1.1.0 in /usr/local/lib/python3.11/dist-packages (from sympy==1.13.1->torch>=2.0.0->accelerate) (1.3.0)\n",
            "Requirement already satisfied: charset-normalizer<4,>=2 in /usr/local/lib/python3.11/dist-packages (from requests->transformers) (3.4.1)\n",
            "Requirement already satisfied: idna<4,>=2.5 in /usr/local/lib/python3.11/dist-packages (from requests->transformers) (3.10)\n",
            "Requirement already satisfied: urllib3<3,>=1.21.1 in /usr/local/lib/python3.11/dist-packages (from requests->transformers) (2.4.0)\n",
            "Requirement already satisfied: certifi>=2017.4.17 in /usr/local/lib/python3.11/dist-packages (from requests->transformers) (2025.4.26)\n",
            "Requirement already satisfied: MarkupSafe>=2.0 in /usr/local/lib/python3.11/dist-packages (from jinja2->torch>=2.0.0->accelerate) (3.0.2)\n"
          ]
        }
      ],
      "source": [
        "!pip install bitsandbytes\n",
        "!pip install transformers accelerate peft\n"
      ]
    },
    {
      "cell_type": "markdown",
      "source": [
        "# Loads a fine-tuned Falcon-7B model optimized for cybersecurity tasks. Defines a helper function to run text prompts through it."
      ],
      "metadata": {
        "id": "vEMmcOCRxZbu"
      }
    },
    {
      "cell_type": "code",
      "execution_count": null,
      "metadata": {
        "colab": {
          "base_uri": "https://localhost:8080/",
          "height": 463
        },
        "id": "usm_njUuf8e3",
        "outputId": "943de33b-e19b-47ec-f4c9-07d22451c684"
      },
      "outputs": [
        {
          "output_type": "stream",
          "name": "stderr",
          "text": [
            "CUDA is required but not available for bitsandbytes. Please consider installing the multi-platform enabled version of bitsandbytes, which is currently a work in progress. Please check currently supported platforms and installation instructions at https://huggingface.co/docs/bitsandbytes/main/en/installation#multi-backend\n"
          ]
        },
        {
          "output_type": "error",
          "ename": "RuntimeError",
          "evalue": "CUDA is required but not available for bitsandbytes. Please consider installing the multi-platform enabled version of bitsandbytes, which is currently a work in progress. Please check currently supported platforms and installation instructions at https://huggingface.co/docs/bitsandbytes/main/en/installation#multi-backend",
          "traceback": [
            "\u001b[0;31m---------------------------------------------------------------------------\u001b[0m",
            "\u001b[0;31mRuntimeError\u001b[0m                              Traceback (most recent call last)",
            "\u001b[0;32m<ipython-input-89-fd40fc7b7567>\u001b[0m in \u001b[0;36m<cell line: 0>\u001b[0;34m()\u001b[0m\n\u001b[1;32m     19\u001b[0m )\n\u001b[1;32m     20\u001b[0m \u001b[0;34m\u001b[0m\u001b[0m\n\u001b[0;32m---> 21\u001b[0;31m peft_base_model = AutoModelForCausalLM.from_pretrained(\n\u001b[0m\u001b[1;32m     22\u001b[0m     \u001b[0mconfig\u001b[0m\u001b[0;34m.\u001b[0m\u001b[0mbase_model_name_or_path\u001b[0m\u001b[0;34m,\u001b[0m\u001b[0;34m\u001b[0m\u001b[0;34m\u001b[0m\u001b[0m\n\u001b[1;32m     23\u001b[0m     \u001b[0mreturn_dict\u001b[0m\u001b[0;34m=\u001b[0m\u001b[0;32mTrue\u001b[0m\u001b[0;34m,\u001b[0m\u001b[0;34m\u001b[0m\u001b[0;34m\u001b[0m\u001b[0m\n",
            "\u001b[0;32m/usr/local/lib/python3.11/dist-packages/transformers/models/auto/auto_factory.py\u001b[0m in \u001b[0;36mfrom_pretrained\u001b[0;34m(cls, pretrained_model_name_or_path, *model_args, **kwargs)\u001b[0m\n\u001b[1;32m    562\u001b[0m             \u001b[0mcls\u001b[0m\u001b[0;34m.\u001b[0m\u001b[0mregister\u001b[0m\u001b[0;34m(\u001b[0m\u001b[0mconfig\u001b[0m\u001b[0;34m.\u001b[0m\u001b[0m__class__\u001b[0m\u001b[0;34m,\u001b[0m \u001b[0mmodel_class\u001b[0m\u001b[0;34m,\u001b[0m \u001b[0mexist_ok\u001b[0m\u001b[0;34m=\u001b[0m\u001b[0;32mTrue\u001b[0m\u001b[0;34m)\u001b[0m\u001b[0;34m\u001b[0m\u001b[0;34m\u001b[0m\u001b[0m\n\u001b[1;32m    563\u001b[0m             \u001b[0mmodel_class\u001b[0m \u001b[0;34m=\u001b[0m \u001b[0madd_generation_mixin_to_remote_model\u001b[0m\u001b[0;34m(\u001b[0m\u001b[0mmodel_class\u001b[0m\u001b[0;34m)\u001b[0m\u001b[0;34m\u001b[0m\u001b[0;34m\u001b[0m\u001b[0m\n\u001b[0;32m--> 564\u001b[0;31m             return model_class.from_pretrained(\n\u001b[0m\u001b[1;32m    565\u001b[0m                 \u001b[0mpretrained_model_name_or_path\u001b[0m\u001b[0;34m,\u001b[0m \u001b[0;34m*\u001b[0m\u001b[0mmodel_args\u001b[0m\u001b[0;34m,\u001b[0m \u001b[0mconfig\u001b[0m\u001b[0;34m=\u001b[0m\u001b[0mconfig\u001b[0m\u001b[0;34m,\u001b[0m \u001b[0;34m**\u001b[0m\u001b[0mhub_kwargs\u001b[0m\u001b[0;34m,\u001b[0m \u001b[0;34m**\u001b[0m\u001b[0mkwargs\u001b[0m\u001b[0;34m\u001b[0m\u001b[0;34m\u001b[0m\u001b[0m\n\u001b[1;32m    566\u001b[0m             )\n",
            "\u001b[0;32m/usr/local/lib/python3.11/dist-packages/transformers/modeling_utils.py\u001b[0m in \u001b[0;36m_wrapper\u001b[0;34m(*args, **kwargs)\u001b[0m\n\u001b[1;32m    277\u001b[0m         \u001b[0mold_dtype\u001b[0m \u001b[0;34m=\u001b[0m \u001b[0mtorch\u001b[0m\u001b[0;34m.\u001b[0m\u001b[0mget_default_dtype\u001b[0m\u001b[0;34m(\u001b[0m\u001b[0;34m)\u001b[0m\u001b[0;34m\u001b[0m\u001b[0;34m\u001b[0m\u001b[0m\n\u001b[1;32m    278\u001b[0m         \u001b[0;32mtry\u001b[0m\u001b[0;34m:\u001b[0m\u001b[0;34m\u001b[0m\u001b[0;34m\u001b[0m\u001b[0m\n\u001b[0;32m--> 279\u001b[0;31m             \u001b[0;32mreturn\u001b[0m \u001b[0mfunc\u001b[0m\u001b[0;34m(\u001b[0m\u001b[0;34m*\u001b[0m\u001b[0margs\u001b[0m\u001b[0;34m,\u001b[0m \u001b[0;34m**\u001b[0m\u001b[0mkwargs\u001b[0m\u001b[0;34m)\u001b[0m\u001b[0;34m\u001b[0m\u001b[0;34m\u001b[0m\u001b[0m\n\u001b[0m\u001b[1;32m    280\u001b[0m         \u001b[0;32mfinally\u001b[0m\u001b[0;34m:\u001b[0m\u001b[0;34m\u001b[0m\u001b[0;34m\u001b[0m\u001b[0m\n\u001b[1;32m    281\u001b[0m             \u001b[0mtorch\u001b[0m\u001b[0;34m.\u001b[0m\u001b[0mset_default_dtype\u001b[0m\u001b[0;34m(\u001b[0m\u001b[0mold_dtype\u001b[0m\u001b[0;34m)\u001b[0m\u001b[0;34m\u001b[0m\u001b[0;34m\u001b[0m\u001b[0m\n",
            "\u001b[0;32m/usr/local/lib/python3.11/dist-packages/transformers/modeling_utils.py\u001b[0m in \u001b[0;36mfrom_pretrained\u001b[0;34m(cls, pretrained_model_name_or_path, config, cache_dir, ignore_mismatched_sizes, force_download, local_files_only, token, revision, use_safetensors, weights_only, *model_args, **kwargs)\u001b[0m\n\u001b[1;32m   4226\u001b[0m \u001b[0;34m\u001b[0m\u001b[0m\n\u001b[1;32m   4227\u001b[0m         \u001b[0;32mif\u001b[0m \u001b[0mhf_quantizer\u001b[0m \u001b[0;32mis\u001b[0m \u001b[0;32mnot\u001b[0m \u001b[0;32mNone\u001b[0m\u001b[0;34m:\u001b[0m\u001b[0;34m\u001b[0m\u001b[0;34m\u001b[0m\u001b[0m\n\u001b[0;32m-> 4228\u001b[0;31m             hf_quantizer.validate_environment(\n\u001b[0m\u001b[1;32m   4229\u001b[0m                 \u001b[0mtorch_dtype\u001b[0m\u001b[0;34m=\u001b[0m\u001b[0mtorch_dtype\u001b[0m\u001b[0;34m,\u001b[0m\u001b[0;34m\u001b[0m\u001b[0;34m\u001b[0m\u001b[0m\n\u001b[1;32m   4230\u001b[0m                 \u001b[0mfrom_tf\u001b[0m\u001b[0;34m=\u001b[0m\u001b[0mfrom_tf\u001b[0m\u001b[0;34m,\u001b[0m\u001b[0;34m\u001b[0m\u001b[0;34m\u001b[0m\u001b[0m\n",
            "\u001b[0;32m/usr/local/lib/python3.11/dist-packages/transformers/quantizers/quantizer_bnb_4bit.py\u001b[0m in \u001b[0;36mvalidate_environment\u001b[0;34m(self, *args, **kwargs)\u001b[0m\n\u001b[1;32m     82\u001b[0m \u001b[0;34m\u001b[0m\u001b[0m\n\u001b[1;32m     83\u001b[0m         \u001b[0mbnb_multibackend_is_enabled\u001b[0m \u001b[0;34m=\u001b[0m \u001b[0mis_bitsandbytes_multi_backend_available\u001b[0m\u001b[0;34m(\u001b[0m\u001b[0;34m)\u001b[0m\u001b[0;34m\u001b[0m\u001b[0;34m\u001b[0m\u001b[0m\n\u001b[0;32m---> 84\u001b[0;31m         \u001b[0mvalidate_bnb_backend_availability\u001b[0m\u001b[0;34m(\u001b[0m\u001b[0mraise_exception\u001b[0m\u001b[0;34m=\u001b[0m\u001b[0;32mTrue\u001b[0m\u001b[0;34m)\u001b[0m\u001b[0;34m\u001b[0m\u001b[0;34m\u001b[0m\u001b[0m\n\u001b[0m\u001b[1;32m     85\u001b[0m \u001b[0;34m\u001b[0m\u001b[0m\n\u001b[1;32m     86\u001b[0m         \u001b[0;32mif\u001b[0m \u001b[0mkwargs\u001b[0m\u001b[0;34m.\u001b[0m\u001b[0mget\u001b[0m\u001b[0;34m(\u001b[0m\u001b[0;34m\"from_tf\"\u001b[0m\u001b[0;34m,\u001b[0m \u001b[0;32mFalse\u001b[0m\u001b[0;34m)\u001b[0m \u001b[0;32mor\u001b[0m \u001b[0mkwargs\u001b[0m\u001b[0;34m.\u001b[0m\u001b[0mget\u001b[0m\u001b[0;34m(\u001b[0m\u001b[0;34m\"from_flax\"\u001b[0m\u001b[0;34m,\u001b[0m \u001b[0;32mFalse\u001b[0m\u001b[0;34m)\u001b[0m\u001b[0;34m:\u001b[0m\u001b[0;34m\u001b[0m\u001b[0;34m\u001b[0m\u001b[0m\n",
            "\u001b[0;32m/usr/local/lib/python3.11/dist-packages/transformers/integrations/bitsandbytes.py\u001b[0m in \u001b[0;36mvalidate_bnb_backend_availability\u001b[0;34m(raise_exception)\u001b[0m\n\u001b[1;32m    559\u001b[0m     \u001b[0;32mif\u001b[0m \u001b[0mis_bitsandbytes_multi_backend_available\u001b[0m\u001b[0;34m(\u001b[0m\u001b[0;34m)\u001b[0m\u001b[0;34m:\u001b[0m\u001b[0;34m\u001b[0m\u001b[0;34m\u001b[0m\u001b[0m\n\u001b[1;32m    560\u001b[0m         \u001b[0;32mreturn\u001b[0m \u001b[0m_validate_bnb_multi_backend_availability\u001b[0m\u001b[0;34m(\u001b[0m\u001b[0mraise_exception\u001b[0m\u001b[0;34m)\u001b[0m\u001b[0;34m\u001b[0m\u001b[0;34m\u001b[0m\u001b[0m\n\u001b[0;32m--> 561\u001b[0;31m     \u001b[0;32mreturn\u001b[0m \u001b[0m_validate_bnb_cuda_backend_availability\u001b[0m\u001b[0;34m(\u001b[0m\u001b[0mraise_exception\u001b[0m\u001b[0;34m)\u001b[0m\u001b[0;34m\u001b[0m\u001b[0;34m\u001b[0m\u001b[0m\n\u001b[0m",
            "\u001b[0;32m/usr/local/lib/python3.11/dist-packages/transformers/integrations/bitsandbytes.py\u001b[0m in \u001b[0;36m_validate_bnb_cuda_backend_availability\u001b[0;34m(raise_exception)\u001b[0m\n\u001b[1;32m    537\u001b[0m         \u001b[0;32mif\u001b[0m \u001b[0mraise_exception\u001b[0m\u001b[0;34m:\u001b[0m\u001b[0;34m\u001b[0m\u001b[0;34m\u001b[0m\u001b[0m\n\u001b[1;32m    538\u001b[0m             \u001b[0mlogger\u001b[0m\u001b[0;34m.\u001b[0m\u001b[0merror\u001b[0m\u001b[0;34m(\u001b[0m\u001b[0mlog_msg\u001b[0m\u001b[0;34m)\u001b[0m\u001b[0;34m\u001b[0m\u001b[0;34m\u001b[0m\u001b[0m\n\u001b[0;32m--> 539\u001b[0;31m             \u001b[0;32mraise\u001b[0m \u001b[0mRuntimeError\u001b[0m\u001b[0;34m(\u001b[0m\u001b[0mlog_msg\u001b[0m\u001b[0;34m)\u001b[0m\u001b[0;34m\u001b[0m\u001b[0;34m\u001b[0m\u001b[0m\n\u001b[0m\u001b[1;32m    540\u001b[0m \u001b[0;34m\u001b[0m\u001b[0m\n\u001b[1;32m    541\u001b[0m         \u001b[0mlogger\u001b[0m\u001b[0;34m.\u001b[0m\u001b[0mwarning\u001b[0m\u001b[0;34m(\u001b[0m\u001b[0mlog_msg\u001b[0m\u001b[0;34m)\u001b[0m\u001b[0;34m\u001b[0m\u001b[0;34m\u001b[0m\u001b[0m\n",
            "\u001b[0;31mRuntimeError\u001b[0m: CUDA is required but not available for bitsandbytes. Please consider installing the multi-platform enabled version of bitsandbytes, which is currently a work in progress. Please check currently supported platforms and installation instructions at https://huggingface.co/docs/bitsandbytes/main/en/installation#multi-backend"
          ]
        }
      ],
      "source": [
        "# ✅ Fine-tuned model\n",
        "# ✅ Install required packages (run only once per session)\n",
        "!pip install -q bitsandbytes accelerate transformers peft\n",
        "\n",
        "# ✅ Step 1: Load PEFT config and quantized base model\n",
        "from transformers import AutoTokenizer, AutoModelForCausalLM, BitsAndBytesConfig\n",
        "from peft import PeftModel, PeftConfig\n",
        "import torch\n",
        "\n",
        "PEFT_MODEL = \"shahrukh95/falcon-7b-Set-3-cybersecurity-layered-config\"\n",
        "\n",
        "config = PeftConfig.from_pretrained(PEFT_MODEL)\n",
        "\n",
        "bnb_config = BitsAndBytesConfig(\n",
        "    load_in_4bit=True,\n",
        "    bnb_4bit_use_double_quant=True,\n",
        "    bnb_4bit_quant_type=\"nf4\",\n",
        "    bnb_4bit_compute_dtype=torch.float16\n",
        ")\n",
        "\n",
        "peft_base_model = AutoModelForCausalLM.from_pretrained(\n",
        "    config.base_model_name_or_path,\n",
        "    return_dict=True,\n",
        "    quantization_config=bnb_config,\n",
        "    device_map=\"auto\",\n",
        "    trust_remote_code=True\n",
        ")\n",
        "\n",
        "# ✅ Step 2: Load QLoRA adapter + tokenizer\n",
        "model = PeftModel.from_pretrained(peft_base_model, PEFT_MODEL)\n",
        "tokenizer = AutoTokenizer.from_pretrained(PEFT_MODEL)\n",
        "if tokenizer.pad_token_id is None:\n",
        "    tokenizer.pad_token_id = tokenizer.eos_token_id\n",
        "\n",
        "device = \"cuda\" if torch.cuda.is_available() else \"cpu\"\n",
        "model = model.to(device)\n",
        "\n",
        "# ✅ Step 3: Generate response\n",
        "def generate_response(prompt, max_length=256):\n",
        "    inputs = tokenizer(prompt, return_tensors=\"pt\").to(device)\n",
        "    with torch.no_grad():\n",
        "        outputs = model.generate(\n",
        "            **inputs,\n",
        "            max_new_tokens=max_length,\n",
        "            eos_token_id=tokenizer.eos_token_id,\n",
        "            pad_token_id=tokenizer.pad_token_id,\n",
        "            do_sample=False\n",
        "        )\n",
        "    return tokenizer.decode(outputs[0], skip_special_tokens=True)\n",
        "\n",
        "# ✅ Step 4: Example question\n",
        "question = \"What are the potential consequences of exploiting CVE-2023-29351?\"\n",
        "print(\"Question:\", question)\n",
        "print(\"Answer:\", generate_response(question))\n"
      ]
    },
    {
      "cell_type": "markdown",
      "source": [
        "# Cleans up LLM output in case it includes HTML formatting."
      ],
      "metadata": {
        "id": "ljDx4MqYxdBb"
      }
    },
    {
      "cell_type": "code",
      "execution_count": null,
      "metadata": {
        "colab": {
          "base_uri": "https://localhost:8080/",
          "height": 228
        },
        "id": "aKUyUYnQ97pN",
        "outputId": "897d4005-66fb-4137-a71d-3e0b37b4b525"
      },
      "outputs": [
        {
          "output_type": "stream",
          "name": "stdout",
          "text": [
            "Question: What are the potential consequences of exploiting CVE-2023-29351?\n"
          ]
        },
        {
          "output_type": "error",
          "ename": "NameError",
          "evalue": "name 'generate_response' is not defined",
          "traceback": [
            "\u001b[0;31m---------------------------------------------------------------------------\u001b[0m",
            "\u001b[0;31mNameError\u001b[0m                                 Traceback (most recent call last)",
            "\u001b[0;32m<ipython-input-88-0653f68fc238>\u001b[0m in \u001b[0;36m<cell line: 0>\u001b[0;34m()\u001b[0m\n\u001b[1;32m      3\u001b[0m \u001b[0mquestion\u001b[0m \u001b[0;34m=\u001b[0m \u001b[0;34m\"What are the potential consequences of exploiting CVE-2023-29351?\"\u001b[0m\u001b[0;34m\u001b[0m\u001b[0;34m\u001b[0m\u001b[0m\n\u001b[1;32m      4\u001b[0m \u001b[0mprint\u001b[0m\u001b[0;34m(\u001b[0m\u001b[0;34m\"Question:\"\u001b[0m\u001b[0;34m,\u001b[0m \u001b[0mquestion\u001b[0m\u001b[0;34m)\u001b[0m\u001b[0;34m\u001b[0m\u001b[0;34m\u001b[0m\u001b[0m\n\u001b[0;32m----> 5\u001b[0;31m \u001b[0manswer\u001b[0m \u001b[0;34m=\u001b[0m \u001b[0mgenerate_response\u001b[0m\u001b[0;34m(\u001b[0m\u001b[0mquestion\u001b[0m\u001b[0;34m)\u001b[0m\u001b[0;34m\u001b[0m\u001b[0;34m\u001b[0m\u001b[0m\n\u001b[0m\u001b[1;32m      6\u001b[0m \u001b[0mprint\u001b[0m\u001b[0;34m(\u001b[0m\u001b[0;34m\"Raw Answer (with HTML):\"\u001b[0m\u001b[0;34m,\u001b[0m \u001b[0manswer\u001b[0m\u001b[0;34m)\u001b[0m\u001b[0;34m\u001b[0m\u001b[0;34m\u001b[0m\u001b[0m\n\u001b[1;32m      7\u001b[0m \u001b[0;34m\u001b[0m\u001b[0m\n",
            "\u001b[0;31mNameError\u001b[0m: name 'generate_response' is not defined"
          ]
        }
      ],
      "source": [
        "from bs4 import BeautifulSoup\n",
        "\n",
        "question = \"What are the potential consequences of exploiting CVE-2023-29351?\"\n",
        "print(\"Question:\", question)\n",
        "answer = generate_response(question)\n",
        "print(\"Raw Answer (with HTML):\", answer)\n",
        "\n",
        "# Cleaned answer (no HTML)\n",
        "clean_answer = BeautifulSoup(answer, \"html.parser\").get_text()\n",
        "print(\"Cleaned Answer:\", clean_answer)\n"
      ]
    },
    {
      "cell_type": "markdown",
      "source": [
        "# Transforms a raw feature row into a human-readable sentence, feeds it to the LLM, and gets a predicted traffic label."
      ],
      "metadata": {
        "id": "M3j0S113xfgW"
      }
    },
    {
      "cell_type": "code",
      "execution_count": null,
      "metadata": {
        "id": "iyIXR5ne-cgD"
      },
      "outputs": [],
      "source": [
        "# Function to turn a row into a natural prompt\n",
        "sample_row = X_test_df.sample(1, random_state=42).iloc[0]\n",
        "\n",
        "def row_to_prompt(row):\n",
        "    parts = [f\"{col} is {val:.2f}\" for col, val in row.items()]\n",
        "    return \"Flow with \" + \", \".join(parts) + \". What is the traffic label?\"\n",
        "\n",
        "prompt = row_to_prompt(sample_row)\n",
        "print(\"Prompt:\", prompt)\n",
        "\n",
        "answer = generate_response(prompt)\n",
        "print(\"Answer:\", answer)\n",
        "\n"
      ]
    },
    {
      "cell_type": "markdown",
      "metadata": {
        "id": "lIPYxX9YiJD_"
      },
      "source": [
        "Redundant imports, probably copied for a new section of experimentation or alternative pipeline."
      ]
    },
    {
      "cell_type": "code",
      "execution_count": null,
      "metadata": {
        "id": "mVUmJ0CxUyw2"
      },
      "outputs": [],
      "source": [
        "# Data & visualization\n",
        "import pandas as pd\n",
        "import numpy as np\n",
        "import matplotlib.pyplot as plt\n",
        "import seaborn as sns\n",
        "\n",
        "# ML models\n",
        "from sklearn.model_selection import train_test_split\n",
        "from sklearn.ensemble import RandomForestClassifier\n",
        "from sklearn.svm import SVC\n",
        "from xgboost import XGBClassifier\n",
        "\n",
        "# Evaluation\n",
        "from sklearn.metrics import accuracy_score, classification_report, confusion_matrix\n"
      ]
    },
    {
      "cell_type": "markdown",
      "source": [
        "# Installs XGBoost for use in later model comparison."
      ],
      "metadata": {
        "id": "dKmBjgl8zfnX"
      }
    },
    {
      "cell_type": "code",
      "execution_count": null,
      "metadata": {
        "colab": {
          "base_uri": "https://localhost:8080/"
        },
        "id": "PjU47nIcU5v8",
        "outputId": "bd92677e-1ea5-42f2-c947-003b49d577dc"
      },
      "outputs": [
        {
          "output_type": "stream",
          "name": "stdout",
          "text": [
            "Requirement already satisfied: xgboost in /usr/local/lib/python3.11/dist-packages (2.1.4)\n",
            "Requirement already satisfied: numpy in /usr/local/lib/python3.11/dist-packages (from xgboost) (2.0.2)\n",
            "Requirement already satisfied: nvidia-nccl-cu12 in /usr/local/lib/python3.11/dist-packages (from xgboost) (2.21.5)\n",
            "Requirement already satisfied: scipy in /usr/local/lib/python3.11/dist-packages (from xgboost) (1.15.2)\n"
          ]
        }
      ],
      "source": [
        "!pip install xgboost\n"
      ]
    },
    {
      "cell_type": "markdown",
      "source": [
        "# Debugging. Just lists files in the current working directory."
      ],
      "metadata": {
        "id": "-1A0HyUpz8GZ"
      }
    },
    {
      "cell_type": "code",
      "execution_count": null,
      "metadata": {
        "colab": {
          "base_uri": "https://localhost:8080/"
        },
        "id": "km72jAvHWni7",
        "outputId": "65f2ca90-7ab8-41dc-d915-ea8bcf9780a1"
      },
      "outputs": [
        {
          "output_type": "stream",
          "name": "stdout",
          "text": [
            ".config\n",
            "Datasets.zip\n",
            "sample_data\n"
          ]
        }
      ],
      "source": [
        "import os\n",
        "\n",
        "# List all files in current directory\n",
        "for file in os.listdir():\n",
        "    print(file)\n"
      ]
    },
    {
      "cell_type": "markdown",
      "source": [
        "# Extracts a .zip file that contains all the attack/benign traffic CSVs."
      ],
      "metadata": {
        "id": "8n2KHgCuz-pK"
      }
    },
    {
      "cell_type": "code",
      "execution_count": null,
      "metadata": {
        "id": "w47LQj_tYhJT",
        "colab": {
          "base_uri": "https://localhost:8080/"
        },
        "outputId": "447bc819-d5e6-4b39-b112-f50977dae215"
      },
      "outputs": [
        {
          "output_type": "stream",
          "name": "stdout",
          "text": [
            "Files extracted:\n",
            "['Datasets', '__MACOSX']\n"
          ]
        }
      ],
      "source": [
        "import zipfile\n",
        "import os\n",
        "\n",
        "# Unzip the file\n",
        "with zipfile.ZipFile(\"Datasets.zip\", \"r\") as zip_ref:\n",
        "    zip_ref.extractall(\"unzipped_data\")  # Extracts into a folder named 'unzipped_data'\n",
        "\n",
        "# List files in the extracted folder\n",
        "print(\"Files extracted:\")\n",
        "print(os.listdir(\"unzipped_data\"))\n"
      ]
    },
    {
      "cell_type": "markdown",
      "source": [
        "# Recursively lists all files in the extracted directory for inspection or automated processing"
      ],
      "metadata": {
        "id": "jDPcZMvQ0DKe"
      }
    },
    {
      "cell_type": "code",
      "execution_count": null,
      "metadata": {
        "id": "glmxpDGIdfyx",
        "colab": {
          "base_uri": "https://localhost:8080/"
        },
        "outputId": "93284bfe-9f69-44bb-9d6e-23f54e53a797"
      },
      "outputs": [
        {
          "output_type": "stream",
          "name": "stdout",
          "text": [
            "unzipped_data/Datasets/.DS_Store\n",
            "unzipped_data/Datasets/DoS-HTTP_Flood1.pcap.csv\n",
            "unzipped_data/Datasets/DDoS-SYN_Flood15.pcap.csv\n",
            "unzipped_data/Datasets/BenignTraffic.pcap.csv\n",
            "unzipped_data/Datasets/Backdoor_Malware.pcap.csv\n",
            "unzipped_data/Datasets/Recon-PortScan.pcap.csv\n",
            "unzipped_data/Datasets/MITM-ArpSpoofing1.pcap.csv\n",
            "unzipped_data/__MACOSX/Datasets/._DDoS-SYN_Flood15.pcap.csv\n",
            "unzipped_data/__MACOSX/Datasets/._BenignTraffic.pcap.csv\n",
            "unzipped_data/__MACOSX/Datasets/._Backdoor_Malware.pcap.csv\n",
            "unzipped_data/__MACOSX/Datasets/._.DS_Store\n",
            "unzipped_data/__MACOSX/Datasets/._MITM-ArpSpoofing1.pcap.csv\n",
            "unzipped_data/__MACOSX/Datasets/._DoS-HTTP_Flood1.pcap.csv\n",
            "unzipped_data/__MACOSX/Datasets/._Recon-PortScan.pcap.csv\n"
          ]
        }
      ],
      "source": [
        "import os\n",
        "\n",
        "for root, dirs, files in os.walk(\"unzipped_data\"):\n",
        "    for file in files:\n",
        "        full_path = os.path.join(root, file)\n",
        "        print(full_path)\n"
      ]
    },
    {
      "cell_type": "markdown",
      "source": [
        "# Loads a specific attack file (MITM) from the extracted folder and previews the data."
      ],
      "metadata": {
        "id": "M4BGumGB0Fc3"
      }
    },
    {
      "cell_type": "code",
      "execution_count": null,
      "metadata": {
        "id": "XQC_0vqjd_IR",
        "colab": {
          "base_uri": "https://localhost:8080/",
          "height": 273
        },
        "outputId": "b51dc3d4-2e1b-447d-949e-df08b0d5b060"
      },
      "outputs": [
        {
          "output_type": "execute_result",
          "data": {
            "text/plain": [
              "   Header_Length  Protocol Type  Time_To_Live         Rate  fin_flag_number  \\\n",
              "0           32.0              6          56.0  5924.158192              0.0   \n",
              "1           29.6              6          94.9   111.993250              0.0   \n",
              "2           30.4              6         180.5   257.167803              0.0   \n",
              "3           33.2              6          79.3   475.825203              0.0   \n",
              "4           32.0              6          56.8  2587.319721              0.0   \n",
              "\n",
              "   syn_flag_number  rst_flag_number  psh_flag_number  ack_flag_number  \\\n",
              "0              0.0              0.0              0.8              1.0   \n",
              "1              0.0              0.0              0.5              0.9   \n",
              "2              0.1              0.0              0.2              0.9   \n",
              "3              0.0              0.0              0.2              1.0   \n",
              "4              0.0              0.0              0.6              1.0   \n",
              "\n",
              "   ece_flag_number  ...  LLC  Tot sum   Min   Max     AVG          Std  \\\n",
              "0              0.0  ...  1.0    23828  1514  2962  2382.8   747.743985   \n",
              "1              0.0  ...  1.0    11019    66  2962  1101.9  1171.778558   \n",
              "2              0.0  ...  1.0      871    66   214    87.1    46.010748   \n",
              "3              0.0  ...  1.0     6464    66  2962   646.4  1220.434094   \n",
              "4              0.0  ...  1.0    19484    66  2962  1948.4   977.325512   \n",
              "\n",
              "   Tot size       IAT  Number      Variance  \n",
              "0    2382.8  0.000169      10  5.591211e+05  \n",
              "1    1101.9  0.008951      10  1.373065e+06  \n",
              "2      87.1  0.003889      10  2.116989e+03  \n",
              "3     646.4  0.002102      10  1.489459e+06  \n",
              "4    1948.4  0.000387      10  9.551652e+05  \n",
              "\n",
              "[5 rows x 39 columns]"
            ],
            "text/html": [
              "\n",
              "  <div id=\"df-5d818677-8b18-4109-a53c-4c3cf95f251a\" class=\"colab-df-container\">\n",
              "    <div>\n",
              "<style scoped>\n",
              "    .dataframe tbody tr th:only-of-type {\n",
              "        vertical-align: middle;\n",
              "    }\n",
              "\n",
              "    .dataframe tbody tr th {\n",
              "        vertical-align: top;\n",
              "    }\n",
              "\n",
              "    .dataframe thead th {\n",
              "        text-align: right;\n",
              "    }\n",
              "</style>\n",
              "<table border=\"1\" class=\"dataframe\">\n",
              "  <thead>\n",
              "    <tr style=\"text-align: right;\">\n",
              "      <th></th>\n",
              "      <th>Header_Length</th>\n",
              "      <th>Protocol Type</th>\n",
              "      <th>Time_To_Live</th>\n",
              "      <th>Rate</th>\n",
              "      <th>fin_flag_number</th>\n",
              "      <th>syn_flag_number</th>\n",
              "      <th>rst_flag_number</th>\n",
              "      <th>psh_flag_number</th>\n",
              "      <th>ack_flag_number</th>\n",
              "      <th>ece_flag_number</th>\n",
              "      <th>...</th>\n",
              "      <th>LLC</th>\n",
              "      <th>Tot sum</th>\n",
              "      <th>Min</th>\n",
              "      <th>Max</th>\n",
              "      <th>AVG</th>\n",
              "      <th>Std</th>\n",
              "      <th>Tot size</th>\n",
              "      <th>IAT</th>\n",
              "      <th>Number</th>\n",
              "      <th>Variance</th>\n",
              "    </tr>\n",
              "  </thead>\n",
              "  <tbody>\n",
              "    <tr>\n",
              "      <th>0</th>\n",
              "      <td>32.0</td>\n",
              "      <td>6</td>\n",
              "      <td>56.0</td>\n",
              "      <td>5924.158192</td>\n",
              "      <td>0.0</td>\n",
              "      <td>0.0</td>\n",
              "      <td>0.0</td>\n",
              "      <td>0.8</td>\n",
              "      <td>1.0</td>\n",
              "      <td>0.0</td>\n",
              "      <td>...</td>\n",
              "      <td>1.0</td>\n",
              "      <td>23828</td>\n",
              "      <td>1514</td>\n",
              "      <td>2962</td>\n",
              "      <td>2382.8</td>\n",
              "      <td>747.743985</td>\n",
              "      <td>2382.8</td>\n",
              "      <td>0.000169</td>\n",
              "      <td>10</td>\n",
              "      <td>5.591211e+05</td>\n",
              "    </tr>\n",
              "    <tr>\n",
              "      <th>1</th>\n",
              "      <td>29.6</td>\n",
              "      <td>6</td>\n",
              "      <td>94.9</td>\n",
              "      <td>111.993250</td>\n",
              "      <td>0.0</td>\n",
              "      <td>0.0</td>\n",
              "      <td>0.0</td>\n",
              "      <td>0.5</td>\n",
              "      <td>0.9</td>\n",
              "      <td>0.0</td>\n",
              "      <td>...</td>\n",
              "      <td>1.0</td>\n",
              "      <td>11019</td>\n",
              "      <td>66</td>\n",
              "      <td>2962</td>\n",
              "      <td>1101.9</td>\n",
              "      <td>1171.778558</td>\n",
              "      <td>1101.9</td>\n",
              "      <td>0.008951</td>\n",
              "      <td>10</td>\n",
              "      <td>1.373065e+06</td>\n",
              "    </tr>\n",
              "    <tr>\n",
              "      <th>2</th>\n",
              "      <td>30.4</td>\n",
              "      <td>6</td>\n",
              "      <td>180.5</td>\n",
              "      <td>257.167803</td>\n",
              "      <td>0.0</td>\n",
              "      <td>0.1</td>\n",
              "      <td>0.0</td>\n",
              "      <td>0.2</td>\n",
              "      <td>0.9</td>\n",
              "      <td>0.0</td>\n",
              "      <td>...</td>\n",
              "      <td>1.0</td>\n",
              "      <td>871</td>\n",
              "      <td>66</td>\n",
              "      <td>214</td>\n",
              "      <td>87.1</td>\n",
              "      <td>46.010748</td>\n",
              "      <td>87.1</td>\n",
              "      <td>0.003889</td>\n",
              "      <td>10</td>\n",
              "      <td>2.116989e+03</td>\n",
              "    </tr>\n",
              "    <tr>\n",
              "      <th>3</th>\n",
              "      <td>33.2</td>\n",
              "      <td>6</td>\n",
              "      <td>79.3</td>\n",
              "      <td>475.825203</td>\n",
              "      <td>0.0</td>\n",
              "      <td>0.0</td>\n",
              "      <td>0.0</td>\n",
              "      <td>0.2</td>\n",
              "      <td>1.0</td>\n",
              "      <td>0.0</td>\n",
              "      <td>...</td>\n",
              "      <td>1.0</td>\n",
              "      <td>6464</td>\n",
              "      <td>66</td>\n",
              "      <td>2962</td>\n",
              "      <td>646.4</td>\n",
              "      <td>1220.434094</td>\n",
              "      <td>646.4</td>\n",
              "      <td>0.002102</td>\n",
              "      <td>10</td>\n",
              "      <td>1.489459e+06</td>\n",
              "    </tr>\n",
              "    <tr>\n",
              "      <th>4</th>\n",
              "      <td>32.0</td>\n",
              "      <td>6</td>\n",
              "      <td>56.8</td>\n",
              "      <td>2587.319721</td>\n",
              "      <td>0.0</td>\n",
              "      <td>0.0</td>\n",
              "      <td>0.0</td>\n",
              "      <td>0.6</td>\n",
              "      <td>1.0</td>\n",
              "      <td>0.0</td>\n",
              "      <td>...</td>\n",
              "      <td>1.0</td>\n",
              "      <td>19484</td>\n",
              "      <td>66</td>\n",
              "      <td>2962</td>\n",
              "      <td>1948.4</td>\n",
              "      <td>977.325512</td>\n",
              "      <td>1948.4</td>\n",
              "      <td>0.000387</td>\n",
              "      <td>10</td>\n",
              "      <td>9.551652e+05</td>\n",
              "    </tr>\n",
              "  </tbody>\n",
              "</table>\n",
              "<p>5 rows × 39 columns</p>\n",
              "</div>\n",
              "    <div class=\"colab-df-buttons\">\n",
              "\n",
              "  <div class=\"colab-df-container\">\n",
              "    <button class=\"colab-df-convert\" onclick=\"convertToInteractive('df-5d818677-8b18-4109-a53c-4c3cf95f251a')\"\n",
              "            title=\"Convert this dataframe to an interactive table.\"\n",
              "            style=\"display:none;\">\n",
              "\n",
              "  <svg xmlns=\"http://www.w3.org/2000/svg\" height=\"24px\" viewBox=\"0 -960 960 960\">\n",
              "    <path d=\"M120-120v-720h720v720H120Zm60-500h600v-160H180v160Zm220 220h160v-160H400v160Zm0 220h160v-160H400v160ZM180-400h160v-160H180v160Zm440 0h160v-160H620v160ZM180-180h160v-160H180v160Zm440 0h160v-160H620v160Z\"/>\n",
              "  </svg>\n",
              "    </button>\n",
              "\n",
              "  <style>\n",
              "    .colab-df-container {\n",
              "      display:flex;\n",
              "      gap: 12px;\n",
              "    }\n",
              "\n",
              "    .colab-df-convert {\n",
              "      background-color: #E8F0FE;\n",
              "      border: none;\n",
              "      border-radius: 50%;\n",
              "      cursor: pointer;\n",
              "      display: none;\n",
              "      fill: #1967D2;\n",
              "      height: 32px;\n",
              "      padding: 0 0 0 0;\n",
              "      width: 32px;\n",
              "    }\n",
              "\n",
              "    .colab-df-convert:hover {\n",
              "      background-color: #E2EBFA;\n",
              "      box-shadow: 0px 1px 2px rgba(60, 64, 67, 0.3), 0px 1px 3px 1px rgba(60, 64, 67, 0.15);\n",
              "      fill: #174EA6;\n",
              "    }\n",
              "\n",
              "    .colab-df-buttons div {\n",
              "      margin-bottom: 4px;\n",
              "    }\n",
              "\n",
              "    [theme=dark] .colab-df-convert {\n",
              "      background-color: #3B4455;\n",
              "      fill: #D2E3FC;\n",
              "    }\n",
              "\n",
              "    [theme=dark] .colab-df-convert:hover {\n",
              "      background-color: #434B5C;\n",
              "      box-shadow: 0px 1px 3px 1px rgba(0, 0, 0, 0.15);\n",
              "      filter: drop-shadow(0px 1px 2px rgba(0, 0, 0, 0.3));\n",
              "      fill: #FFFFFF;\n",
              "    }\n",
              "  </style>\n",
              "\n",
              "    <script>\n",
              "      const buttonEl =\n",
              "        document.querySelector('#df-5d818677-8b18-4109-a53c-4c3cf95f251a button.colab-df-convert');\n",
              "      buttonEl.style.display =\n",
              "        google.colab.kernel.accessAllowed ? 'block' : 'none';\n",
              "\n",
              "      async function convertToInteractive(key) {\n",
              "        const element = document.querySelector('#df-5d818677-8b18-4109-a53c-4c3cf95f251a');\n",
              "        const dataTable =\n",
              "          await google.colab.kernel.invokeFunction('convertToInteractive',\n",
              "                                                    [key], {});\n",
              "        if (!dataTable) return;\n",
              "\n",
              "        const docLinkHtml = 'Like what you see? Visit the ' +\n",
              "          '<a target=\"_blank\" href=https://colab.research.google.com/notebooks/data_table.ipynb>data table notebook</a>'\n",
              "          + ' to learn more about interactive tables.';\n",
              "        element.innerHTML = '';\n",
              "        dataTable['output_type'] = 'display_data';\n",
              "        await google.colab.output.renderOutput(dataTable, element);\n",
              "        const docLink = document.createElement('div');\n",
              "        docLink.innerHTML = docLinkHtml;\n",
              "        element.appendChild(docLink);\n",
              "      }\n",
              "    </script>\n",
              "  </div>\n",
              "\n",
              "\n",
              "    <div id=\"df-e285ba72-16b6-431e-bb4e-f26b3d5779ab\">\n",
              "      <button class=\"colab-df-quickchart\" onclick=\"quickchart('df-e285ba72-16b6-431e-bb4e-f26b3d5779ab')\"\n",
              "                title=\"Suggest charts\"\n",
              "                style=\"display:none;\">\n",
              "\n",
              "<svg xmlns=\"http://www.w3.org/2000/svg\" height=\"24px\"viewBox=\"0 0 24 24\"\n",
              "     width=\"24px\">\n",
              "    <g>\n",
              "        <path d=\"M19 3H5c-1.1 0-2 .9-2 2v14c0 1.1.9 2 2 2h14c1.1 0 2-.9 2-2V5c0-1.1-.9-2-2-2zM9 17H7v-7h2v7zm4 0h-2V7h2v10zm4 0h-2v-4h2v4z\"/>\n",
              "    </g>\n",
              "</svg>\n",
              "      </button>\n",
              "\n",
              "<style>\n",
              "  .colab-df-quickchart {\n",
              "      --bg-color: #E8F0FE;\n",
              "      --fill-color: #1967D2;\n",
              "      --hover-bg-color: #E2EBFA;\n",
              "      --hover-fill-color: #174EA6;\n",
              "      --disabled-fill-color: #AAA;\n",
              "      --disabled-bg-color: #DDD;\n",
              "  }\n",
              "\n",
              "  [theme=dark] .colab-df-quickchart {\n",
              "      --bg-color: #3B4455;\n",
              "      --fill-color: #D2E3FC;\n",
              "      --hover-bg-color: #434B5C;\n",
              "      --hover-fill-color: #FFFFFF;\n",
              "      --disabled-bg-color: #3B4455;\n",
              "      --disabled-fill-color: #666;\n",
              "  }\n",
              "\n",
              "  .colab-df-quickchart {\n",
              "    background-color: var(--bg-color);\n",
              "    border: none;\n",
              "    border-radius: 50%;\n",
              "    cursor: pointer;\n",
              "    display: none;\n",
              "    fill: var(--fill-color);\n",
              "    height: 32px;\n",
              "    padding: 0;\n",
              "    width: 32px;\n",
              "  }\n",
              "\n",
              "  .colab-df-quickchart:hover {\n",
              "    background-color: var(--hover-bg-color);\n",
              "    box-shadow: 0 1px 2px rgba(60, 64, 67, 0.3), 0 1px 3px 1px rgba(60, 64, 67, 0.15);\n",
              "    fill: var(--button-hover-fill-color);\n",
              "  }\n",
              "\n",
              "  .colab-df-quickchart-complete:disabled,\n",
              "  .colab-df-quickchart-complete:disabled:hover {\n",
              "    background-color: var(--disabled-bg-color);\n",
              "    fill: var(--disabled-fill-color);\n",
              "    box-shadow: none;\n",
              "  }\n",
              "\n",
              "  .colab-df-spinner {\n",
              "    border: 2px solid var(--fill-color);\n",
              "    border-color: transparent;\n",
              "    border-bottom-color: var(--fill-color);\n",
              "    animation:\n",
              "      spin 1s steps(1) infinite;\n",
              "  }\n",
              "\n",
              "  @keyframes spin {\n",
              "    0% {\n",
              "      border-color: transparent;\n",
              "      border-bottom-color: var(--fill-color);\n",
              "      border-left-color: var(--fill-color);\n",
              "    }\n",
              "    20% {\n",
              "      border-color: transparent;\n",
              "      border-left-color: var(--fill-color);\n",
              "      border-top-color: var(--fill-color);\n",
              "    }\n",
              "    30% {\n",
              "      border-color: transparent;\n",
              "      border-left-color: var(--fill-color);\n",
              "      border-top-color: var(--fill-color);\n",
              "      border-right-color: var(--fill-color);\n",
              "    }\n",
              "    40% {\n",
              "      border-color: transparent;\n",
              "      border-right-color: var(--fill-color);\n",
              "      border-top-color: var(--fill-color);\n",
              "    }\n",
              "    60% {\n",
              "      border-color: transparent;\n",
              "      border-right-color: var(--fill-color);\n",
              "    }\n",
              "    80% {\n",
              "      border-color: transparent;\n",
              "      border-right-color: var(--fill-color);\n",
              "      border-bottom-color: var(--fill-color);\n",
              "    }\n",
              "    90% {\n",
              "      border-color: transparent;\n",
              "      border-bottom-color: var(--fill-color);\n",
              "    }\n",
              "  }\n",
              "</style>\n",
              "\n",
              "      <script>\n",
              "        async function quickchart(key) {\n",
              "          const quickchartButtonEl =\n",
              "            document.querySelector('#' + key + ' button');\n",
              "          quickchartButtonEl.disabled = true;  // To prevent multiple clicks.\n",
              "          quickchartButtonEl.classList.add('colab-df-spinner');\n",
              "          try {\n",
              "            const charts = await google.colab.kernel.invokeFunction(\n",
              "                'suggestCharts', [key], {});\n",
              "          } catch (error) {\n",
              "            console.error('Error during call to suggestCharts:', error);\n",
              "          }\n",
              "          quickchartButtonEl.classList.remove('colab-df-spinner');\n",
              "          quickchartButtonEl.classList.add('colab-df-quickchart-complete');\n",
              "        }\n",
              "        (() => {\n",
              "          let quickchartButtonEl =\n",
              "            document.querySelector('#df-e285ba72-16b6-431e-bb4e-f26b3d5779ab button');\n",
              "          quickchartButtonEl.style.display =\n",
              "            google.colab.kernel.accessAllowed ? 'block' : 'none';\n",
              "        })();\n",
              "      </script>\n",
              "    </div>\n",
              "\n",
              "    </div>\n",
              "  </div>\n"
            ],
            "application/vnd.google.colaboratory.intrinsic+json": {
              "type": "dataframe",
              "variable_name": "df"
            }
          },
          "metadata": {},
          "execution_count": 6
        }
      ],
      "source": [
        "import pandas as pd\n",
        "df = pd.read_csv(\"unzipped_data/Datasets/MITM-ArpSpoofing1.pcap.csv\")\n",
        "df.head()\n"
      ]
    },
    {
      "cell_type": "code",
      "execution_count": null,
      "metadata": {
        "id": "VHTrFH_sf7eA",
        "colab": {
          "base_uri": "https://localhost:8080/"
        },
        "outputId": "3e44be17-b22f-4438-a0a4-f8e2ad5ae74d"
      },
      "outputs": [
        {
          "output_type": "stream",
          "name": "stdout",
          "text": [
            "   Header_Length  Protocol Type  Time_To_Live         Rate  fin_flag_number  \\\n",
            "0          23.48              6         69.00   388.198654             0.21   \n",
            "1          26.08              6         67.18  2125.172398             0.01   \n",
            "2          26.48              6         76.43   558.356097             0.05   \n",
            "3          26.24              6         80.04   128.150763             0.11   \n",
            "4          25.76              6         69.42  1455.395399             0.14   \n",
            "\n",
            "   syn_flag_number  rst_flag_number  psh_flag_number  ack_flag_number  \\\n",
            "0             0.29             0.04             0.29             0.92   \n",
            "1             0.34             0.10             0.21             0.68   \n",
            "2             0.24             0.05             0.16             0.70   \n",
            "3             0.22             0.01             0.25             0.87   \n",
            "4             0.31             0.04             0.26             0.75   \n",
            "\n",
            "   ece_flag_number  ...  Tot sum  Min   Max     AVG         Std  Tot size  \\\n",
            "0              0.0  ...    57634   60  2596  576.34  967.057489    576.34   \n",
            "1              0.0  ...     6671   60    74   66.71    6.474963     66.71   \n",
            "2              0.0  ...     8377   60   577   83.77   62.290595     83.77   \n",
            "3              0.0  ...    30600   60  2596  306.00  647.297568    306.00   \n",
            "4              0.0  ...    39665   60  2596  396.65  835.752360    396.65   \n",
            "\n",
            "        IAT  Number       Variance            label  \n",
            "0  0.002576     100  935200.186263  DoS-HTTP_Flood1  \n",
            "1  0.000473     100      41.925152  DoS-HTTP_Flood1  \n",
            "2  0.001796     100    3880.118283  DoS-HTTP_Flood1  \n",
            "3  0.007857     100  418994.141414  DoS-HTTP_Flood1  \n",
            "4  0.000687     100  698482.007576  DoS-HTTP_Flood1  \n",
            "\n",
            "[5 rows x 40 columns]\n",
            "\n",
            "Label counts:\n",
            " label\n",
            "BenignTraffic        362361\n",
            "DDoS-SYN_Flood15     137254\n",
            "Recon-PortScan        82284\n",
            "MITM-ArpSpoofing1     59854\n",
            "DoS-HTTP_Flood1       31175\n",
            "Backdoor_Malware       3218\n",
            "Name: count, dtype: int64\n"
          ]
        }
      ],
      "source": [
        "from sklearn.model_selection import train_test_split\n",
        "import pandas as pd\n",
        "import os\n",
        "\n",
        "# Define the base path (adjust if needed)\n",
        "base_path = \"unzipped_data/Datasets/\"\n",
        "\n",
        "# List all CSV files\n",
        "csv_files = [f for f in os.listdir(base_path) if f.endswith('.csv')]\n",
        "\n",
        "# Load each CSV and assign labels\n",
        "dfs = []\n",
        "for file in csv_files:\n",
        "    attack_type = file.split('.')[0]  # Extract attack name from filename (e.g., \"MITM-ArpSpoofing1\")\n",
        "    df = pd.read_csv(os.path.join(base_path, file))\n",
        "    df['label'] = attack_type  # Add a label column\n",
        "    dfs.append(df)\n",
        "\n",
        "# Combine all DataFrames\n",
        "data = pd.concat(dfs, ignore_index=True)\n",
        "print(data.head())\n",
        "print(\"\\nLabel counts:\\n\", data['label'].value_counts())\n",
        "\n",
        "X = data.drop('label', axis=1)  # Features (all columns except 'label')\n",
        "y = data['label']               # Target (labels)\n",
        "\n",
        "# Split into training and testing sets\n",
        "X_train, X_test, y_train, y_test = train_test_split(X, y, test_size=0.2, random_state=42)"
      ]
    },
    {
      "cell_type": "markdown",
      "source": [
        "# Quick sanity check that features and labels match in size."
      ],
      "metadata": {
        "id": "WC6Z9mcp0Ovd"
      }
    },
    {
      "cell_type": "code",
      "execution_count": null,
      "metadata": {
        "id": "791zcJcbneGr",
        "colab": {
          "base_uri": "https://localhost:8080/"
        },
        "outputId": "1622b7ee-6517-497c-f3a8-4af17a58947b"
      },
      "outputs": [
        {
          "output_type": "stream",
          "name": "stdout",
          "text": [
            "X_train shape: (540916, 39)\n",
            "y_train shape: (540916,)\n"
          ]
        }
      ],
      "source": [
        "print(\"X_train shape:\", X_train.shape)  # Should show (samples, features)\n",
        "print(\"y_train shape:\", y_train.shape)  # Should match X_train rows"
      ]
    },
    {
      "cell_type": "code",
      "execution_count": null,
      "metadata": {
        "id": "H50oZx3JpJWa",
        "colab": {
          "base_uri": "https://localhost:8080/"
        },
        "outputId": "a9a0253b-ec68-4775-bcba-d372209e3308"
      },
      "outputs": [
        {
          "output_type": "stream",
          "name": "stdout",
          "text": [
            "Infinite values in X_train: 21\n",
            "Infinite values in X_test: 7\n",
            "NaN values in X_train: 40\n",
            "NaN values in X_test: 12\n"
          ]
        }
      ],
      "source": [
        "import numpy as np\n",
        "\n",
        "# Check for infinite values in features\n",
        "print(\"Infinite values in X_train:\", np.isinf(X_train).sum().sum())\n",
        "print(\"Infinite values in X_test:\", np.isinf(X_test).sum().sum())\n",
        "\n",
        "# Check for NaN values\n",
        "print(\"NaN values in X_train:\", X_train.isna().sum().sum())\n",
        "print(\"NaN values in X_test:\", X_test.isna().sum().sum())"
      ]
    },
    {
      "cell_type": "markdown",
      "source": [
        "# Wipes out rows with garbage values in features and syncs labels."
      ],
      "metadata": {
        "id": "ATDzlmfO0WAj"
      }
    },
    {
      "cell_type": "code",
      "execution_count": null,
      "metadata": {
        "id": "YwibAdOGRD5q"
      },
      "outputs": [],
      "source": [
        "# Replace infinite values with NaN then drop/fill\n",
        "X_train = X_train.replace([np.inf, -np.inf], np.nan)\n",
        "X_test = X_test.replace([np.inf, -np.inf], np.nan)\n",
        "\n",
        "# Option 1: Drop rows with NaN/inf\n",
        "X_train = X_train.dropna()\n",
        "y_train = y_train[X_train.index]  # Match the labels\n",
        "\n",
        "# Option 2: Fill NaN values\n",
        "# X_train = X_train.fillna(X_train.mean())\n",
        "# X_test = X_test.fillna(X_train.mean())  # Use training stats"
      ]
    },
    {
      "cell_type": "markdown",
      "source": [
        "# Normalizes features to mean=0 and std=1. Critical for non-tree models and comparability."
      ],
      "metadata": {
        "id": "ZOpfNzhL0bMx"
      }
    },
    {
      "cell_type": "code",
      "execution_count": null,
      "metadata": {
        "id": "VciKuvWJSXXR"
      },
      "outputs": [],
      "source": [
        "from sklearn.preprocessing import StandardScaler\n",
        "\n",
        "scaler = StandardScaler()\n",
        "X_train_scaled = scaler.fit_transform(X_train)\n",
        "X_test_scaled = scaler.transform(X_test)\n",
        "\n",
        "# Convert back to DataFrame (optional)\n",
        "X_train = pd.DataFrame(X_train_scaled, columns=X_train.columns)\n",
        "X_test = pd.DataFrame(X_test_scaled, columns=X_test.columns)"
      ]
    },
    {
      "cell_type": "markdown",
      "source": [
        "# Verifies that scaling worked and all features are on a similar scale."
      ],
      "metadata": {
        "id": "pngqe5Oa0e-t"
      }
    },
    {
      "cell_type": "code",
      "execution_count": null,
      "metadata": {
        "id": "Z77IcUTMSfxB",
        "colab": {
          "base_uri": "https://localhost:8080/"
        },
        "outputId": "6f84f217-0e82-44ea-9d75-93f62dfbafc3"
      },
      "outputs": [
        {
          "output_type": "stream",
          "name": "stdout",
          "text": [
            "Feature ranges (min/max):\n",
            "     Header_Length  Protocol Type  Time_To_Live       Rate  fin_flag_number  \\\n",
            "min      -3.787949      -2.395282     -2.079219  -0.272271        -0.370689   \n",
            "max       5.131253       3.632330      3.629540  51.457317        19.761080   \n",
            "\n",
            "     syn_flag_number  rst_flag_number  psh_flag_number  ack_flag_number  \\\n",
            "min        -0.629136        -0.221543        -0.831938        -1.556906   \n",
            "max         1.850618         6.774466         5.091759         1.022122   \n",
            "\n",
            "     ece_flag_number  ...       LLC    Tot sum        Min        Max  \\\n",
            "min        -0.045955  ... -18.44206  -0.545990  -0.209252  -0.653526   \n",
            "max       110.564813  ...   0.33610  17.299319  15.786776  20.799028   \n",
            "\n",
            "           AVG        Std   Tot size         IAT    Number   Variance  \n",
            "min  -0.619328  -0.666111  -0.619328   -0.005388 -0.781746  -0.301392  \n",
            "max  14.297130  19.641378  14.297130  698.631875  1.735750  85.791242  \n",
            "\n",
            "[2 rows x 39 columns]\n"
          ]
        }
      ],
      "source": [
        "print(\"Feature ranges (min/max):\")\n",
        "print(X_train.describe().loc[['min', 'max']])"
      ]
    },
    {
      "cell_type": "markdown",
      "source": [
        "# Trains a LightGBM classifier, which is fast and accurate—good choice. CPU only, probably for environment compatibility."
      ],
      "metadata": {
        "id": "ThlXPg6T0h5K"
      }
    },
    {
      "cell_type": "code",
      "execution_count": null,
      "metadata": {
        "id": "5bYHlopaTlE4",
        "colab": {
          "base_uri": "https://localhost:8080/",
          "height": 357
        },
        "outputId": "d4dd5bc7-fd8f-460c-8e4a-8682aaa63cec"
      },
      "outputs": [
        {
          "output_type": "stream",
          "name": "stdout",
          "text": [
            "Requirement already satisfied: lightgbm in /usr/local/lib/python3.11/dist-packages (4.5.0)\n",
            "Requirement already satisfied: numpy>=1.17.0 in /usr/local/lib/python3.11/dist-packages (from lightgbm) (2.0.2)\n",
            "Requirement already satisfied: scipy in /usr/local/lib/python3.11/dist-packages (from lightgbm) (1.15.2)\n",
            "[LightGBM] [Warning] Found whitespace in feature_names, replace with underlines\n",
            "[LightGBM] [Info] Auto-choosing row-wise multi-threading, the overhead of testing was 0.276718 seconds.\n",
            "You can set `force_row_wise=true` to remove the overhead.\n",
            "And if memory is not enough, you can set `force_col_wise=true`.\n",
            "[LightGBM] [Info] Total Bins 4092\n",
            "[LightGBM] [Info] Number of data points in the train set: 540895, number of used features: 39\n",
            "[LightGBM] [Info] Start training from score -5.345823\n",
            "[LightGBM] [Info] Start training from score -0.623827\n",
            "[LightGBM] [Info] Start training from score -1.593290\n",
            "[LightGBM] [Info] Start training from score -3.074629\n",
            "[LightGBM] [Info] Start training from score -2.425698\n",
            "[LightGBM] [Info] Start training from score -2.108141\n"
          ]
        },
        {
          "output_type": "execute_result",
          "data": {
            "text/plain": [
              "LGBMClassifier(device='cpu', learning_rate=0.05, max_depth=12, n_estimators=200,\n",
              "               random_state=42, verbose=1)"
            ],
            "text/html": [
              "<style>#sk-container-id-1 {\n",
              "  /* Definition of color scheme common for light and dark mode */\n",
              "  --sklearn-color-text: #000;\n",
              "  --sklearn-color-text-muted: #666;\n",
              "  --sklearn-color-line: gray;\n",
              "  /* Definition of color scheme for unfitted estimators */\n",
              "  --sklearn-color-unfitted-level-0: #fff5e6;\n",
              "  --sklearn-color-unfitted-level-1: #f6e4d2;\n",
              "  --sklearn-color-unfitted-level-2: #ffe0b3;\n",
              "  --sklearn-color-unfitted-level-3: chocolate;\n",
              "  /* Definition of color scheme for fitted estimators */\n",
              "  --sklearn-color-fitted-level-0: #f0f8ff;\n",
              "  --sklearn-color-fitted-level-1: #d4ebff;\n",
              "  --sklearn-color-fitted-level-2: #b3dbfd;\n",
              "  --sklearn-color-fitted-level-3: cornflowerblue;\n",
              "\n",
              "  /* Specific color for light theme */\n",
              "  --sklearn-color-text-on-default-background: var(--sg-text-color, var(--theme-code-foreground, var(--jp-content-font-color1, black)));\n",
              "  --sklearn-color-background: var(--sg-background-color, var(--theme-background, var(--jp-layout-color0, white)));\n",
              "  --sklearn-color-border-box: var(--sg-text-color, var(--theme-code-foreground, var(--jp-content-font-color1, black)));\n",
              "  --sklearn-color-icon: #696969;\n",
              "\n",
              "  @media (prefers-color-scheme: dark) {\n",
              "    /* Redefinition of color scheme for dark theme */\n",
              "    --sklearn-color-text-on-default-background: var(--sg-text-color, var(--theme-code-foreground, var(--jp-content-font-color1, white)));\n",
              "    --sklearn-color-background: var(--sg-background-color, var(--theme-background, var(--jp-layout-color0, #111)));\n",
              "    --sklearn-color-border-box: var(--sg-text-color, var(--theme-code-foreground, var(--jp-content-font-color1, white)));\n",
              "    --sklearn-color-icon: #878787;\n",
              "  }\n",
              "}\n",
              "\n",
              "#sk-container-id-1 {\n",
              "  color: var(--sklearn-color-text);\n",
              "}\n",
              "\n",
              "#sk-container-id-1 pre {\n",
              "  padding: 0;\n",
              "}\n",
              "\n",
              "#sk-container-id-1 input.sk-hidden--visually {\n",
              "  border: 0;\n",
              "  clip: rect(1px 1px 1px 1px);\n",
              "  clip: rect(1px, 1px, 1px, 1px);\n",
              "  height: 1px;\n",
              "  margin: -1px;\n",
              "  overflow: hidden;\n",
              "  padding: 0;\n",
              "  position: absolute;\n",
              "  width: 1px;\n",
              "}\n",
              "\n",
              "#sk-container-id-1 div.sk-dashed-wrapped {\n",
              "  border: 1px dashed var(--sklearn-color-line);\n",
              "  margin: 0 0.4em 0.5em 0.4em;\n",
              "  box-sizing: border-box;\n",
              "  padding-bottom: 0.4em;\n",
              "  background-color: var(--sklearn-color-background);\n",
              "}\n",
              "\n",
              "#sk-container-id-1 div.sk-container {\n",
              "  /* jupyter's `normalize.less` sets `[hidden] { display: none; }`\n",
              "     but bootstrap.min.css set `[hidden] { display: none !important; }`\n",
              "     so we also need the `!important` here to be able to override the\n",
              "     default hidden behavior on the sphinx rendered scikit-learn.org.\n",
              "     See: https://github.com/scikit-learn/scikit-learn/issues/21755 */\n",
              "  display: inline-block !important;\n",
              "  position: relative;\n",
              "}\n",
              "\n",
              "#sk-container-id-1 div.sk-text-repr-fallback {\n",
              "  display: none;\n",
              "}\n",
              "\n",
              "div.sk-parallel-item,\n",
              "div.sk-serial,\n",
              "div.sk-item {\n",
              "  /* draw centered vertical line to link estimators */\n",
              "  background-image: linear-gradient(var(--sklearn-color-text-on-default-background), var(--sklearn-color-text-on-default-background));\n",
              "  background-size: 2px 100%;\n",
              "  background-repeat: no-repeat;\n",
              "  background-position: center center;\n",
              "}\n",
              "\n",
              "/* Parallel-specific style estimator block */\n",
              "\n",
              "#sk-container-id-1 div.sk-parallel-item::after {\n",
              "  content: \"\";\n",
              "  width: 100%;\n",
              "  border-bottom: 2px solid var(--sklearn-color-text-on-default-background);\n",
              "  flex-grow: 1;\n",
              "}\n",
              "\n",
              "#sk-container-id-1 div.sk-parallel {\n",
              "  display: flex;\n",
              "  align-items: stretch;\n",
              "  justify-content: center;\n",
              "  background-color: var(--sklearn-color-background);\n",
              "  position: relative;\n",
              "}\n",
              "\n",
              "#sk-container-id-1 div.sk-parallel-item {\n",
              "  display: flex;\n",
              "  flex-direction: column;\n",
              "}\n",
              "\n",
              "#sk-container-id-1 div.sk-parallel-item:first-child::after {\n",
              "  align-self: flex-end;\n",
              "  width: 50%;\n",
              "}\n",
              "\n",
              "#sk-container-id-1 div.sk-parallel-item:last-child::after {\n",
              "  align-self: flex-start;\n",
              "  width: 50%;\n",
              "}\n",
              "\n",
              "#sk-container-id-1 div.sk-parallel-item:only-child::after {\n",
              "  width: 0;\n",
              "}\n",
              "\n",
              "/* Serial-specific style estimator block */\n",
              "\n",
              "#sk-container-id-1 div.sk-serial {\n",
              "  display: flex;\n",
              "  flex-direction: column;\n",
              "  align-items: center;\n",
              "  background-color: var(--sklearn-color-background);\n",
              "  padding-right: 1em;\n",
              "  padding-left: 1em;\n",
              "}\n",
              "\n",
              "\n",
              "/* Toggleable style: style used for estimator/Pipeline/ColumnTransformer box that is\n",
              "clickable and can be expanded/collapsed.\n",
              "- Pipeline and ColumnTransformer use this feature and define the default style\n",
              "- Estimators will overwrite some part of the style using the `sk-estimator` class\n",
              "*/\n",
              "\n",
              "/* Pipeline and ColumnTransformer style (default) */\n",
              "\n",
              "#sk-container-id-1 div.sk-toggleable {\n",
              "  /* Default theme specific background. It is overwritten whether we have a\n",
              "  specific estimator or a Pipeline/ColumnTransformer */\n",
              "  background-color: var(--sklearn-color-background);\n",
              "}\n",
              "\n",
              "/* Toggleable label */\n",
              "#sk-container-id-1 label.sk-toggleable__label {\n",
              "  cursor: pointer;\n",
              "  display: flex;\n",
              "  width: 100%;\n",
              "  margin-bottom: 0;\n",
              "  padding: 0.5em;\n",
              "  box-sizing: border-box;\n",
              "  text-align: center;\n",
              "  align-items: start;\n",
              "  justify-content: space-between;\n",
              "  gap: 0.5em;\n",
              "}\n",
              "\n",
              "#sk-container-id-1 label.sk-toggleable__label .caption {\n",
              "  font-size: 0.6rem;\n",
              "  font-weight: lighter;\n",
              "  color: var(--sklearn-color-text-muted);\n",
              "}\n",
              "\n",
              "#sk-container-id-1 label.sk-toggleable__label-arrow:before {\n",
              "  /* Arrow on the left of the label */\n",
              "  content: \"▸\";\n",
              "  float: left;\n",
              "  margin-right: 0.25em;\n",
              "  color: var(--sklearn-color-icon);\n",
              "}\n",
              "\n",
              "#sk-container-id-1 label.sk-toggleable__label-arrow:hover:before {\n",
              "  color: var(--sklearn-color-text);\n",
              "}\n",
              "\n",
              "/* Toggleable content - dropdown */\n",
              "\n",
              "#sk-container-id-1 div.sk-toggleable__content {\n",
              "  max-height: 0;\n",
              "  max-width: 0;\n",
              "  overflow: hidden;\n",
              "  text-align: left;\n",
              "  /* unfitted */\n",
              "  background-color: var(--sklearn-color-unfitted-level-0);\n",
              "}\n",
              "\n",
              "#sk-container-id-1 div.sk-toggleable__content.fitted {\n",
              "  /* fitted */\n",
              "  background-color: var(--sklearn-color-fitted-level-0);\n",
              "}\n",
              "\n",
              "#sk-container-id-1 div.sk-toggleable__content pre {\n",
              "  margin: 0.2em;\n",
              "  border-radius: 0.25em;\n",
              "  color: var(--sklearn-color-text);\n",
              "  /* unfitted */\n",
              "  background-color: var(--sklearn-color-unfitted-level-0);\n",
              "}\n",
              "\n",
              "#sk-container-id-1 div.sk-toggleable__content.fitted pre {\n",
              "  /* unfitted */\n",
              "  background-color: var(--sklearn-color-fitted-level-0);\n",
              "}\n",
              "\n",
              "#sk-container-id-1 input.sk-toggleable__control:checked~div.sk-toggleable__content {\n",
              "  /* Expand drop-down */\n",
              "  max-height: 200px;\n",
              "  max-width: 100%;\n",
              "  overflow: auto;\n",
              "}\n",
              "\n",
              "#sk-container-id-1 input.sk-toggleable__control:checked~label.sk-toggleable__label-arrow:before {\n",
              "  content: \"▾\";\n",
              "}\n",
              "\n",
              "/* Pipeline/ColumnTransformer-specific style */\n",
              "\n",
              "#sk-container-id-1 div.sk-label input.sk-toggleable__control:checked~label.sk-toggleable__label {\n",
              "  color: var(--sklearn-color-text);\n",
              "  background-color: var(--sklearn-color-unfitted-level-2);\n",
              "}\n",
              "\n",
              "#sk-container-id-1 div.sk-label.fitted input.sk-toggleable__control:checked~label.sk-toggleable__label {\n",
              "  background-color: var(--sklearn-color-fitted-level-2);\n",
              "}\n",
              "\n",
              "/* Estimator-specific style */\n",
              "\n",
              "/* Colorize estimator box */\n",
              "#sk-container-id-1 div.sk-estimator input.sk-toggleable__control:checked~label.sk-toggleable__label {\n",
              "  /* unfitted */\n",
              "  background-color: var(--sklearn-color-unfitted-level-2);\n",
              "}\n",
              "\n",
              "#sk-container-id-1 div.sk-estimator.fitted input.sk-toggleable__control:checked~label.sk-toggleable__label {\n",
              "  /* fitted */\n",
              "  background-color: var(--sklearn-color-fitted-level-2);\n",
              "}\n",
              "\n",
              "#sk-container-id-1 div.sk-label label.sk-toggleable__label,\n",
              "#sk-container-id-1 div.sk-label label {\n",
              "  /* The background is the default theme color */\n",
              "  color: var(--sklearn-color-text-on-default-background);\n",
              "}\n",
              "\n",
              "/* On hover, darken the color of the background */\n",
              "#sk-container-id-1 div.sk-label:hover label.sk-toggleable__label {\n",
              "  color: var(--sklearn-color-text);\n",
              "  background-color: var(--sklearn-color-unfitted-level-2);\n",
              "}\n",
              "\n",
              "/* Label box, darken color on hover, fitted */\n",
              "#sk-container-id-1 div.sk-label.fitted:hover label.sk-toggleable__label.fitted {\n",
              "  color: var(--sklearn-color-text);\n",
              "  background-color: var(--sklearn-color-fitted-level-2);\n",
              "}\n",
              "\n",
              "/* Estimator label */\n",
              "\n",
              "#sk-container-id-1 div.sk-label label {\n",
              "  font-family: monospace;\n",
              "  font-weight: bold;\n",
              "  display: inline-block;\n",
              "  line-height: 1.2em;\n",
              "}\n",
              "\n",
              "#sk-container-id-1 div.sk-label-container {\n",
              "  text-align: center;\n",
              "}\n",
              "\n",
              "/* Estimator-specific */\n",
              "#sk-container-id-1 div.sk-estimator {\n",
              "  font-family: monospace;\n",
              "  border: 1px dotted var(--sklearn-color-border-box);\n",
              "  border-radius: 0.25em;\n",
              "  box-sizing: border-box;\n",
              "  margin-bottom: 0.5em;\n",
              "  /* unfitted */\n",
              "  background-color: var(--sklearn-color-unfitted-level-0);\n",
              "}\n",
              "\n",
              "#sk-container-id-1 div.sk-estimator.fitted {\n",
              "  /* fitted */\n",
              "  background-color: var(--sklearn-color-fitted-level-0);\n",
              "}\n",
              "\n",
              "/* on hover */\n",
              "#sk-container-id-1 div.sk-estimator:hover {\n",
              "  /* unfitted */\n",
              "  background-color: var(--sklearn-color-unfitted-level-2);\n",
              "}\n",
              "\n",
              "#sk-container-id-1 div.sk-estimator.fitted:hover {\n",
              "  /* fitted */\n",
              "  background-color: var(--sklearn-color-fitted-level-2);\n",
              "}\n",
              "\n",
              "/* Specification for estimator info (e.g. \"i\" and \"?\") */\n",
              "\n",
              "/* Common style for \"i\" and \"?\" */\n",
              "\n",
              ".sk-estimator-doc-link,\n",
              "a:link.sk-estimator-doc-link,\n",
              "a:visited.sk-estimator-doc-link {\n",
              "  float: right;\n",
              "  font-size: smaller;\n",
              "  line-height: 1em;\n",
              "  font-family: monospace;\n",
              "  background-color: var(--sklearn-color-background);\n",
              "  border-radius: 1em;\n",
              "  height: 1em;\n",
              "  width: 1em;\n",
              "  text-decoration: none !important;\n",
              "  margin-left: 0.5em;\n",
              "  text-align: center;\n",
              "  /* unfitted */\n",
              "  border: var(--sklearn-color-unfitted-level-1) 1pt solid;\n",
              "  color: var(--sklearn-color-unfitted-level-1);\n",
              "}\n",
              "\n",
              ".sk-estimator-doc-link.fitted,\n",
              "a:link.sk-estimator-doc-link.fitted,\n",
              "a:visited.sk-estimator-doc-link.fitted {\n",
              "  /* fitted */\n",
              "  border: var(--sklearn-color-fitted-level-1) 1pt solid;\n",
              "  color: var(--sklearn-color-fitted-level-1);\n",
              "}\n",
              "\n",
              "/* On hover */\n",
              "div.sk-estimator:hover .sk-estimator-doc-link:hover,\n",
              ".sk-estimator-doc-link:hover,\n",
              "div.sk-label-container:hover .sk-estimator-doc-link:hover,\n",
              ".sk-estimator-doc-link:hover {\n",
              "  /* unfitted */\n",
              "  background-color: var(--sklearn-color-unfitted-level-3);\n",
              "  color: var(--sklearn-color-background);\n",
              "  text-decoration: none;\n",
              "}\n",
              "\n",
              "div.sk-estimator.fitted:hover .sk-estimator-doc-link.fitted:hover,\n",
              ".sk-estimator-doc-link.fitted:hover,\n",
              "div.sk-label-container:hover .sk-estimator-doc-link.fitted:hover,\n",
              ".sk-estimator-doc-link.fitted:hover {\n",
              "  /* fitted */\n",
              "  background-color: var(--sklearn-color-fitted-level-3);\n",
              "  color: var(--sklearn-color-background);\n",
              "  text-decoration: none;\n",
              "}\n",
              "\n",
              "/* Span, style for the box shown on hovering the info icon */\n",
              ".sk-estimator-doc-link span {\n",
              "  display: none;\n",
              "  z-index: 9999;\n",
              "  position: relative;\n",
              "  font-weight: normal;\n",
              "  right: .2ex;\n",
              "  padding: .5ex;\n",
              "  margin: .5ex;\n",
              "  width: min-content;\n",
              "  min-width: 20ex;\n",
              "  max-width: 50ex;\n",
              "  color: var(--sklearn-color-text);\n",
              "  box-shadow: 2pt 2pt 4pt #999;\n",
              "  /* unfitted */\n",
              "  background: var(--sklearn-color-unfitted-level-0);\n",
              "  border: .5pt solid var(--sklearn-color-unfitted-level-3);\n",
              "}\n",
              "\n",
              ".sk-estimator-doc-link.fitted span {\n",
              "  /* fitted */\n",
              "  background: var(--sklearn-color-fitted-level-0);\n",
              "  border: var(--sklearn-color-fitted-level-3);\n",
              "}\n",
              "\n",
              ".sk-estimator-doc-link:hover span {\n",
              "  display: block;\n",
              "}\n",
              "\n",
              "/* \"?\"-specific style due to the `<a>` HTML tag */\n",
              "\n",
              "#sk-container-id-1 a.estimator_doc_link {\n",
              "  float: right;\n",
              "  font-size: 1rem;\n",
              "  line-height: 1em;\n",
              "  font-family: monospace;\n",
              "  background-color: var(--sklearn-color-background);\n",
              "  border-radius: 1rem;\n",
              "  height: 1rem;\n",
              "  width: 1rem;\n",
              "  text-decoration: none;\n",
              "  /* unfitted */\n",
              "  color: var(--sklearn-color-unfitted-level-1);\n",
              "  border: var(--sklearn-color-unfitted-level-1) 1pt solid;\n",
              "}\n",
              "\n",
              "#sk-container-id-1 a.estimator_doc_link.fitted {\n",
              "  /* fitted */\n",
              "  border: var(--sklearn-color-fitted-level-1) 1pt solid;\n",
              "  color: var(--sklearn-color-fitted-level-1);\n",
              "}\n",
              "\n",
              "/* On hover */\n",
              "#sk-container-id-1 a.estimator_doc_link:hover {\n",
              "  /* unfitted */\n",
              "  background-color: var(--sklearn-color-unfitted-level-3);\n",
              "  color: var(--sklearn-color-background);\n",
              "  text-decoration: none;\n",
              "}\n",
              "\n",
              "#sk-container-id-1 a.estimator_doc_link.fitted:hover {\n",
              "  /* fitted */\n",
              "  background-color: var(--sklearn-color-fitted-level-3);\n",
              "}\n",
              "</style><div id=\"sk-container-id-1\" class=\"sk-top-container\"><div class=\"sk-text-repr-fallback\"><pre>LGBMClassifier(device=&#x27;cpu&#x27;, learning_rate=0.05, max_depth=12, n_estimators=200,\n",
              "               random_state=42, verbose=1)</pre><b>In a Jupyter environment, please rerun this cell to show the HTML representation or trust the notebook. <br />On GitHub, the HTML representation is unable to render, please try loading this page with nbviewer.org.</b></div><div class=\"sk-container\" hidden><div class=\"sk-item\"><div class=\"sk-estimator fitted sk-toggleable\"><input class=\"sk-toggleable__control sk-hidden--visually\" id=\"sk-estimator-id-1\" type=\"checkbox\" checked><label for=\"sk-estimator-id-1\" class=\"sk-toggleable__label fitted sk-toggleable__label-arrow\"><div><div>LGBMClassifier</div></div><div><span class=\"sk-estimator-doc-link fitted\">i<span>Fitted</span></span></div></label><div class=\"sk-toggleable__content fitted\"><pre>LGBMClassifier(device=&#x27;cpu&#x27;, learning_rate=0.05, max_depth=12, n_estimators=200,\n",
              "               random_state=42, verbose=1)</pre></div> </div></div></div></div>"
            ]
          },
          "metadata": {},
          "execution_count": 13
        }
      ],
      "source": [
        "!pip install lightgbm\n",
        "from lightgbm import LGBMClassifier\n",
        "\n",
        "lgbm = LGBMClassifier(\n",
        "    n_estimators=200,\n",
        "    device='cpu',           # Critical for speed\n",
        "    max_depth=12,\n",
        "    learning_rate=0.05,\n",
        "    random_state=42,\n",
        "    verbose=1               # Shows progress\n",
        ")\n",
        "lgbm.fit(X_train, y_train)  # Handles pandas DataFrames directly"
      ]
    },
    {
      "cell_type": "markdown",
      "source": [
        "# Generates predictions from the LightGBM model."
      ],
      "metadata": {
        "id": "FOXHQr8a0k55"
      }
    },
    {
      "cell_type": "code",
      "execution_count": null,
      "metadata": {
        "id": "xF7GIXRtnvAb"
      },
      "outputs": [],
      "source": [
        "y_pred = lgbm.predict(X_test)"
      ]
    },
    {
      "cell_type": "markdown",
      "source": [
        "# Full model evaluation. Shows precision, recall, F1 score, and a confusion matrix."
      ],
      "metadata": {
        "id": "PQfnCuyb0nhF"
      }
    },
    {
      "cell_type": "code",
      "execution_count": null,
      "metadata": {
        "id": "WanTaDO8WRS-",
        "colab": {
          "base_uri": "https://localhost:8080/"
        },
        "outputId": "e0807752-25cb-4176-9a54-94947728ec5d"
      },
      "outputs": [
        {
          "output_type": "stream",
          "name": "stdout",
          "text": [
            "Accuracy: 0.8897434001331066\n",
            "Precision: 0.8925967489648111\n",
            "Recall: 0.8897434001331066\n",
            "F1-Score: 0.8800781900392286\n",
            "\n",
            "Classification Report:\n",
            "                   precision    recall  f1-score   support\n",
            "\n",
            " Backdoor_Malware       0.36      0.21      0.26       639\n",
            "    BenignTraffic       0.85      0.98      0.91     72485\n",
            " DDoS-SYN_Flood15       0.99      0.98      0.99     27314\n",
            "  DoS-HTTP_Flood1       0.95      0.95      0.95      6181\n",
            "MITM-ArpSpoofing1       0.90      0.69      0.78     12027\n",
            "   Recon-PortScan       0.90      0.49      0.64     16584\n",
            "\n",
            "         accuracy                           0.89    135230\n",
            "        macro avg       0.83      0.72      0.75    135230\n",
            "     weighted avg       0.89      0.89      0.88    135230\n",
            "\n",
            "\n",
            "Confusion Matrix:\n",
            "[[  132   432     0     1    21    53]\n",
            " [  137 70994     5    12   744   593]\n",
            " [    2     1 26898   258     0   155]\n",
            " [   11   108   104  5891    15    52]\n",
            " [   13  3715     5     2  8239    53]\n",
            " [   74  8044   173     5   122  8166]]\n"
          ]
        }
      ],
      "source": [
        "from sklearn.metrics import (\n",
        "    accuracy_score,\n",
        "    precision_score,\n",
        "    recall_score,\n",
        "    f1_score,\n",
        "    confusion_matrix,\n",
        "    classification_report\n",
        ")\n",
        "\n",
        "# Basic metrics\n",
        "print(\"Accuracy:\", accuracy_score(y_test, y_pred))\n",
        "print(\"Precision:\", precision_score(y_test, y_pred, average='weighted'))\n",
        "print(\"Recall:\", recall_score(y_test, y_pred, average='weighted'))\n",
        "print(\"F1-Score:\", f1_score(y_test, y_pred, average='weighted'))\n",
        "\n",
        "# Detailed report\n",
        "print(\"\\nClassification Report:\")\n",
        "print(classification_report(y_test, y_pred))\n",
        "\n",
        "# Confusion Matrix\n",
        "print(\"\\nConfusion Matrix:\")\n",
        "print(confusion_matrix(y_test, y_pred))"
      ]
    },
    {
      "cell_type": "markdown",
      "source": [
        "# Redoes the train-test split with different parameters or for new experiments."
      ],
      "metadata": {
        "id": "bqqf_ODT0uFr"
      }
    },
    {
      "cell_type": "code",
      "execution_count": null,
      "metadata": {
        "id": "l9n3gZQDRLgK"
      },
      "outputs": [],
      "source": [
        "X_train, X_test, y_train, y_test = train_test_split(X, y, test_size=0.25, random_state=42, stratify=y)"
      ]
    },
    {
      "cell_type": "markdown",
      "source": [
        "# Sets up multiple models for evaluation (Random Forest, SVM, KNN, etc.)."
      ],
      "metadata": {
        "id": "9VsiyqJw0xht"
      }
    },
    {
      "cell_type": "code",
      "execution_count": null,
      "metadata": {
        "id": "h2UO5ZFHQzw7"
      },
      "outputs": [],
      "source": [
        "from sklearn.ensemble import RandomForestClassifier, AdaBoostClassifier, GradientBoostingClassifier\n",
        "from sklearn.tree import DecisionTreeClassifier\n",
        "from sklearn.neighbors import KNeighborsClassifier\n",
        "from sklearn.svm import SVC\n",
        "from sklearn.naive_bayes import GaussianNB\n",
        "from sklearn.metrics import precision_score, recall_score, f1_score, confusion_matrix"
      ]
    },
    {
      "cell_type": "markdown",
      "source": [
        "# Another data integrity check before modeling."
      ],
      "metadata": {
        "id": "xSfUdIDR000C"
      }
    },
    {
      "cell_type": "code",
      "execution_count": null,
      "metadata": {
        "id": "mNqmcAK8fw_G",
        "colab": {
          "base_uri": "https://localhost:8080/"
        },
        "outputId": "e4b3fee2-399b-412b-b704-c62c7a438109"
      },
      "outputs": [
        {
          "output_type": "stream",
          "name": "stdout",
          "text": [
            "NaN in X_train: 40\n",
            "NaN in X_test: 12\n"
          ]
        }
      ],
      "source": [
        "print(\"NaN in X_train:\", X_train.isna().sum().sum())\n",
        "print(\"NaN in X_test:\", X_test.isna().sum().sum())"
      ]
    },
    {
      "cell_type": "markdown",
      "source": [
        "# Checks for available GPU. If you see no CUDA device, you're running on CPU."
      ],
      "metadata": {
        "id": "6t2a3j0603i3"
      }
    },
    {
      "cell_type": "code",
      "source": [
        "!nvidia-smi"
      ],
      "metadata": {
        "id": "ThGvOM5MjBG4",
        "colab": {
          "base_uri": "https://localhost:8080/"
        },
        "outputId": "b8f8d4a7-ddc1-4bb1-98d0-f52dbe81c1f2"
      },
      "execution_count": null,
      "outputs": [
        {
          "output_type": "stream",
          "name": "stdout",
          "text": [
            "/bin/bash: line 1: nvidia-smi: command not found\n"
          ]
        }
      ]
    },
    {
      "cell_type": "markdown",
      "source": [
        "# Final cleanup. Syncs features and labels again."
      ],
      "metadata": {
        "id": "sv2x3moH07fV"
      }
    },
    {
      "cell_type": "code",
      "execution_count": null,
      "metadata": {
        "id": "RoJ5iwJIf3-V"
      },
      "outputs": [],
      "source": [
        "X_train = X_train.dropna()\n",
        "y_train = y_train.loc[X_train.index]  # Align labels"
      ]
    },
    {
      "cell_type": "markdown",
      "source": [
        "# More bulletproofing against infinite values slipping through."
      ],
      "metadata": {
        "id": "WxRYILTF0_bT"
      }
    },
    {
      "cell_type": "code",
      "source": [
        "X_train = np.where(np.isinf(X_train), np.nan, X_train)\n",
        "X_test = np.where(np.isinf(X_test), np.nan, X_test)"
      ],
      "metadata": {
        "id": "4RDt7sO1kpOm"
      },
      "execution_count": null,
      "outputs": []
    },
    {
      "cell_type": "markdown",
      "source": [
        "# Applies imputation instead of dropping data. Smarter move if you don’t want to lose rows."
      ],
      "metadata": {
        "id": "eh9o0q3w1B9S"
      }
    },
    {
      "cell_type": "code",
      "execution_count": null,
      "metadata": {
        "id": "IrnWHFNtgGgZ"
      },
      "outputs": [],
      "source": [
        "from sklearn.impute import SimpleImputer\n",
        "\n",
        "imputer = SimpleImputer(strategy='mean')  # or 'median', 'most_frequent'\n",
        "X_train = imputer.fit_transform(X_train)\n",
        "X_test = imputer.transform(X_test)"
      ]
    },
    {
      "cell_type": "markdown",
      "source": [
        "# Applies LinearDiscriminantAnalysis() to the data.\n",
        "\n",
        "# Evaluates with evaluate_model().\n",
        "\n",
        "# No preprocessing unique to this model."
      ],
      "metadata": {
        "id": "s2lztcOL1lOF"
      }
    },
    {
      "cell_type": "code",
      "execution_count": null,
      "metadata": {
        "id": "KPEO2yqBQhku"
      },
      "outputs": [],
      "source": [
        "from sklearn.linear_model import LogisticRegression\n",
        "logreg = LogisticRegression(max_iter=500)\n",
        "logreg.fit(X_train, y_train)\n",
        "y_pred = logreg.predict(X_test)"
      ]
    },
    {
      "cell_type": "markdown",
      "source": [
        "# This cell defines a function called evaluate_model that prints standard classification metrics—accuracy, precision, recall, F1-score, and the confusion matrix—using weighted averaging to account for class imbalance. It then calls this function to evaluate a Logistic Regression model's predictions (y_pred) against the true labels (y_test). This setup helps ensure consistent and informative evaluation across different models."
      ],
      "metadata": {
        "id": "gYtqctOu1vWT"
      }
    },
    {
      "cell_type": "code",
      "execution_count": null,
      "metadata": {
        "id": "GWxGfx2uRVOz",
        "colab": {
          "base_uri": "https://localhost:8080/"
        },
        "outputId": "da36fce1-e39f-47de-e1ed-36ae9c8742e3"
      },
      "outputs": [
        {
          "output_type": "stream",
          "name": "stdout",
          "text": [
            "\n",
            "--- Logistic Regression ---\n",
            "Accuracy: 0.6000\n",
            "Precision: 0.4105\n",
            "Recall: 0.6000\n",
            "F1-Score: 0.4875\n",
            "Confusion Matrix:\n",
            "[[12  1]\n",
            " [ 7  0]]\n"
          ]
        }
      ],
      "source": [
        "from sklearn.metrics import precision_score, recall_score, f1_score, confusion_matrix\n",
        "def evaluate_model(name, y_test, y_pred):\n",
        "    print(f\"\\n--- {name} ---\")\n",
        "    print(f\"Accuracy: {accuracy_score(y_test, y_pred):.4f}\")  # Added accuracy\n",
        "    print(f\"Precision: {precision_score(y_test, y_pred, average='weighted'):.4f}\")\n",
        "    print(f\"Recall: {recall_score(y_test, y_pred, average='weighted'):.4f}\")\n",
        "    print(f\"F1-Score: {f1_score(y_test, y_pred, average='weighted'):.4f}\")\n",
        "    print(\"Confusion Matrix:\")\n",
        "    print(confusion_matrix(y_test, y_pred))\n",
        "\n",
        "evaluate_model(\"Logistic Regression\", y_test, y_pred)"
      ]
    },
    {
      "cell_type": "markdown",
      "source": [
        "# This cell trains a Random Forest classifier using the training data (X_train, y_train) and then generates predictions (y_pred) on the test set (X_test). The Random Forest model is an ensemble of decision trees and is well-suited for handling high-dimensional and imbalanced datasets. This setup is commonly used as a baseline due to its robustness and ease of use without extensive tuning."
      ],
      "metadata": {
        "id": "o69GdPgu2a1K"
      }
    },
    {
      "cell_type": "code",
      "execution_count": null,
      "metadata": {
        "id": "uCowtcIeT5Ik"
      },
      "outputs": [],
      "source": [
        "rf = RandomForestClassifier()\n",
        "rf.fit(X_train, y_train)\n",
        "y_pred = rf.predict(X_test)"
      ]
    },
    {
      "cell_type": "markdown",
      "source": [
        "# This cell reuses the `evaluate_model` function to assess the performance of the Random Forest model just trained. It prints out key classification metrics—accuracy, weighted precision, recall, F1-score, and the confusion matrix—providing a detailed view of how well the model performs, especially in imbalanced scenarios. The evaluation is labeled as “Random Forest” for clarity in multi-model comparisons.\n"
      ],
      "metadata": {
        "id": "HgMu8ck12g_-"
      }
    },
    {
      "cell_type": "code",
      "execution_count": null,
      "metadata": {
        "id": "HEbgrnxqT6FL",
        "colab": {
          "base_uri": "https://localhost:8080/"
        },
        "outputId": "6d5fa0b6-b3ab-4197-bf6e-229006f97b60"
      },
      "outputs": [
        {
          "output_type": "stream",
          "name": "stdout",
          "text": [
            "\n",
            "--- Random Forest ---\n",
            "Accuracy: 0.8000\n",
            "Precision: 0.8000\n",
            "Recall: 0.8000\n",
            "F1-Score: 0.8000\n",
            "Confusion Matrix:\n",
            "[[11  2]\n",
            " [ 2  5]]\n"
          ]
        }
      ],
      "source": [
        "from sklearn.metrics import precision_score, recall_score, f1_score, confusion_matrix\n",
        "def evaluate_model(name, y_test, y_pred):\n",
        "    print(f\"\\n--- {name} ---\")\n",
        "    print(f\"Accuracy: {accuracy_score(y_test, y_pred):.4f}\")  # Added accuracy\n",
        "    print(f\"Precision: {precision_score(y_test, y_pred, average='weighted'):.4f}\")\n",
        "    print(f\"Recall: {recall_score(y_test, y_pred, average='weighted'):.4f}\")\n",
        "    print(f\"F1-Score: {f1_score(y_test, y_pred, average='weighted'):.4f}\")\n",
        "    print(\"Confusion Matrix:\")\n",
        "    print(confusion_matrix(y_test, y_pred))\n",
        "\n",
        "evaluate_model(\"Random Forest\", y_test, y_pred)"
      ]
    },
    {
      "cell_type": "markdown",
      "source": [
        "# Trains a Decision Tree classifier on the training data and predicts labels for the test set."
      ],
      "metadata": {
        "id": "cZbs-pn22qQr"
      }
    },
    {
      "cell_type": "code",
      "execution_count": null,
      "metadata": {
        "id": "-QhYRFxWU-cy"
      },
      "outputs": [],
      "source": [
        "dt = DecisionTreeClassifier()\n",
        "dt.fit(X_train, y_train)\n",
        "y_pred = dt.predict(X_test)"
      ]
    },
    {
      "cell_type": "markdown",
      "source": [
        "# Evaluates the Decision Tree model using accuracy, weighted precision, recall, F1-score, and confusion matrix."
      ],
      "metadata": {
        "id": "NIn35ifU2uNo"
      }
    },
    {
      "cell_type": "code",
      "execution_count": null,
      "metadata": {
        "id": "jtWhc47jVCKJ",
        "colab": {
          "base_uri": "https://localhost:8080/"
        },
        "outputId": "7aff3c87-11eb-4b73-c68a-3baa4a0257e2"
      },
      "outputs": [
        {
          "output_type": "stream",
          "name": "stdout",
          "text": [
            "\n",
            "--- Decision Tree ---\n",
            "Accuracy: 0.6500\n",
            "Precision: 0.6393\n",
            "Recall: 0.6500\n",
            "F1-Score: 0.6430\n",
            "Confusion Matrix:\n",
            "[[10  3]\n",
            " [ 4  3]]\n"
          ]
        }
      ],
      "source": [
        "from sklearn.metrics import precision_score, recall_score, f1_score, confusion_matrix\n",
        "def evaluate_model(name, y_test, y_pred):\n",
        "    print(f\"\\n--- {name} ---\")\n",
        "    print(f\"Accuracy: {accuracy_score(y_test, y_pred):.4f}\")  # Added accuracy\n",
        "    print(f\"Precision: {precision_score(y_test, y_pred, average='weighted'):.4f}\")\n",
        "    print(f\"Recall: {recall_score(y_test, y_pred, average='weighted'):.4f}\")\n",
        "    print(f\"F1-Score: {f1_score(y_test, y_pred, average='weighted'):.4f}\")\n",
        "    print(\"Confusion Matrix:\")\n",
        "    print(confusion_matrix(y_test, y_pred))\n",
        "\n",
        "evaluate_model(\"Decision Tree\", y_test, y_pred)"
      ]
    },
    {
      "cell_type": "markdown",
      "source": [
        "# Trains a Linear Support Vector Classifier on a reduced subset of the training data for speed, then predicts labels on the test set."
      ],
      "metadata": {
        "id": "Li6a7LWl2xw4"
      }
    },
    {
      "cell_type": "code",
      "execution_count": null,
      "metadata": {
        "id": "1Xpxxt--d7TE"
      },
      "outputs": [],
      "source": [
        "from sklearn.svm import LinearSVC\n",
        "\n",
        "# 1. Reduce training size (optional, but safe)\n",
        "X_train_small = X_train[:20000]\n",
        "y_train_small = y_train[:20000]\n",
        "\n",
        "# 2. LinearSVC is MUCH faster than SVC\n",
        "svm = LinearSVC(max_iter=10000)  # allow enough iterations\n",
        "svm.fit(X_train_small, y_train_small)\n",
        "\n",
        "# 3. Predict\n",
        "y_pred = svm.predict(X_test)"
      ]
    },
    {
      "cell_type": "markdown",
      "source": [
        "# Evaluates the Linear SVC model trained on a smaller dataset using standard classification metrics and confusion matrix."
      ],
      "metadata": {
        "id": "ujxixt3123Iq"
      }
    },
    {
      "cell_type": "code",
      "execution_count": null,
      "metadata": {
        "id": "aWuHMeWmd8Qq",
        "colab": {
          "base_uri": "https://localhost:8080/"
        },
        "outputId": "64c3c6a1-1a13-476f-bd10-e90b2b5dbfec"
      },
      "outputs": [
        {
          "output_type": "stream",
          "name": "stdout",
          "text": [
            "\n",
            "--- Linear SVC (Small Train) ---\n",
            "Accuracy: 0.5500\n",
            "Precision: 0.4938\n",
            "Recall: 0.5500\n",
            "F1-Score: 0.5119\n",
            "Confusion Matrix:\n",
            "[[10  3]\n",
            " [ 6  1]]\n"
          ]
        }
      ],
      "source": [
        "from sklearn.metrics import precision_score, recall_score, f1_score, confusion_matrix\n",
        "def evaluate_model(name, y_test, y_pred):\n",
        "    print(f\"\\n--- {name} ---\")\n",
        "    print(f\"Accuracy: {accuracy_score(y_test, y_pred):.4f}\")  # Added accuracy\n",
        "    print(f\"Precision: {precision_score(y_test, y_pred, average='weighted'):.4f}\")\n",
        "    print(f\"Recall: {recall_score(y_test, y_pred, average='weighted'):.4f}\")\n",
        "    print(f\"F1-Score: {f1_score(y_test, y_pred, average='weighted'):.4f}\")\n",
        "    print(\"Confusion Matrix:\")\n",
        "    print(confusion_matrix(y_test, y_pred))\n",
        "\n",
        "evaluate_model(\"Linear SVC (Small Train)\", y_test, y_pred)"
      ]
    },
    {
      "cell_type": "markdown",
      "source": [
        "# This cell trains a K-Nearest Neighbors (KNN) classifier using a subset of the training data (first 20,000 rows) for faster computation. It then predicts labels for the test set. Multi-threading (n_jobs=-1) ensures the model uses all available CPU cores for quicker processing."
      ],
      "metadata": {
        "id": "DwKo9QPG3M2J"
      }
    },
    {
      "cell_type": "code",
      "execution_count": null,
      "metadata": {
        "id": "nqcPI0HqddEU"
      },
      "outputs": [],
      "source": [
        "from sklearn.neighbors import KNeighborsClassifier\n",
        "\n",
        "# 1. Reduce train size (optional but recommended)\n",
        "# Only use a subset of training data for KNN to speed it up\n",
        "X_train_small = X_train[:20000]  # Take first 20,000 rows only\n",
        "y_train_small = y_train[:20000]\n",
        "\n",
        "# 2. KNN with multi-threading\n",
        "knn = KNeighborsClassifier(n_jobs=-1)  # Use all CPU cores\n",
        "knn.fit(X_train_small, y_train_small)\n",
        "\n",
        "# 3. Predict\n",
        "y_pred = knn.predict(X_test)"
      ]
    },
    {
      "cell_type": "markdown",
      "source": [
        "# The function evaluates a model’s performance by calculating accuracy, precision, recall, F1-score, and the confusion matrix. It uses sklearn metrics with a weighted average for multi-class classification. The results are printed out for each metric, providing a comprehensive overview of the model’s prediction quality. The function is called with the model name, actual labels (y_test), and predicted labels (y_pred)."
      ],
      "metadata": {
        "id": "CsxhkFEC3qAU"
      }
    },
    {
      "cell_type": "code",
      "execution_count": null,
      "metadata": {
        "id": "fgkXTNLNdnFV",
        "colab": {
          "base_uri": "https://localhost:8080/"
        },
        "outputId": "06f2b384-d3e6-4612-eb34-5772dd80ff72"
      },
      "outputs": [
        {
          "output_type": "stream",
          "name": "stdout",
          "text": [
            "\n",
            "--- K-Nearest Neighbors ---\n",
            "Accuracy: 0.6500\n",
            "Precision: 0.6625\n",
            "Recall: 0.6500\n",
            "F1-Score: 0.6547\n",
            "Confusion Matrix:\n",
            "[[9 4]\n",
            " [3 4]]\n"
          ]
        }
      ],
      "source": [
        "from sklearn.metrics import precision_score, recall_score, f1_score, confusion_matrix\n",
        "def evaluate_model(name, y_test, y_pred):\n",
        "    print(f\"\\n--- {name} ---\")\n",
        "    print(f\"Accuracy: {accuracy_score(y_test, y_pred):.4f}\")  # Added accuracy\n",
        "    print(f\"Precision: {precision_score(y_test, y_pred, average='weighted'):.4f}\")\n",
        "    print(f\"Recall: {recall_score(y_test, y_pred, average='weighted'):.4f}\")\n",
        "    print(f\"F1-Score: {f1_score(y_test, y_pred, average='weighted'):.4f}\")\n",
        "    print(\"Confusion Matrix:\")\n",
        "    print(confusion_matrix(y_test, y_pred))\n",
        "\n",
        "evaluate_model(\"K-Nearest Neighbors\", y_test, y_pred)"
      ]
    },
    {
      "cell_type": "markdown",
      "source": [
        "# initializes a Naive Bayes classifier (GaussianNB), trains it on the training data (X_train, y_train), and then uses the trained model to make predictions on the test data (X_test). The predictions are stored in y_pred."
      ],
      "metadata": {
        "id": "T4naHNGy3wKF"
      }
    },
    {
      "cell_type": "code",
      "execution_count": null,
      "metadata": {
        "id": "HdrZWFlXfWHE"
      },
      "outputs": [],
      "source": [
        "nb = GaussianNB()\n",
        "nb.fit(X_train, y_train)\n",
        "y_pred = nb.predict(X_test)"
      ]
    },
    {
      "cell_type": "markdown",
      "source": [
        "# This code evaluates the Naive Bayes model by printing accuracy, precision, recall, F1-score (weighted), and the confusion matrix, based on true (y_test) and predicted (y_pred) labels."
      ],
      "metadata": {
        "id": "aBHEEGoD36Yx"
      }
    },
    {
      "cell_type": "code",
      "execution_count": null,
      "metadata": {
        "id": "0HEhj2AVfZaF",
        "colab": {
          "base_uri": "https://localhost:8080/"
        },
        "outputId": "cc5baea9-d1e3-4f59-f625-65e44acdda0c"
      },
      "outputs": [
        {
          "output_type": "stream",
          "name": "stdout",
          "text": [
            "\n",
            "--- Naive Bayes ---\n",
            "Accuracy: 0.4500\n",
            "Precision: 0.4950\n",
            "Recall: 0.4500\n",
            "F1-Score: 0.4627\n",
            "Confusion Matrix:\n",
            "[[6 7]\n",
            " [4 3]]\n"
          ]
        }
      ],
      "source": [
        "from sklearn.metrics import precision_score, recall_score, f1_score, confusion_matrix\n",
        "def evaluate_model(name, y_test, y_pred):\n",
        "    print(f\"\\n--- {name} ---\")\n",
        "    print(f\"Accuracy: {accuracy_score(y_test, y_pred):.4f}\")  # Added accuracy\n",
        "    print(f\"Precision: {precision_score(y_test, y_pred, average='weighted'):.4f}\")\n",
        "    print(f\"Recall: {recall_score(y_test, y_pred, average='weighted'):.4f}\")\n",
        "    print(f\"F1-Score: {f1_score(y_test, y_pred, average='weighted'):.4f}\")\n",
        "    print(\"Confusion Matrix:\")\n",
        "    print(confusion_matrix(y_test, y_pred))\n",
        "\n",
        "evaluate_model(\"Naive Bayes\", y_test, y_pred)"
      ]
    },
    {
      "cell_type": "markdown",
      "source": [
        "# trains an AdaBoost classifier on X_train and y_train, then predicts labels for X_test, storing the results in y_pred."
      ],
      "metadata": {
        "id": "AkLKMEJv3-ca"
      }
    },
    {
      "cell_type": "code",
      "execution_count": null,
      "metadata": {
        "id": "u1UM0irBfiui"
      },
      "outputs": [],
      "source": [
        "ada = AdaBoostClassifier()\n",
        "ada.fit(X_train, y_train)\n",
        "y_pred = ada.predict(X_test)"
      ]
    },
    {
      "cell_type": "markdown",
      "source": [
        "# Evaluates the AdaBoost model, printing accuracy, precision, recall, F1-score (weighted), and the confusion matrix based on the true (y_test) and predicted (y_pred) labels."
      ],
      "metadata": {
        "id": "MLBsJVNt4FCZ"
      }
    },
    {
      "cell_type": "code",
      "execution_count": null,
      "metadata": {
        "id": "FJsjLUEMflna",
        "colab": {
          "base_uri": "https://localhost:8080/"
        },
        "outputId": "abaa4d6f-4765-4d5a-942c-fb273432eb46"
      },
      "outputs": [
        {
          "output_type": "stream",
          "name": "stdout",
          "text": [
            "\n",
            "--- AdaBoost ---\n",
            "Accuracy: 0.8500\n",
            "Precision: 0.8583\n",
            "Recall: 0.8500\n",
            "F1-Score: 0.8520\n",
            "Confusion Matrix:\n",
            "[[11  2]\n",
            " [ 1  6]]\n"
          ]
        }
      ],
      "source": [
        "from sklearn.metrics import precision_score, recall_score, f1_score, confusion_matrix\n",
        "def evaluate_model(name, y_test, y_pred):\n",
        "    print(f\"\\n--- {name} ---\")\n",
        "    print(f\"Accuracy: {accuracy_score(y_test, y_pred):.4f}\")  # Added accuracy\n",
        "    print(f\"Precision: {precision_score(y_test, y_pred, average='weighted'):.4f}\")\n",
        "    print(f\"Recall: {recall_score(y_test, y_pred, average='weighted'):.4f}\")\n",
        "    print(f\"F1-Score: {f1_score(y_test, y_pred, average='weighted'):.4f}\")\n",
        "    print(\"Confusion Matrix:\")\n",
        "    print(confusion_matrix(y_test, y_pred))\n",
        "\n",
        "evaluate_model(\"AdaBoost\", y_test, y_pred)"
      ]
    },
    {
      "cell_type": "markdown",
      "source": [
        "# trains a Gradient Boosting classifier on X_train and y_train, then predicts labels for X_test, storing the results in y_pred."
      ],
      "metadata": {
        "id": "02em-Xb24Kbn"
      }
    },
    {
      "cell_type": "code",
      "execution_count": null,
      "metadata": {
        "id": "1yHu-POefuCy"
      },
      "outputs": [],
      "source": [
        "from sklearn.ensemble import GradientBoostingClassifier\n",
        "\n",
        "gb = GradientBoostingClassifier()\n",
        "gb.fit(X_train, y_train)\n",
        "y_pred = gb.predict(X_test)"
      ]
    },
    {
      "cell_type": "markdown",
      "source": [
        "# evaluates the Gradient Boosting model, printing accuracy, precision, recall, F1-score (weighted), and the confusion matrix based on the true (y_test) and predicted (y_pred) labels."
      ],
      "metadata": {
        "id": "AHYH98zU4OC3"
      }
    },
    {
      "cell_type": "code",
      "execution_count": null,
      "metadata": {
        "id": "GNcOIeXjfxbr",
        "colab": {
          "base_uri": "https://localhost:8080/"
        },
        "outputId": "ba1cc9bd-cfc8-44b0-81b0-541a8d9bddc9"
      },
      "outputs": [
        {
          "output_type": "stream",
          "name": "stdout",
          "text": [
            "\n",
            "--- Gradient Boosting ---\n",
            "Accuracy: 0.7000\n",
            "Precision: 0.7263\n",
            "Recall: 0.7000\n",
            "F1-Score: 0.7063\n",
            "Confusion Matrix:\n",
            "[[9 4]\n",
            " [2 5]]\n"
          ]
        }
      ],
      "source": [
        "from sklearn.metrics import precision_score, recall_score, f1_score, confusion_matrix\n",
        "def evaluate_model(name, y_test, y_pred):\n",
        "    print(f\"\\n--- {name} ---\")\n",
        "    print(f\"Accuracy: {accuracy_score(y_test, y_pred):.4f}\")  # Added accuracy\n",
        "    print(f\"Precision: {precision_score(y_test, y_pred, average='weighted'):.4f}\")\n",
        "    print(f\"Recall: {recall_score(y_test, y_pred, average='weighted'):.4f}\")\n",
        "    print(f\"F1-Score: {f1_score(y_test, y_pred, average='weighted'):.4f}\")\n",
        "    print(\"Confusion Matrix:\")\n",
        "    print(confusion_matrix(y_test, y_pred))\n",
        "\n",
        "evaluate_model(\"Gradient Boosting\", y_test, y_pred)"
      ]
    },
    {
      "cell_type": "markdown",
      "source": [
        "# This code imports classifiers: ExtraTreesClassifier, RidgeClassifier, LinearDiscriminantAnalysis, QuadraticDiscriminantAnalysis, xgboost, and lightgbm for different machine learning tasks."
      ],
      "metadata": {
        "id": "2S9p5G2s4UCd"
      }
    },
    {
      "cell_type": "code",
      "execution_count": null,
      "metadata": {
        "id": "c7TvJ6bPf53i"
      },
      "outputs": [],
      "source": [
        "from sklearn.ensemble import ExtraTreesClassifier\n",
        "from sklearn.linear_model import RidgeClassifier\n",
        "from sklearn.discriminant_analysis import LinearDiscriminantAnalysis, QuadraticDiscriminantAnalysis\n",
        "import xgboost as xgb\n",
        "import lightgbm as lgb"
      ]
    },
    {
      "cell_type": "markdown",
      "source": [
        "# This code trains an Extra Trees classifier on X_train and y_train, then predicts labels for X_test, storing the results in y_pred."
      ],
      "metadata": {
        "id": "djO0_euh4Ydm"
      }
    },
    {
      "cell_type": "code",
      "execution_count": null,
      "metadata": {
        "id": "FmbDsC5nf8Vr"
      },
      "outputs": [],
      "source": [
        "et = ExtraTreesClassifier()\n",
        "et.fit(X_train, y_train)\n",
        "y_pred = et.predict(X_test)"
      ]
    },
    {
      "cell_type": "markdown",
      "source": [
        "# This code evaluates the Extra Trees classifier by printing precision, recall, F1-score (weighted), and the confusion matrix based on the true (y_test) and predicted (y_pred) labels."
      ],
      "metadata": {
        "id": "PtTKkXxT4cMF"
      }
    },
    {
      "cell_type": "code",
      "execution_count": null,
      "metadata": {
        "id": "7RoVAWV5f_S5",
        "colab": {
          "base_uri": "https://localhost:8080/"
        },
        "outputId": "04235f24-0703-44ea-a712-0c894fde025d"
      },
      "outputs": [
        {
          "output_type": "stream",
          "name": "stdout",
          "text": [
            "\n",
            "--- Extra Trees Classifier ---\n",
            "Precision: 0.7263\n",
            "Recall: 0.7000\n",
            "F1-Score: 0.7063\n",
            "Confusion Matrix:\n",
            "[[9 4]\n",
            " [2 5]]\n"
          ]
        }
      ],
      "source": [
        "from sklearn.metrics import precision_score, recall_score, f1_score, confusion_matrix\n",
        "def evaluate_model(name, y_test, y_pred):\n",
        "    print(f\"\\n--- {name} ---\")\n",
        "    print(f\"Precision: {precision_score(y_test, y_pred, average='weighted'):.4f}\")\n",
        "    print(f\"Recall: {recall_score(y_test, y_pred, average='weighted'):.4f}\")\n",
        "    print(f\"F1-Score: {f1_score(y_test, y_pred, average='weighted'):.4f}\")\n",
        "    print(\"Confusion Matrix:\")\n",
        "    print(confusion_matrix(y_test, y_pred))\n",
        "\n",
        "evaluate_model(\"Extra Trees Classifier\", y_test, y_pred)"
      ]
    },
    {
      "cell_type": "markdown",
      "source": [
        "# This code trains a Ridge classifier on X_train and y_train, then predicts labels for X_test, storing the results in y_pred."
      ],
      "metadata": {
        "id": "jPNAtdBe4g2y"
      }
    },
    {
      "cell_type": "code",
      "execution_count": null,
      "metadata": {
        "id": "9PSi_BrKgJS8"
      },
      "outputs": [],
      "source": [
        "ridge = RidgeClassifier()\n",
        "ridge.fit(X_train, y_train)\n",
        "y_pred = ridge.predict(X_test)"
      ]
    },
    {
      "cell_type": "markdown",
      "source": [
        "# This code evaluates the Ridge classifier by printing precision, recall, F1-score (weighted), and the confusion matrix based on the true (y_test) and predicted (y_pred) labels."
      ],
      "metadata": {
        "id": "jh8TR_D04lN8"
      }
    },
    {
      "cell_type": "code",
      "execution_count": null,
      "metadata": {
        "id": "2NduaLGvgLy6",
        "colab": {
          "base_uri": "https://localhost:8080/"
        },
        "outputId": "ea366846-9b84-499b-8db5-e30f759880bd"
      },
      "outputs": [
        {
          "output_type": "stream",
          "name": "stdout",
          "text": [
            "\n",
            "--- Ridge Classifier ---\n",
            "Precision: 0.4938\n",
            "Recall: 0.5500\n",
            "F1-Score: 0.5119\n",
            "Confusion Matrix:\n",
            "[[10  3]\n",
            " [ 6  1]]\n"
          ]
        }
      ],
      "source": [
        "from sklearn.metrics import precision_score, recall_score, f1_score, confusion_matrix\n",
        "def evaluate_model(name, y_test, y_pred):\n",
        "    print(f\"\\n--- {name} ---\")\n",
        "    print(f\"Precision: {precision_score(y_test, y_pred, average='weighted'):.4f}\")\n",
        "    print(f\"Recall: {recall_score(y_test, y_pred, average='weighted'):.4f}\")\n",
        "    print(f\"F1-Score: {f1_score(y_test, y_pred, average='weighted'):.4f}\")\n",
        "    print(\"Confusion Matrix:\")\n",
        "    print(confusion_matrix(y_test, y_pred))\n",
        "\n",
        "evaluate_model(\"Ridge Classifier\", y_test, y_pred)"
      ]
    },
    {
      "cell_type": "markdown",
      "source": [
        "# This code trains a Linear Discriminant Analysis (LDA) model on X_train and y_train, then predicts labels for X_test, storing the results in y_pred."
      ],
      "metadata": {
        "id": "X9afa23q4nz3"
      }
    },
    {
      "cell_type": "code",
      "execution_count": null,
      "metadata": {
        "id": "JVHZbSXVgaFD"
      },
      "outputs": [],
      "source": [
        "lda = LinearDiscriminantAnalysis()\n",
        "lda.fit(X_train, y_train)\n",
        "y_pred = lda.predict(X_test)"
      ]
    },
    {
      "cell_type": "markdown",
      "source": [
        "# This code evaluates the performance of the Linear Discriminant Analysis (LDA) model."
      ],
      "metadata": {
        "id": "TJa7Ijue4yab"
      }
    },
    {
      "cell_type": "code",
      "execution_count": null,
      "metadata": {
        "id": "04iFJprLgcl2",
        "colab": {
          "base_uri": "https://localhost:8080/"
        },
        "outputId": "f21b3cc0-182c-463f-b8b9-5f05fa1bd88f"
      },
      "outputs": [
        {
          "output_type": "stream",
          "name": "stdout",
          "text": [
            "\n",
            "--- Linear Discriminant Analysis (LDA) ---\n",
            "Precision: 0.4938\n",
            "Precision: 0.4938\n",
            "Recall: 0.5500\n",
            "F1-Score: 0.5119\n",
            "Confusion Matrix:\n",
            "[[10  3]\n",
            " [ 6  1]]\n"
          ]
        }
      ],
      "source": [
        "from sklearn.metrics import precision_score, recall_score, f1_score, confusion_matrix\n",
        "def evaluate_model(name, y_test, y_pred):\n",
        "    print(f\"\\n--- {name} ---\")\n",
        "    print(f\"Precision: {precision_score(y_test, y_pred, average='weighted'):.4f}\")\n",
        "    print(f\"Precision: {precision_score(y_test, y_pred, average='weighted'):.4f}\")\n",
        "    print(f\"Recall: {recall_score(y_test, y_pred, average='weighted'):.4f}\")\n",
        "    print(f\"F1-Score: {f1_score(y_test, y_pred, average='weighted'):.4f}\")\n",
        "    print(\"Confusion Matrix:\")\n",
        "    print(confusion_matrix(y_test, y_pred))\n",
        "\n",
        "evaluate_model(\"Linear Discriminant Analysis (LDA)\", y_test, y_pred)"
      ]
    },
    {
      "cell_type": "markdown",
      "source": [
        "# This code imports XGBClassifier and prints the unique classes in y_train."
      ],
      "metadata": {
        "id": "oGzxEzL346VS"
      }
    },
    {
      "cell_type": "code",
      "execution_count": null,
      "metadata": {
        "id": "iYYGsi4ghdAL"
      },
      "outputs": [],
      "source": [
        "from xgboost import XGBClassifier"
      ]
    },
    {
      "cell_type": "code",
      "execution_count": null,
      "metadata": {
        "id": "X3feRpT3h8qz",
        "colab": {
          "base_uri": "https://localhost:8080/"
        },
        "outputId": "7082cfb8-3a86-4b5a-b18e-97d5bc0376ac"
      },
      "outputs": [
        {
          "output_type": "stream",
          "name": "stdout",
          "text": [
            "Unique classes in y_train: [0 1]\n"
          ]
        }
      ],
      "source": [
        "import numpy as np\n",
        "print(\"Unique classes in y_train:\", np.unique(y_train))"
      ]
    },
    {
      "cell_type": "markdown",
      "source": [
        "# This code trains an XGBoost model for binary classification, predicts on X_test, and evaluates using a classification report and confusion matrix, displayed as a heatmap."
      ],
      "metadata": {
        "id": "1QfRzKZ75HLs"
      }
    },
    {
      "cell_type": "code",
      "execution_count": null,
      "metadata": {
        "id": "zk0VH9qKhjap",
        "colab": {
          "base_uri": "https://localhost:8080/",
          "height": 690
        },
        "outputId": "1ee21033-c28f-461b-babd-2fb6c1983461"
      },
      "outputs": [
        {
          "output_type": "stream",
          "name": "stderr",
          "text": [
            "/usr/local/lib/python3.11/dist-packages/xgboost/core.py:158: UserWarning: [15:24:27] WARNING: /workspace/src/learner.cc:740: \n",
            "Parameters: { \"use_label_encoder\" } are not used.\n",
            "\n",
            "  warnings.warn(smsg, UserWarning)\n"
          ]
        },
        {
          "output_type": "stream",
          "name": "stdout",
          "text": [
            "📊 Classification Report:\n",
            "\n",
            "              precision    recall  f1-score   support\n",
            "\n",
            "           0       0.91      0.77      0.83        13\n",
            "           1       0.67      0.86      0.75         7\n",
            "\n",
            "    accuracy                           0.80        20\n",
            "   macro avg       0.79      0.81      0.79        20\n",
            "weighted avg       0.82      0.80      0.80        20\n",
            "\n"
          ]
        },
        {
          "output_type": "display_data",
          "data": {
            "text/plain": [
              "<Figure size 600x400 with 2 Axes>"
            ],
            "image/png": "[encoded data removed]"
          },
          "metadata": {}
        }
      ],
      "source": [
        "from xgboost import XGBClassifier\n",
        "\n",
        "# Initialize XGBoost for binary classification\n",
        "xgb_model = XGBClassifier(\n",
        "    n_estimators=100,\n",
        "    max_depth=6,\n",
        "    learning_rate=0.1,\n",
        "    random_state=42,\n",
        "    objective='binary:logistic',  # Binary classification (default)\n",
        "    eval_metric='logloss',        # Metric for binary tasks\n",
        "    use_label_encoder=False       # Avoid deprecation warnings\n",
        ")\n",
        "\n",
        "# Train the model (use y_train directly, since it's already [0, 1])\n",
        "xgb_model.fit(X_train, y_train)\n",
        "\n",
        "# Predict\n",
        "y_pred = xgb_model.predict(X_test)\n",
        "\n",
        "# Evaluate\n",
        "from sklearn.metrics import classification_report, confusion_matrix\n",
        "print(\"📊 Classification Report:\\n\")\n",
        "print(classification_report(y_test, y_pred))\n",
        "\n",
        "# Confusion Matrix\n",
        "import seaborn as sns\n",
        "import matplotlib.pyplot as plt\n",
        "plt.figure(figsize=(6, 4))\n",
        "sns.heatmap(confusion_matrix(y_test, y_pred),\n",
        "            annot=True, fmt='d', cmap=\"Blues\")\n",
        "plt.xlabel(\"Predicted\")\n",
        "plt.ylabel(\"Actual\")\n",
        "plt.title(\"XGBoost Confusion Matrix (Binary)\")\n",
        "plt.show()"
      ]
    },
    {
      "cell_type": "markdown",
      "source": [
        "# Installs the TensorFlow library."
      ],
      "metadata": {
        "id": "iMg6fe4P5YIo"
      }
    },
    {
      "cell_type": "code",
      "execution_count": null,
      "metadata": {
        "id": "ATGPJBgjmVw1",
        "colab": {
          "base_uri": "https://localhost:8080/"
        },
        "outputId": "6fc90132-d04c-49f7-a27e-2ae7c097deec"
      },
      "outputs": [
        {
          "output_type": "stream",
          "name": "stdout",
          "text": [
            "Requirement already satisfied: tensorflow in /usr/local/lib/python3.11/dist-packages (2.18.0)\n",
            "Requirement already satisfied: absl-py>=1.0.0 in /usr/local/lib/python3.11/dist-packages (from tensorflow) (1.4.0)\n",
            "Requirement already satisfied: astunparse>=1.6.0 in /usr/local/lib/python3.11/dist-packages (from tensorflow) (1.6.3)\n",
            "Requirement already satisfied: flatbuffers>=24.3.25 in /usr/local/lib/python3.11/dist-packages (from tensorflow) (25.2.10)\n",
            "Requirement already satisfied: gast!=0.5.0,!=0.5.1,!=0.5.2,>=0.2.1 in /usr/local/lib/python3.11/dist-packages (from tensorflow) (0.6.0)\n",
            "Requirement already satisfied: google-pasta>=0.1.1 in /usr/local/lib/python3.11/dist-packages (from tensorflow) (0.2.0)\n",
            "Requirement already satisfied: libclang>=13.0.0 in /usr/local/lib/python3.11/dist-packages (from tensorflow) (18.1.1)\n",
            "Requirement already satisfied: opt-einsum>=2.3.2 in /usr/local/lib/python3.11/dist-packages (from tensorflow) (3.4.0)\n",
            "Requirement already satisfied: packaging in /usr/local/lib/python3.11/dist-packages (from tensorflow) (24.2)\n",
            "Requirement already satisfied: protobuf!=4.21.0,!=4.21.1,!=4.21.2,!=4.21.3,!=4.21.4,!=4.21.5,<6.0.0dev,>=3.20.3 in /usr/local/lib/python3.11/dist-packages (from tensorflow) (5.29.4)\n",
            "Requirement already satisfied: requests<3,>=2.21.0 in /usr/local/lib/python3.11/dist-packages (from tensorflow) (2.32.3)\n",
            "Requirement already satisfied: setuptools in /usr/local/lib/python3.11/dist-packages (from tensorflow) (75.2.0)\n",
            "Requirement already satisfied: six>=1.12.0 in /usr/local/lib/python3.11/dist-packages (from tensorflow) (1.17.0)\n",
            "Requirement already satisfied: termcolor>=1.1.0 in /usr/local/lib/python3.11/dist-packages (from tensorflow) (3.1.0)\n",
            "Requirement already satisfied: typing-extensions>=3.6.6 in /usr/local/lib/python3.11/dist-packages (from tensorflow) (4.13.2)\n",
            "Requirement already satisfied: wrapt>=1.11.0 in /usr/local/lib/python3.11/dist-packages (from tensorflow) (1.17.2)\n",
            "Requirement already satisfied: grpcio<2.0,>=1.24.3 in /usr/local/lib/python3.11/dist-packages (from tensorflow) (1.71.0)\n",
            "Requirement already satisfied: tensorboard<2.19,>=2.18 in /usr/local/lib/python3.11/dist-packages (from tensorflow) (2.18.0)\n",
            "Requirement already satisfied: keras>=3.5.0 in /usr/local/lib/python3.11/dist-packages (from tensorflow) (3.8.0)\n",
            "Requirement already satisfied: numpy<2.1.0,>=1.26.0 in /usr/local/lib/python3.11/dist-packages (from tensorflow) (2.0.2)\n",
            "Requirement already satisfied: h5py>=3.11.0 in /usr/local/lib/python3.11/dist-packages (from tensorflow) (3.13.0)\n",
            "Requirement already satisfied: ml-dtypes<0.5.0,>=0.4.0 in /usr/local/lib/python3.11/dist-packages (from tensorflow) (0.4.1)\n",
            "Requirement already satisfied: tensorflow-io-gcs-filesystem>=0.23.1 in /usr/local/lib/python3.11/dist-packages (from tensorflow) (0.37.1)\n",
            "Requirement already satisfied: wheel<1.0,>=0.23.0 in /usr/local/lib/python3.11/dist-packages (from astunparse>=1.6.0->tensorflow) (0.45.1)\n",
            "Requirement already satisfied: rich in /usr/local/lib/python3.11/dist-packages (from keras>=3.5.0->tensorflow) (13.9.4)\n",
            "Requirement already satisfied: namex in /usr/local/lib/python3.11/dist-packages (from keras>=3.5.0->tensorflow) (0.0.9)\n",
            "Requirement already satisfied: optree in /usr/local/lib/python3.11/dist-packages (from keras>=3.5.0->tensorflow) (0.15.0)\n",
            "Requirement already satisfied: charset-normalizer<4,>=2 in /usr/local/lib/python3.11/dist-packages (from requests<3,>=2.21.0->tensorflow) (3.4.1)\n",
            "Requirement already satisfied: idna<4,>=2.5 in /usr/local/lib/python3.11/dist-packages (from requests<3,>=2.21.0->tensorflow) (3.10)\n",
            "Requirement already satisfied: urllib3<3,>=1.21.1 in /usr/local/lib/python3.11/dist-packages (from requests<3,>=2.21.0->tensorflow) (2.4.0)\n",
            "Requirement already satisfied: certifi>=2017.4.17 in /usr/local/lib/python3.11/dist-packages (from requests<3,>=2.21.0->tensorflow) (2025.4.26)\n",
            "Requirement already satisfied: markdown>=2.6.8 in /usr/local/lib/python3.11/dist-packages (from tensorboard<2.19,>=2.18->tensorflow) (3.8)\n",
            "Requirement already satisfied: tensorboard-data-server<0.8.0,>=0.7.0 in /usr/local/lib/python3.11/dist-packages (from tensorboard<2.19,>=2.18->tensorflow) (0.7.2)\n",
            "Requirement already satisfied: werkzeug>=1.0.1 in /usr/local/lib/python3.11/dist-packages (from tensorboard<2.19,>=2.18->tensorflow) (3.1.3)\n",
            "Requirement already satisfied: MarkupSafe>=2.1.1 in /usr/local/lib/python3.11/dist-packages (from werkzeug>=1.0.1->tensorboard<2.19,>=2.18->tensorflow) (3.0.2)\n",
            "Requirement already satisfied: markdown-it-py>=2.2.0 in /usr/local/lib/python3.11/dist-packages (from rich->keras>=3.5.0->tensorflow) (3.0.0)\n",
            "Requirement already satisfied: pygments<3.0.0,>=2.13.0 in /usr/local/lib/python3.11/dist-packages (from rich->keras>=3.5.0->tensorflow) (2.19.1)\n",
            "Requirement already satisfied: mdurl~=0.1 in /usr/local/lib/python3.11/dist-packages (from markdown-it-py>=2.2.0->rich->keras>=3.5.0->tensorflow) (0.1.2)\n"
          ]
        }
      ],
      "source": [
        "!pip install tensorflow"
      ]
    },
    {
      "cell_type": "markdown",
      "source": [
        "# Prints the column names of the DataFrame df."
      ],
      "metadata": {
        "id": "e_1piJFwDXDI"
      }
    },
    {
      "cell_type": "code",
      "execution_count": null,
      "metadata": {
        "id": "QrJdiISCtbKC",
        "colab": {
          "base_uri": "https://localhost:8080/"
        },
        "outputId": "4ff08c7e-c784-484d-94c6-28bccdb4909d"
      },
      "outputs": [
        {
          "output_type": "stream",
          "name": "stdout",
          "text": [
            "Index(['Header_Length', 'Protocol Type', 'Time_To_Live', 'Rate',\n",
            "       'fin_flag_number', 'syn_flag_number', 'rst_flag_number',\n",
            "       'psh_flag_number', 'ack_flag_number', 'ece_flag_number',\n",
            "       'cwr_flag_number', 'ack_count', 'syn_count', 'fin_count', 'rst_count',\n",
            "       'HTTP', 'HTTPS', 'DNS', 'Telnet', 'SMTP', 'SSH', 'IRC', 'TCP', 'UDP',\n",
            "       'DHCP', 'ARP', 'ICMP', 'IGMP', 'IPv', 'LLC', 'Tot sum', 'Min', 'Max',\n",
            "       'AVG', 'Std', 'Tot size', 'IAT', 'Number', 'Variance', 'label'],\n",
            "      dtype='object')\n"
          ]
        }
      ],
      "source": [
        "print(df.columns)\n"
      ]
    },
    {
      "cell_type": "markdown",
      "source": [
        "# This script extracts a ZIP file, loads a CSV dataset, preprocesses it by encoding categorical features and handling missing values, then splits the data for training and testing. It trains an MLPRegressor for regression or an MLPClassifier for classification, and evaluates the model using relevant metrics like MSE, R² (for regression) or accuracy, precision, recall, F1 score, and confusion matrix (for classification)."
      ],
      "metadata": {
        "id": "Mm7FzPIA5kEJ"
      }
    },
    {
      "cell_type": "code",
      "execution_count": null,
      "metadata": {
        "id": "E6dVY3bspokd",
        "colab": {
          "base_uri": "https://localhost:8080/"
        },
        "outputId": "196dd1cb-26cf-4746-8779-871b6ac21011"
      },
      "outputs": [
        {
          "output_type": "stream",
          "name": "stdout",
          "text": [
            "✅ Using dataset: Datasets_extracted/Datasets/DoS-HTTP_Flood1.pcap.csv\n",
            "\n",
            "🔍 Problem type detected: REGRESSION\n",
            "\n",
            "🔍 Checking for infinite values...\n",
            "Number of +inf values: 2\n",
            "Number of -inf values: 0\n",
            "\n",
            "🔧 Training REGRESSION model...\n",
            "\n",
            "✅ Regression Metrics:\n",
            "MSE: 44.50608749336342\n",
            "R² Score: 0.9997292419694871\n"
          ]
        }
      ],
      "source": [
        "import zipfile\n",
        "import pandas as pd\n",
        "import numpy as np\n",
        "import os\n",
        "from sklearn.model_selection import train_test_split\n",
        "from sklearn.neural_network import MLPRegressor, MLPClassifier\n",
        "from sklearn.metrics import (accuracy_score, precision_score, recall_score,\n",
        "                            f1_score, confusion_matrix, classification_report,\n",
        "                            mean_squared_error, r2_score)\n",
        "from sklearn.preprocessing import LabelEncoder, StandardScaler\n",
        "\n",
        "# 1. Extract ZIP file\n",
        "zip_path = \"Datasets.zip\"\n",
        "extract_folder = \"Datasets_extracted\"\n",
        "\n",
        "with zipfile.ZipFile(zip_path, 'r') as zip_ref:\n",
        "    zip_ref.extractall(extract_folder)\n",
        "\n",
        "# 2. Find CSV file inside extracted contents\n",
        "csv_files = []\n",
        "for root, dirs, files in os.walk(extract_folder):\n",
        "    for file in files:\n",
        "        if file.endswith('.csv'):\n",
        "            csv_files.append(os.path.join(root, file))\n",
        "\n",
        "if not csv_files:\n",
        "    raise FileNotFoundError(\"❌ No CSV file found in ZIP archive.\")\n",
        "\n",
        "csv_path = csv_files[0]  # Use the first found CSV file\n",
        "print(f\"✅ Using dataset: {csv_path}\")\n",
        "\n",
        "# 3. Load dataset\n",
        "df = pd.read_csv(csv_path)\n",
        "\n",
        "# 4. Drop non-numeric or irrelevant columns if needed\n",
        "df.drop(['id', 'proto', 'service', 'state'], axis=1, errors='ignore', inplace=True)\n",
        "\n",
        "# Encode any non-numeric columns\n",
        "for col in df.columns:\n",
        "    if df[col].dtype == 'object':\n",
        "        df[col] = LabelEncoder().fit_transform(df[col])\n",
        "\n",
        "# 5. Define features and labels\n",
        "# 5. Define features and labels\n",
        "if 'AVG' not in df.columns:\n",
        "    raise ValueError(\"❌ 'AVG' column not found. Please check column names.\")\n",
        "\n",
        "X = df.drop('AVG', axis=1)\n",
        "y = df['AVG']\n",
        "\n",
        "# Encode target if needed BEFORE train-test split\n",
        "if y.dtype == 'object':\n",
        "    print(\"🔠 Encoding target labels...\")\n",
        "    le = LabelEncoder()\n",
        "    y = le.fit_transform(y)\n",
        "\n",
        "# Now determine problem type\n",
        "problem_type = 'regression' if np.issubdtype(y.dtype, np.floating) else 'classification'\n",
        "print(f\"\\n🔍 Problem type detected: {problem_type.upper()}\")\n",
        "\n",
        "# Handle infinite values\n",
        "print(\"\\n🔍 Checking for infinite values...\")\n",
        "print(\"Number of +inf values:\", np.isinf(X).sum().sum())\n",
        "print(\"Number of -inf values:\", np.isneginf(X).sum().sum())\n",
        "\n",
        "X.replace([np.inf, -np.inf], np.nan, inplace=True)\n",
        "X.fillna(X.mean(), inplace=True)\n",
        "\n",
        "# Scale features\n",
        "scaler = StandardScaler()\n",
        "X = scaler.fit_transform(X)\n",
        "\n",
        "# Train-test split\n",
        "X_train, X_test, y_train, y_test = train_test_split(X, y, test_size=0.3, random_state=42)\n",
        "\n",
        "# Train and evaluate\n",
        "if problem_type == 'regression':\n",
        "    print(\"\\n🔧 Training REGRESSION model...\")\n",
        "    mlp = MLPRegressor(hidden_layer_sizes=(100, 50), activation='relu', solver='adam', max_iter=300, random_state=42)\n",
        "    mlp.fit(X_train, y_train)\n",
        "    y_pred = mlp.predict(X_test)\n",
        "\n",
        "    print(\"\\n✅ Regression Metrics:\")\n",
        "    print(\"MSE:\", mean_squared_error(y_test, y_pred))\n",
        "    print(\"R² Score:\", r2_score(y_test, y_pred))\n",
        "\n",
        "else:\n",
        "    print(\"\\n🔧 Training CLASSIFICATION model...\")\n",
        "    mlp = MLPClassifier(hidden_layer_sizes=(100, 50), activation='relu', solver='adam', max_iter=300, random_state=42)\n",
        "    mlp.fit(X_train, y_train)\n",
        "    y_pred = mlp.predict(X_test)\n",
        "\n",
        "    print(\"\\n✅ Classification Metrics:\")\n",
        "    print(\"Accuracy:\", accuracy_score(y_test, y_pred))\n",
        "    print(\"Precision:\", precision_score(y_test, y_pred, average='weighted', zero_division=0))\n",
        "    print(\"Recall:\", recall_score(y_test, y_pred, average='weighted'))\n",
        "    print(\"F1 Score:\", f1_score(y_test, y_pred, average='weighted'))\n",
        "    print(\"\\nConfusion Matrix:\\n\", confusion_matrix(y_test, y_pred))\n",
        "    print(\"\\nClassification Report:\\n\", classification_report(y_test, y_pred))\n"
      ]
    },
    {
      "cell_type": "markdown",
      "source": [
        "# This code prints the data type of the target variable (y) and the number of unique values in it."
      ],
      "metadata": {
        "id": "wO_ILfE25pGS"
      }
    },
    {
      "cell_type": "code",
      "source": [
        "print(f\"Target dtype: {y.dtype}\")\n",
        "print(f\"Unique values: {y.nunique()}\")"
      ],
      "metadata": {
        "id": "WwQnnGhVwXOy",
        "colab": {
          "base_uri": "https://localhost:8080/"
        },
        "outputId": "565ea370-9ebe-44bd-f1db-37130c317455"
      },
      "execution_count": null,
      "outputs": [
        {
          "output_type": "stream",
          "name": "stdout",
          "text": [
            "Target dtype: float64\n",
            "Unique values: 21492\n"
          ]
        }
      ]
    },
    {
      "cell_type": "markdown",
      "source": [
        "# The code generates and displays a heatmap of the confusion matrix using seaborn and matplotlib."
      ],
      "metadata": {
        "id": "QX7Ge_kn5-gF"
      }
    },
    {
      "cell_type": "code",
      "execution_count": null,
      "metadata": {
        "id": "jdZVX2jAWb7W",
        "colab": {
          "base_uri": "https://localhost:8080/",
          "height": 472
        },
        "outputId": "60cb1d18-7931-410d-a990-c5023ad1917a"
      },
      "outputs": [
        {
          "output_type": "display_data",
          "data": {
            "text/plain": [
              "<Figure size 640x480 with 2 Axes>"
            ],
            "image/png": "[encoded data removed]"
          },
          "metadata": {}
        }
      ],
      "source": [
        "import seaborn as sns\n",
        "import matplotlib.pyplot as plt\n",
        "\n",
        "cm = confusion_matrix(y_test, y_pred)\n",
        "sns.heatmap(cm, annot=True, fmt='d', cmap='Blues')\n",
        "plt.xlabel('Predicted')\n",
        "plt.ylabel('Actual')\n",
        "plt.title('Confusion Matrix')\n",
        "plt.show()"
      ]
    },
    {
      "cell_type": "markdown",
      "source": [
        "# This code calculates various classification metrics (Accuracy, Precision, Recall, F1-Score) and stores them in a CSV file called results.csv in a two-column format: one for the metric names and the other for their corresponding values.\n",
        "\n",
        "\n",
        "\n",
        "\n",
        "\n",
        "\n",
        "\n"
      ],
      "metadata": {
        "id": "BKgF_CP56Da8"
      }
    },
    {
      "cell_type": "code",
      "execution_count": null,
      "metadata": {
        "id": "U5002zwYWoMu"
      },
      "outputs": [],
      "source": [
        "import pandas as pd\n",
        "\n",
        "metrics = {\n",
        "    'Accuracy': accuracy_score(y_test, y_pred),\n",
        "    'Precision': precision_score(y_test, y_pred, average='weighted'),\n",
        "    'Recall': recall_score(y_test, y_pred, average='weighted'),\n",
        "    'F1-Score': f1_score(y_test, y_pred, average='weighted')\n",
        "}\n",
        "\n",
        "pd.DataFrame(metrics.items(), columns=['Metric', 'Value']).to_csv('results.csv', index=False)"
      ]
    },
    {
      "cell_type": "markdown",
      "source": [
        "# Installs the shap library, which is used for model interpretability and explaining machine learning model predictions.\n",
        "\n",
        "\n",
        "\n",
        "\n",
        "\n",
        "\n",
        "\n"
      ],
      "metadata": {
        "id": "Y2mB2_YD6ElM"
      }
    },
    {
      "cell_type": "code",
      "execution_count": null,
      "metadata": {
        "id": "vRUU0Gt7p9WF",
        "colab": {
          "base_uri": "https://localhost:8080/"
        },
        "outputId": "4a9e00f7-e0c5-4c7c-fb30-67d86596cfd6"
      },
      "outputs": [
        {
          "output_type": "stream",
          "name": "stdout",
          "text": [
            "Requirement already satisfied: shap in /usr/local/lib/python3.11/dist-packages (0.47.2)\n",
            "Requirement already satisfied: numpy in /usr/local/lib/python3.11/dist-packages (from shap) (2.0.2)\n",
            "Requirement already satisfied: scipy in /usr/local/lib/python3.11/dist-packages (from shap) (1.15.2)\n",
            "Requirement already satisfied: scikit-learn in /usr/local/lib/python3.11/dist-packages (from shap) (1.6.1)\n",
            "Requirement already satisfied: pandas in /usr/local/lib/python3.11/dist-packages (from shap) (2.2.2)\n",
            "Requirement already satisfied: tqdm>=4.27.0 in /usr/local/lib/python3.11/dist-packages (from shap) (4.67.1)\n",
            "Requirement already satisfied: packaging>20.9 in /usr/local/lib/python3.11/dist-packages (from shap) (24.2)\n",
            "Requirement already satisfied: slicer==0.0.8 in /usr/local/lib/python3.11/dist-packages (from shap) (0.0.8)\n",
            "Requirement already satisfied: numba>=0.54 in /usr/local/lib/python3.11/dist-packages (from shap) (0.60.0)\n",
            "Requirement already satisfied: cloudpickle in /usr/local/lib/python3.11/dist-packages (from shap) (3.1.1)\n",
            "Requirement already satisfied: typing-extensions in /usr/local/lib/python3.11/dist-packages (from shap) (4.13.2)\n",
            "Requirement already satisfied: llvmlite<0.44,>=0.43.0dev0 in /usr/local/lib/python3.11/dist-packages (from numba>=0.54->shap) (0.43.0)\n",
            "Requirement already satisfied: python-dateutil>=2.8.2 in /usr/local/lib/python3.11/dist-packages (from pandas->shap) (2.9.0.post0)\n",
            "Requirement already satisfied: pytz>=2020.1 in /usr/local/lib/python3.11/dist-packages (from pandas->shap) (2025.2)\n",
            "Requirement already satisfied: tzdata>=2022.7 in /usr/local/lib/python3.11/dist-packages (from pandas->shap) (2025.2)\n",
            "Requirement already satisfied: joblib>=1.2.0 in /usr/local/lib/python3.11/dist-packages (from scikit-learn->shap) (1.4.2)\n",
            "Requirement already satisfied: threadpoolctl>=3.1.0 in /usr/local/lib/python3.11/dist-packages (from scikit-learn->shap) (3.6.0)\n",
            "Requirement already satisfied: six>=1.5 in /usr/local/lib/python3.11/dist-packages (from python-dateutil>=2.8.2->pandas->shap) (1.17.0)\n"
          ]
        }
      ],
      "source": [
        "!pip install shap"
      ]
    },
    {
      "cell_type": "markdown",
      "source": [
        "# This code executes the cells following the current one in a Jupyter Notebook or Google Colab.\n",
        "\n",
        "\n",
        "\n"
      ],
      "metadata": {
        "id": "OpTC8EVT6LTY"
      }
    },
    {
      "cell_type": "code",
      "execution_count": null,
      "metadata": {
        "id": "95AJuC5qtG6v",
        "colab": {
          "base_uri": "https://localhost:8080/",
          "height": 17
        },
        "outputId": "8962183f-2de4-4945-b92e-3c0a78054016"
      },
      "outputs": [
        {
          "output_type": "display_data",
          "data": {
            "text/plain": [
              "<IPython.core.display.Javascript object>"
            ],
            "application/javascript": [
              "IPython.notebook.execute_cell_range(IPython.notebook.get_selected_index()+1, IPython.notebook.ncells())"
            ]
          },
          "metadata": {}
        }
      ],
      "source": [
        "# In Colab/Jupyter:\n",
        "from IPython.display import display, Javascript\n",
        "display(Javascript('IPython.notebook.execute_cell_range(IPython.notebook.get_selected_index()+1, IPython.notebook.ncells())'))"
      ]
    },
    {
      "cell_type": "markdown",
      "source": [
        "# This code prints the current working directory using Python's os.getcwd() function.\n",
        "\n",
        "\n",
        "\n",
        "\n",
        "\n",
        "\n",
        "\n"
      ],
      "metadata": {
        "id": "fME6q__u6O7C"
      }
    },
    {
      "cell_type": "code",
      "execution_count": null,
      "metadata": {
        "id": "vhwcNwW0uJZi",
        "colab": {
          "base_uri": "https://localhost:8080/"
        },
        "outputId": "1685e87c-304d-4542-df2a-4cb9d694d9c1"
      },
      "outputs": [
        {
          "output_type": "stream",
          "name": "stdout",
          "text": [
            "Working directory: /content\n"
          ]
        }
      ],
      "source": [
        "import os\n",
        "print(\"Working directory:\", os.getcwd())  # Correct Python way"
      ]
    },
    {
      "cell_type": "markdown",
      "source": [
        "# This code prints the versions of Python, Pandas, and NumPy currently in use:\n",
        "\n",
        "* Python version from sys.version\n",
        "\n",
        "* Pandas version from pd.__version__\n",
        "\n",
        "* NumPy version from np.__version__\n",
        "\n",
        "\n",
        "\n",
        "\n",
        "\n",
        "\n",
        "\n"
      ],
      "metadata": {
        "id": "In6m5v7z6S52"
      }
    },
    {
      "cell_type": "code",
      "execution_count": null,
      "metadata": {
        "id": "gSYfKs_8ufj0",
        "colab": {
          "base_uri": "https://localhost:8080/"
        },
        "outputId": "d220edf6-0e41-4980-eb31-b7360e876933"
      },
      "outputs": [
        {
          "output_type": "stream",
          "name": "stdout",
          "text": [
            "Python: 3.11.12 (main, Apr  9 2025, 08:55:54) [GCC 11.4.0]\n",
            "Pandas: 2.2.2\n",
            "Numpy: 2.0.2\n"
          ]
        }
      ],
      "source": [
        "import sys, pandas as pd, numpy as np\n",
        "print(\"Python:\", sys.version.split('\\n')[0])\n",
        "print(\"Pandas:\", pd.__version__)\n",
        "print(\"Numpy:\", np.__version__)"
      ]
    },
    {
      "cell_type": "markdown",
      "source": [
        "# his code prints the class types of XGBClassifier from XGBoost and LGBMClassifier from LightGBM:\n",
        "\n",
        "* XGBoost: Displays the class of XGBClassifier\n",
        "* LightGBM: Displays the class of LGBMClassifier\n",
        "\n",
        "\n",
        "\n",
        "\n",
        "\n",
        "\n",
        "\n"
      ],
      "metadata": {
        "id": "eUrNCq-o6cen"
      }
    },
    {
      "cell_type": "code",
      "execution_count": null,
      "metadata": {
        "id": "V7opv7dqujGi",
        "colab": {
          "base_uri": "https://localhost:8080/"
        },
        "outputId": "bb5e52da-4bff-421a-a4ad-00912791849c"
      },
      "outputs": [
        {
          "output_type": "stream",
          "name": "stdout",
          "text": [
            "XGBoost: <class 'xgboost.sklearn.XGBClassifier'>\n",
            "LightGBM: <class 'lightgbm.sklearn.LGBMClassifier'>\n"
          ]
        }
      ],
      "source": [
        "from xgboost import XGBClassifier\n",
        "from lightgbm import LGBMClassifier\n",
        "print(\"XGBoost:\", XGBClassifier().__class__)\n",
        "print(\"LightGBM:\", LGBMClassifier().__class__)"
      ]
    },
    {
      "cell_type": "markdown",
      "source": [
        "# Prints Python, Pandas, and NumPy versions.\n",
        "\n",
        "# Tests SHAP with XGBoost, computes SHAP values for a single sample.\n",
        "\n",
        "# Tries loading and displaying a CSV file."
      ],
      "metadata": {
        "id": "PKi5j6x06k1h"
      }
    },
    {
      "cell_type": "code",
      "execution_count": null,
      "metadata": {
        "id": "VJBkEJmOwpSB",
        "colab": {
          "base_uri": "https://localhost:8080/"
        },
        "outputId": "a95cc583-cdac-49cc-a122-0e12c01aabf2"
      },
      "outputs": [
        {
          "output_type": "stream",
          "name": "stdout",
          "text": [
            "Python: 3.11.12 (main, Apr  9 2025, 08:55:54) [GCC 11.4.0]\n",
            "Pandas: 2.2.2\n",
            "Numpy: 2.0.2\n",
            "SHAP values: (1, 5)\n",
            "Upload your data first!\n"
          ]
        }
      ],
      "source": [
        "# TEST 1: Basic Python\n",
        "import sys, pandas as pd, numpy as np\n",
        "print(\"Python:\", sys.version.split('\\n')[0])\n",
        "print(\"Pandas:\", pd.__version__)\n",
        "print(\"Numpy:\", np.__version__)\n",
        "\n",
        "# TEST 2: SHAP/XGBoost\n",
        "from xgboost import XGBClassifier\n",
        "from shap import TreeExplainer\n",
        "X, y = np.random.rand(100, 5), np.random.randint(0, 2, 100)\n",
        "model = XGBClassifier(n_estimators=2).fit(X, y)\n",
        "explainer = TreeExplainer(model)\n",
        "print(\"SHAP values:\", explainer.shap_values(X[:1]).shape)\n",
        "\n",
        "# TEST 3: Data Loading (if applicable)\n",
        "try:\n",
        "    display(pd.read_csv(\"your_data.csv\").head(2))\n",
        "except:\n",
        "    print(\"Upload your data first!\")"
      ]
    },
    {
      "cell_type": "markdown",
      "source": [
        "# This code restarts the Jupyter kernel by injecting JavaScript into the notebook. When executed, it triggers a kernel restart, clearing all variables and resetting the environment.\n",
        "\n",
        "\n",
        "\n",
        "\n",
        "\n",
        "\n",
        "\n"
      ],
      "metadata": {
        "id": "zBXmaUc96pQJ"
      }
    },
    {
      "cell_type": "code",
      "execution_count": null,
      "metadata": {
        "id": "6MrEBaRLwuAT",
        "colab": {
          "base_uri": "https://localhost:8080/",
          "height": 17
        },
        "outputId": "8c369be4-5201-4c82-d8e9-c6b357d2e41b"
      },
      "outputs": [
        {
          "output_type": "execute_result",
          "data": {
            "text/plain": [
              "<IPython.core.display.HTML object>"
            ],
            "text/html": [
              "<script>Jupyter.notebook.kernel.restart()</script>"
            ]
          },
          "metadata": {},
          "execution_count": 32
        }
      ],
      "source": [
        "from IPython.core.display import HTML\n",
        "HTML(\"<script>Jupyter.notebook.kernel.restart()</script>\")"
      ]
    },
    {
      "cell_type": "markdown",
      "source": [
        "# Lists installed packages related to shap, xgboost, pandas, and scikit-learn.\n",
        "\n",
        "\n",
        "\n",
        "\n",
        "\n",
        "\n",
        "\n"
      ],
      "metadata": {
        "id": "bEOzLaVf6ufW"
      }
    },
    {
      "cell_type": "code",
      "execution_count": null,
      "metadata": {
        "id": "vmrINH1qyXEf",
        "colab": {
          "base_uri": "https://localhost:8080/"
        },
        "outputId": "39cd253f-3c2c-4c29-8e0e-cb5ff00ec90d"
      },
      "outputs": [
        {
          "output_type": "stream",
          "name": "stdout",
          "text": [
            "geopandas                             1.0.1\n",
            "pandas                                2.2.2\n",
            "pandas-datareader                     0.10.0\n",
            "pandas-gbq                            0.28.0\n",
            "pandas-stubs                          2.2.2.240909\n",
            "scikit-learn                          1.6.1\n",
            "shap                                  0.47.2\n",
            "shapely                               2.1.0\n",
            "sklearn-pandas                        2.2.0\n",
            "xgboost                               2.1.4\n"
          ]
        }
      ],
      "source": [
        "!pip list | grep -E \"shap|xgboost|pandas|scikit-learn\""
      ]
    },
    {
      "cell_type": "code",
      "execution_count": null,
      "metadata": {
        "id": "pCXT66MTzq1I"
      },
      "outputs": [],
      "source": [
        "%whos"
      ]
    },
    {
      "cell_type": "markdown",
      "source": [
        "# This code splits your dataset into training and test sets using train_test_split. It trains an XGBoost classifier (xgp) on the training data. Then, using SHAP, it computes feature importance and generates a summary plot to visualize the impact of each feature on model predictions.\n",
        "\n",
        "\n",
        "\n",
        "\n",
        "\n",
        "\n",
        "\n"
      ],
      "metadata": {
        "id": "QWMAeOIi6zRc"
      }
    },
    {
      "cell_type": "code",
      "execution_count": null,
      "metadata": {
        "id": "fRjT7RmX0aZK",
        "colab": {
          "base_uri": "https://localhost:8080/",
          "height": 357
        },
        "outputId": "949cbe71-4185-4216-c3e9-0b5482e9c953"
      },
      "outputs": [
        {
          "output_type": "display_data",
          "data": {
            "text/plain": [
              "<Figure size 800x350 with 2 Axes>"
            ],
            "image/png": "[encoded data removed]"
          },
          "metadata": {}
        }
      ],
      "source": [
        "import xgboost as xgb\n",
        "from sklearn.model_selection import train_test_split\n",
        "import shap\n",
        "\n",
        "# Example data split (replace X and y with your data)\n",
        "X_train, X_test, y_train, y_test = train_test_split(X, y, test_size=0.2)\n",
        "\n",
        "# Train your model and name it 'xgp'\n",
        "xgp = xgb.XGBClassifier()\n",
        "xgp.fit(X_train, y_train)\n",
        "\n",
        "# Initialize SHAP\n",
        "explainer = shap.TreeExplainer(xgp)\n",
        "shap_values = explainer.shap_values(X_test)\n",
        "\n",
        "# Plot feature importance\n",
        "shap.summary_plot(shap_values, X_test)\n"
      ]
    }
  ],
  "metadata": {
    "accelerator": "GPU",
    "colab": {
      "gpuType": "T4",
      "provenance": []
    },
    "kernelspec": {
      "display_name": "Python 3",
      "name": "python3"
    },
    "language_info": {
      "name": "python"
    }
  },
  "nbformat": 4,
  "nbformat_minor": 0
}